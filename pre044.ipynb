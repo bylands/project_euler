{
 "cells": [
  {
   "cell_type": "code",
   "execution_count": null,
   "metadata": {},
   "outputs": [],
   "source": [
    "'''\n",
    "Project Euler Problem 044: Pentagon Numbers\n",
    "'''"
   ]
  },
  {
   "cell_type": "code",
   "execution_count": null,
   "metadata": {},
   "outputs": [],
   "source": [
    "from functools import lru_cache\n",
    "import sympy as sp"
   ]
  },
  {
   "cell_type": "code",
   "execution_count": null,
   "metadata": {},
   "outputs": [],
   "source": [
    "def penta(n):\n",
    "    return n*(3*n-1)//2\n",
    "\n",
    "\n",
    "@lru_cache\n",
    "def is_penta_brute(P, nmax):\n",
    "    plist = [penta(n) for n in range(1, nmax+1)]\n",
    "    if P in plist:\n",
    "        return plist.index(P) + 1\n",
    "    else:\n",
    "        return False\n",
    "    \n",
    "\n",
    "def is_square(n):\n",
    "    sqn = int(n**0.5)\n",
    "    for i in range(sqn, sqn+3):\n",
    "        if i**2 == n:\n",
    "            return i\n",
    "    return False\n",
    "\n",
    "\n",
    "def is_penta(P):\n",
    "    if (i := is_square(1 + 24*P)) and ((1+i) % 6 == 0):\n",
    "        return (i+1)//6\n",
    "    return False"
   ]
  },
  {
   "cell_type": "code",
   "execution_count": null,
   "metadata": {},
   "outputs": [],
   "source": [
    "from tqdm import tqdm"
   ]
  },
  {
   "cell_type": "code",
   "execution_count": null,
   "metadata": {},
   "outputs": [],
   "source": [
    "for d in tqdm(range(1, 1200)):\n",
    "    for j in range(1, 5000):\n",
    "        pj, pk = penta(j), penta(j+d)\n",
    "        # print(pj, pk)\n",
    "        if is_penta(pj+pk):\n",
    "            # print(j, j+d, 'sum success!')\n",
    "            if is_penta(pk-pj):\n",
    "                print(j, j+d, 'HEUREKA!')\n"
   ]
  },
  {
   "cell_type": "code",
   "execution_count": null,
   "metadata": {},
   "outputs": [],
   "source": [
    "for j in range(1, 1000):\n",
    "    for k in range(j+1, 1000):\n",
    "        pj, pk = penta(j), penta(k)\n",
    "        if is_penta(pj+pk, j+k):\n",
    "            # print(pj, pk)\n",
    "            if is_penta(pj+pk+pk, j+k+k):\n",
    "                print('success!')"
   ]
  },
  {
   "cell_type": "code",
   "execution_count": null,
   "metadata": {},
   "outputs": [],
   "source": [
    "j = 1912\n",
    "k = 2167\n",
    "Pi = penta(k)-penta(j)\n",
    "Pj = penta(j)\n",
    "Pk = penta(k)\n",
    "Pl = Pj + Pk\n",
    "i = is_penta(Pk-Pj)\n",
    "d = j - i"
   ]
  },
  {
   "cell_type": "code",
   "execution_count": null,
   "metadata": {},
   "outputs": [],
   "source": [
    "is_penta(Pi)"
   ]
  },
  {
   "cell_type": "code",
   "execution_count": null,
   "metadata": {},
   "outputs": [],
   "source": [
    "is_penta(Pl)"
   ]
  },
  {
   "cell_type": "code",
   "execution_count": null,
   "metadata": {},
   "outputs": [],
   "source": [
    "def f(d, i):\n",
    "    return (3*d*(d+2*i)-d)//2"
   ]
  },
  {
   "cell_type": "code",
   "execution_count": null,
   "metadata": {},
   "outputs": [],
   "source": [
    "f(13, 17)"
   ]
  },
  {
   "cell_type": "code",
   "execution_count": null,
   "metadata": {},
   "outputs": [],
   "source": [
    "3*Pi+2*f(d, i)"
   ]
  },
  {
   "cell_type": "code",
   "execution_count": null,
   "metadata": {},
   "outputs": [],
   "source": [
    "(Pl-3*Pi)//2"
   ]
  },
  {
   "cell_type": "code",
   "execution_count": null,
   "metadata": {},
   "outputs": [],
   "source": [
    "f(1, 4)"
   ]
  },
  {
   "cell_type": "code",
   "execution_count": null,
   "metadata": {},
   "outputs": [],
   "source": [
    "for i in range(1, 10):\n",
    "    print(penta(i))"
   ]
  },
  {
   "cell_type": "code",
   "execution_count": null,
   "metadata": {},
   "outputs": [],
   "source": [
    "for i in range(1000, 2000):\n",
    "    print(i, dmax(i))\n",
    "    for d in range(dmax(i)):\n",
    "        Pi = penta(i)\n",
    "        Pj = penta(i+d)\n",
    "        Pk = Pi + Pj\n",
    "        Pl = Pj + Pk\n",
    "        Pm = Pi + Pk\n",
    "        if is_penta(Pk) and (is_penta(Pl) or is_penta(Pm)):\n",
    "            print(f'Pk=P({i})+P({i+d}) and Pk + P({i+2*d}) are pentagonal')"
   ]
  },
  {
   "cell_type": "code",
   "execution_count": null,
   "metadata": {},
   "outputs": [],
   "source": [
    "dmax(1000)"
   ]
  },
  {
   "cell_type": "code",
   "execution_count": null,
   "metadata": {},
   "outputs": [],
   "source": [
    "def imax(d):\n",
    "    return int((7+(73+72*d)**0.5)/6)+1"
   ]
  },
  {
   "cell_type": "code",
   "execution_count": null,
   "metadata": {},
   "outputs": [],
   "source": [
    "imax(50)"
   ]
  },
  {
   "cell_type": "code",
   "execution_count": null,
   "metadata": {},
   "outputs": [],
   "source": [
    "penta(44)+penta(44+892)"
   ]
  },
  {
   "cell_type": "code",
   "execution_count": null,
   "metadata": {},
   "outputs": [],
   "source": [
    "penta(43+893)-penta(43+892)"
   ]
  },
  {
   "cell_type": "code",
   "execution_count": null,
   "metadata": {},
   "outputs": [],
   "source": [
    "penta(43)"
   ]
  },
  {
   "cell_type": "code",
   "execution_count": null,
   "metadata": {},
   "outputs": [],
   "source": [
    "16*(3*16-1)//2"
   ]
  },
  {
   "cell_type": "code",
   "execution_count": null,
   "metadata": {},
   "outputs": [],
   "source": [
    "i, d = sp.symbols('i d')"
   ]
  },
  {
   "cell_type": "code",
   "execution_count": null,
   "metadata": {},
   "outputs": [],
   "source": [
    "eqn = (i+d+1)*(3*(i+d+1)-1)-i*(3*i-1)-(i+d)*(3*(i+d)-1)"
   ]
  },
  {
   "cell_type": "code",
   "execution_count": null,
   "metadata": {},
   "outputs": [],
   "source": [
    "eqn.simplify()"
   ]
  },
  {
   "cell_type": "code",
   "execution_count": null,
   "metadata": {},
   "outputs": [],
   "source": [
    "sp.solve(eqn, d)"
   ]
  },
  {
   "cell_type": "code",
   "execution_count": null,
   "metadata": {},
   "outputs": [],
   "source": [
    "def dmax(i):\n",
    "    return (3*i**2 - 7*i - 2)//6"
   ]
  },
  {
   "cell_type": "code",
   "execution_count": null,
   "metadata": {},
   "outputs": [],
   "source": [
    "dmax(100)"
   ]
  },
  {
   "cell_type": "code",
   "execution_count": null,
   "metadata": {},
   "outputs": [],
   "source": []
  }
 ],
 "metadata": {
  "language_info": {
   "name": "python",
   "pygments_lexer": "ipython3"
  }
 },
 "nbformat": 4,
 "nbformat_minor": 2
}
