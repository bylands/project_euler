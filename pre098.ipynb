{
 "cells": [
  {
   "cell_type": "code",
   "execution_count": null,
   "metadata": {},
   "outputs": [],
   "source": [
    "'''\n",
    "Project Euler Problem 098: Anagramic Squares\n",
    "'''"
   ]
  },
  {
   "cell_type": "code",
   "execution_count": null,
   "metadata": {},
   "outputs": [],
   "source": [
    "import csv\n",
    "\n",
    "with open('euler_ressources/0098_anagramic_squares.txt') as csvfile:\n",
    "    words = [row for row in csv.reader(csvfile)][0]"
   ]
  },
  {
   "cell_type": "code",
   "execution_count": null,
   "metadata": {},
   "outputs": [],
   "source": [
    "from math import isqrt\n",
    "from collections import Counter"
   ]
  },
  {
   "cell_type": "code",
   "execution_count": null,
   "metadata": {},
   "outputs": [],
   "source": [
    "def squares(n):\n",
    "    start = s if (s:=isqrt(10**(n-1)))**2 == 10**(n-1) else s + 1\n",
    "    end = isqrt(10**(n))\n",
    "\n",
    "    sq = []\n",
    "    sq_sigs = []\n",
    "    \n",
    "    for i in range(start, end):\n",
    "        if isqrt(i*i) == i:\n",
    "            sig = sorted(list(str(i*i)))\n",
    "            if sig in sq_sigs:\n",
    "                sq.append(i*i)\n",
    "            else:\n",
    "                sq_sigs.append(sig)\n",
    "                \n",
    "    return sq"
   ]
  },
  {
   "cell_type": "code",
   "execution_count": null,
   "metadata": {},
   "outputs": [],
   "source": [
    "squares(4)"
   ]
  },
  {
   "cell_type": "code",
   "execution_count": null,
   "metadata": {},
   "outputs": [],
   "source": [
    "maxlen = max(words, key=lambda x: len(x))\n",
    "sqdict = {}\n",
    "\n",
    "for i, w in enumerate(words, start=1):\n",
    "    for v in words[i:]:\n",
    "        if Counter(v) == Counter(w):\n",
    "            n = len(w)\n",
    "            \n",
    "            if n not in sqdict:\n",
    "                sqdict[n] = squares(n)\n",
    "                sqsig[n] = get_sqsig(sqdict[n])\n",
    "\n",
    "            if get_wordsig(w) in sqsig[n]:"
   ]
  },
  {
   "cell_type": "code",
   "execution_count": null,
   "metadata": {},
   "outputs": [],
   "source": [
    "get_squares(3)"
   ]
  },
  {
   "cell_type": "code",
   "execution_count": null,
   "metadata": {},
   "outputs": [],
   "source": [
    "maxlen = max(map(len, words))"
   ]
  },
  {
   "cell_type": "code",
   "execution_count": null,
   "metadata": {},
   "outputs": [],
   "source": [
    "maxlen"
   ]
  },
  {
   "cell_type": "code",
   "execution_count": null,
   "metadata": {},
   "outputs": [],
   "source": []
  }
 ],
 "metadata": {
  "language_info": {
   "name": "python",
   "pygments_lexer": "ipython3"
  }
 },
 "nbformat": 4,
 "nbformat_minor": 4
}
