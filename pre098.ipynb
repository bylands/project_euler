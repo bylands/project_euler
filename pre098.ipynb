{
 "cells": [
  {
   "cell_type": "code",
   "execution_count": null,
   "metadata": {},
   "outputs": [],
   "source": [
    "'''\n",
    "Project Euler Problem 098: Anagramic Squares\n",
    "'''"
   ]
  },
  {
   "cell_type": "code",
   "execution_count": null,
   "metadata": {},
   "outputs": [],
   "source": [
    "import datetime"
   ]
  },
  {
   "cell_type": "code",
   "execution_count": null,
   "metadata": {},
   "outputs": [],
   "source": [
    "import csv\n",
    "\n",
    "with open('euler_ressources/0098_anagramic_squares.txt') as csvfile:\n",
    "    words = [row for row in csv.reader(csvfile)][0]"
   ]
  },
  {
   "cell_type": "code",
   "execution_count": null,
   "metadata": {},
   "outputs": [],
   "source": [
    "from math import isqrt\n",
    "from collections import Counter"
   ]
  },
  {
   "cell_type": "code",
   "execution_count": null,
   "metadata": {},
   "outputs": [],
   "source": [
    "def is_square(n):\n",
    "    return isqrt(n)**2 == n"
   ]
  },
  {
   "cell_type": "code",
   "execution_count": null,
   "metadata": {},
   "outputs": [],
   "source": [
    "def squares(n):\n",
    "    start = s if (s:=isqrt(10**(n-1)))**2 == 10**(n-1) else s + 1\n",
    "    end = isqrt(10**(n))\n",
    "\n",
    "    sq = []\n",
    "    sq_sigs = {}\n",
    "    \n",
    "    for i in range(start, end):\n",
    "        if isqrt(i*i) == i:\n",
    "            sig = ''.join(sorted(list(str(i*i))))\n",
    "            if sig in sq_sigs:\n",
    "                if (first:=sq_sigs[sig]) not in sq:\n",
    "                    sq.append(first)\n",
    "                sq.append(i*i)\n",
    "            else:\n",
    "                sq_sigs[sig] = i*i\n",
    "                \n",
    "    return sq"
   ]
  },
  {
   "cell_type": "code",
   "execution_count": null,
   "metadata": {},
   "outputs": [],
   "source": [
    "def get_sig(sqlist):\n",
    "    return [list(Counter(str(i)).values()) for i in sqlist]"
   ]
  },
  {
   "cell_type": "code",
   "execution_count": null,
   "metadata": {},
   "outputs": [],
   "source": [
    "sqdict = {}\n",
    "sigdict = {}\n",
    "sqmax = 0\n",
    "\n",
    "for i, w in enumerate(words, start=1):\n",
    "    for v in words[i:]:\n",
    "        if Counter(v) == Counter(w):\n",
    "            n = len(w)\n",
    "            \n",
    "            if n not in sqdict:\n",
    "                sqdict[n] = squares(n)\n",
    "                sigdict[n] = get_sig(sqdict[n])\n",
    "\n",
    "            for i, sd in enumerate(sigdict[n]):\n",
    "                if list(Counter(v).values()) == sd:\n",
    "                    s = sqdict[n][i]\n",
    "                    translate = {c: d for c, d in zip(list(v), list(str(s)))}\n",
    "                    test = ''\n",
    "                    for c in w:\n",
    "                        test += translate[c]\n",
    "                    if is_square(itest:=int(test)) and test[0] != '0':\n",
    "                        if (m:=max(s, itest)) > sqmax:\n",
    "                            sqmax = m\n",
    "                            # print(v, w, sqdict[n][i], m)\n",
    "\n",
    "print(f'The solution of Problem 98 is {sqmax}')"
   ]
  },
  {
   "cell_type": "code",
   "execution_count": null,
   "metadata": {},
   "outputs": [],
   "source": []
  }
 ],
 "metadata": {
  "language_info": {
   "name": "python",
   "pygments_lexer": "ipython3"
  }
 },
 "nbformat": 4,
 "nbformat_minor": 4
}
