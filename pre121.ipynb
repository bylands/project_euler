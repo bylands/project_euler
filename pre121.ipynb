{
 "cells": [
  {
   "cell_type": "code",
   "execution_count": null,
   "metadata": {},
   "outputs": [],
   "source": [
    "'''\n",
    "Project Euler Problem 121: Disc Game Prize Fund\n",
    "'''"
   ]
  },
  {
   "cell_type": "code",
   "execution_count": null,
   "metadata": {},
   "outputs": [],
   "source": [
    "def solve(steps, blue, prob, plist):\n",
    "    tree = [1]\n",
    "\n",
    "    for n in range(steps):\n",
    "        for i in tree[0]:\n",
    "            tree.append([])\n",
    "            \n",
    "    "
   ]
  },
  {
   "cell_type": "code",
   "execution_count": null,
   "metadata": {},
   "outputs": [],
   "source": [
    "def rmax(a):\n",
    "    rm = 0\n",
    "\n",
    "    for n in range(1, 2*a+1):\n",
    "        rm = max(remainder(a, n), rm)\n",
    "\n",
    "    return rm"
   ]
  },
  {
   "cell_type": "code",
   "execution_count": null,
   "metadata": {},
   "outputs": [],
   "source": [
    "sol = 0\n",
    "\n",
    "for a in range(3, 1001):\n",
    "    sol += rmax(a)\n",
    "\n",
    "print(sol)"
   ]
  },
  {
   "cell_type": "code",
   "execution_count": null,
   "metadata": {},
   "outputs": [],
   "source": [
    "def rmax2(a):\n",
    "    if a % 2 == 0:\n",
    "        return a*(a-2)\n",
    "    else:\n",
    "        return a*(a-1)"
   ]
  },
  {
   "cell_type": "code",
   "execution_count": null,
   "metadata": {},
   "outputs": [],
   "source": [
    "sol = 0\n",
    "\n",
    "for a in range(3, 1001):\n",
    "    sol += rmax2(a)\n",
    "\n",
    "print(sol)"
   ]
  },
  {
   "cell_type": "code",
   "execution_count": null,
   "metadata": {},
   "outputs": [],
   "source": [
    "(9+25) % 16"
   ]
  },
  {
   "cell_type": "code",
   "execution_count": null,
   "metadata": {},
   "outputs": [],
   "source": []
  },
  {
   "cell_type": "code",
   "execution_count": null,
   "metadata": {},
   "outputs": [],
   "source": []
  }
 ],
 "metadata": {
  "language_info": {
   "name": "python",
   "pygments_lexer": "ipython3"
  }
 },
 "nbformat": 4,
 "nbformat_minor": 4
}
