{
 "cells": [
  {
   "cell_type": "code",
   "execution_count": null,
   "metadata": {},
   "outputs": [],
   "source": [
    "'''\n",
    "Project Euler Problem 057: Square Root Convergents\n",
    "'''"
   ]
  },
  {
   "cell_type": "code",
   "execution_count": null,
   "metadata": {},
   "outputs": [],
   "source": [
    "def get_fraction(a, b):\n",
    "    return (a+b, a)"
   ]
  },
  {
   "cell_type": "code",
   "execution_count": null,
   "metadata": {},
   "outputs": [],
   "source": [
    "N = 1000\n",
    "\n",
    "a = 2\n",
    "b = 1\n",
    "\n",
    "exceeds = 0\n",
    "\n",
    "for i in range(N):\n",
    "    a, b = 2*a+b, a\n",
    "    c, d = get_fraction(a, b)\n",
    "    if len(str(c)) > len(str(d)):\n",
    "        exceeds += 1\n",
    "\n",
    "print(exceeds)"
   ]
  },
  {
   "cell_type": "code",
   "execution_count": null,
   "metadata": {},
   "outputs": [],
   "source": []
  }
 ],
 "metadata": {
  "language_info": {
   "name": "python",
   "pygments_lexer": "ipython3"
  }
 },
 "nbformat": 4,
 "nbformat_minor": 2
}
