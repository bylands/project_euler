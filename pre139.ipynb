{
 "cells": [
  {
   "cell_type": "code",
   "execution_count": null,
   "metadata": {},
   "outputs": [],
   "source": [
    "'''\n",
    "Project Euler Problem 139: Pythagorean Tiles\n",
    "'''"
   ]
  },
  {
   "cell_type": "code",
   "execution_count": null,
   "metadata": {},
   "outputs": [],
   "source": [
    "from math import gcd\n",
    "from math import isqrt"
   ]
  },
  {
   "cell_type": "code",
   "execution_count": null,
   "metadata": {},
   "outputs": [],
   "source": [
    "def triple(m, n):\n",
    "    a, b = m*m, n*n\n",
    "    return (a-b, 2*m*n, a+b)"
   ]
  },
  {
   "cell_type": "code",
   "execution_count": null,
   "metadata": {},
   "outputs": [],
   "source": [
    "lmax = 10000\n",
    "\n",
    "for m in range(2, lmax//3):\n",
    "    for n in (i for i in range(1, m) if gcd(i, m) == 1 and (m+i) % 2 == 1):\n",
    "        a, b, c = triple(m, n)\n",
    "\n",
    "        if c % (b-a) == 0:\n",
    "            if a + b + c < lmax:\n",
    "                print(a, b, c)\n"
   ]
  },
  {
   "cell_type": "code",
   "execution_count": null,
   "metadata": {},
   "outputs": [],
   "source": [
    "lmax = 100_000_000\n",
    "\n",
    "a_lst = [3, 21, 119]\n",
    "b_lst = [4, 20, 120]\n",
    "c_lst = [5, 29, 169]\n",
    "\n",
    "i = 3\n",
    "\n",
    "while True:\n",
    "    a = 6*a_lst[i-1] - a_lst[i-2] + 4*(-1)**(i+1)\n",
    "    b = 6*b_lst[i-1] - b_lst[i-2] + 4*(-1)**(i)\n",
    "    c = 6*c_lst[i-1] - c_lst[i-2]\n",
    "\n",
    "    if a + b + c < lmax:\n",
    "        a_lst.append(a)\n",
    "        b_lst.append(b)\n",
    "        c_lst.append(c)\n",
    "\n",
    "        i += 1\n",
    "    else:\n",
    "        break\n",
    "\n",
    "counts = []\n",
    "\n",
    "for a, b, c in zip(a_lst, b_lst, c_lst):\n",
    "    counts.append(lmax // (a+b+c))\n",
    "\n",
    "print(f'The number of Pythagorean Tiles with circumference less than {lmax} is {sum(counts)}')"
   ]
  },
  {
   "cell_type": "code",
   "execution_count": null,
   "metadata": {},
   "outputs": [],
   "source": []
  }
 ],
 "metadata": {
  "language_info": {
   "name": "python",
   "pygments_lexer": "ipython3"
  }
 },
 "nbformat": 4,
 "nbformat_minor": 4
}
