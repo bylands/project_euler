{
 "cells": [
  {
   "cell_type": "code",
   "execution_count": null,
   "metadata": {},
   "outputs": [],
   "source": [
    "'''\n",
    "Project Euler Problem 039: Integer Right Triangles\n",
    "'''"
   ]
  },
  {
   "cell_type": "code",
   "execution_count": null,
   "metadata": {},
   "outputs": [],
   "source": [
    "def numsols(p):\n",
    "    n = 0\n",
    "    sols = []\n",
    "    for i in range(1, p):\n",
    "        for j in range(i, p):\n",
    "            k = p - i - j\n",
    "            if i**2 + j**2 == k**2:\n",
    "                sols.append([i, j, k])\n",
    "                n += 1\n",
    "\n",
    "    return n, sols"
   ]
  },
  {
   "cell_type": "code",
   "execution_count": null,
   "metadata": {},
   "outputs": [],
   "source": [
    "pmax = 1000\n",
    "\n",
    "solslist = []\n",
    "for i in range(2, pmax+1, 2):\n",
    "    n, _ = numsols(i)\n",
    "    if n > 0:\n",
    "        solslist.append([i, n])\n",
    "\n",
    "maxval = max(solslist, key=lambda x: x[1])\n",
    "\n",
    "print(f'The number of integer right triangles with perimeter less than {pmax} is for {maxval[0]}.')\n",
    "print(f'There are {maxval[1]} solutions.')\n"
   ]
  },
  {
   "cell_type": "code",
   "execution_count": null,
   "metadata": {},
   "outputs": [],
   "source": []
  }
 ],
 "metadata": {
  "language_info": {
   "name": "python",
   "pygments_lexer": "ipython3"
  }
 },
 "nbformat": 4,
 "nbformat_minor": 2
}
