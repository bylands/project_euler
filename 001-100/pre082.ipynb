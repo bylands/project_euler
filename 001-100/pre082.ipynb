{
 "cells": [
  {
   "cell_type": "code",
   "execution_count": null,
   "metadata": {},
   "outputs": [],
   "source": [
    "'''\n",
    "Project Euler Problem 082: Path Sum: Three Ways\n",
    "'''"
   ]
  },
  {
   "cell_type": "code",
   "execution_count": null,
   "metadata": {},
   "outputs": [],
   "source": [
    "import csv"
   ]
  },
  {
   "cell_type": "code",
   "execution_count": null,
   "metadata": {},
   "outputs": [],
   "source": [
    "matrix_small = [[131, 673, 234, 103, 18],\n",
    "          [201, 96, 342, 965, 150], \n",
    "          [630, 803, 746, 422, 111],\n",
    "          [537, 699, 497, 121, 956],\n",
    "          [805, 732, 524, 37, 331]]"
   ]
  },
  {
   "cell_type": "code",
   "execution_count": null,
   "metadata": {},
   "outputs": [],
   "source": [
    "with open('euler_ressources/0082_matrix.txt') as csvfile:\n",
    "    matrix = [list(map(int, row)) for row in csv.reader(csvfile, delimiter=',')]"
   ]
  },
  {
   "cell_type": "code",
   "execution_count": null,
   "metadata": {},
   "outputs": [],
   "source": [
    "def three_ways(matrix):\n",
    "    N = len(matrix)\n",
    "    M = len(matrix[0])\n",
    "\n",
    "    sol = [[0] * M for _ in range(N)]\n",
    "    for i in range(N):\n",
    "        sol[i][0] = matrix[i][0]\n",
    "\n",
    "    for j in range(1, M):\n",
    "        for i in range(N):\n",
    "            if i == 0:\n",
    "                sol[i][j] = min([sum([matrix[l][j] for l in range(i, k+1)])+sol[k][j-1] for k in range(i, N)])\n",
    "            else:\n",
    "                sol[i][j] = min(min([sum([matrix[l][j] for l in range(i, k+1)])+sol[k][j-1] for k in range(i, N)]),\n",
    "                                matrix[i][j]+sol[i-1][j])\n",
    "    \n",
    "    return min([s[M-1] for s in sol])"
   ]
  },
  {
   "cell_type": "code",
   "execution_count": null,
   "metadata": {},
   "outputs": [],
   "source": [
    "sol = three_ways(matrix)\n",
    "print(f'The minimal path sum is {sol}.')"
   ]
  },
  {
   "cell_type": "code",
   "execution_count": null,
   "metadata": {},
   "outputs": [],
   "source": []
  }
 ],
 "metadata": {
  "language_info": {
   "name": "python",
   "pygments_lexer": "ipython3"
  }
 },
 "nbformat": 4,
 "nbformat_minor": 2
}
