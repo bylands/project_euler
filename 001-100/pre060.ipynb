{
 "cells": [
  {
   "cell_type": "code",
   "execution_count": null,
   "metadata": {},
   "outputs": [],
   "source": [
    "'''\n",
    "Project Euler Problem 060: Prime Pair Sets\n",
    "'''"
   ]
  },
  {
   "cell_type": "code",
   "execution_count": null,
   "metadata": {},
   "outputs": [],
   "source": [
    "import sympy as sp\n",
    "from math import log10"
   ]
  },
  {
   "cell_type": "code",
   "execution_count": null,
   "metadata": {},
   "outputs": [],
   "source": [
    "def cycletest(primetuple, prime):\n",
    "    prime_digs = int(log10(prime))+1\n",
    "    for p in primetuple:\n",
    "        p_digs = int(log10(prime))+1\n",
    "        if not (sp.isprime(prime*10**p_digs+p) and sp.isprime(p*10**prime_digs+prime)):\n",
    "            return False\n",
    "    return True\n",
    "\n",
    "cycletest([13, 5197], 5701)"
   ]
  },
  {
   "cell_type": "code",
   "execution_count": null,
   "metadata": {},
   "outputs": [],
   "source": [
    "sp.isprime(570113)"
   ]
  },
  {
   "cell_type": "code",
   "execution_count": null,
   "metadata": {},
   "outputs": [],
   "source": [
    "Nmax = 2000\n",
    "cycle_len = 5\n",
    "\n",
    "primetuples = []\n",
    "\n",
    "for i in range(1, Nmax):\n",
    "    prime = str(sp.prime(i))\n",
    "\n",
    "    for pt in primetuples:\n",
    "        if cycletest(pt, prime):\n",
    "            primetuples.append(pt+[prime])\n",
    "    primetuples.append([prime])\n",
    "\n",
    "for pt in primetuples:\n",
    "    if len(pt) == cycle_len:\n",
    "        print(pt)"
   ]
  },
  {
   "cell_type": "code",
   "execution_count": null,
   "metadata": {},
   "outputs": [],
   "source": [
    "cycle_len = 5\n",
    "\n",
    "for pt in primetuples:\n",
    "    if len(pt) == cycle_len:\n",
    "        print(sum([int(p) for p in pt]), pt)"
   ]
  },
  {
   "cell_type": "code",
   "execution_count": null,
   "metadata": {},
   "outputs": [],
   "source": [
    "primetuples"
   ]
  },
  {
   "cell_type": "code",
   "execution_count": null,
   "metadata": {},
   "outputs": [],
   "source": []
  }
 ],
 "metadata": {
  "language_info": {
   "name": "python",
   "pygments_lexer": "ipython3"
  }
 },
 "nbformat": 4,
 "nbformat_minor": 2
}
