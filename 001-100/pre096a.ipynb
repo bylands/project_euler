{
 "cells": [
  {
   "cell_type": "code",
   "execution_count": null,
   "metadata": {},
   "outputs": [],
   "source": [
    "'''\n",
    "Project Euler Problem 096a: Su Doku with variable dimension\n",
    "'''"
   ]
  },
  {
   "cell_type": "code",
   "execution_count": null,
   "metadata": {},
   "outputs": [],
   "source": [
    "from math import isqrt\n",
    "from random import sample"
   ]
  },
  {
   "cell_type": "code",
   "execution_count": null,
   "metadata": {},
   "outputs": [],
   "source": [
    "import csv\n",
    "\n",
    "with open('euler_ressources/0096_sudoku.txt') as csvfile:\n",
    "    raw = [row for row in csv.reader(csvfile)]\n",
    "\n",
    "n = len(raw) // 10\n",
    "\n",
    "grids = []\n",
    "\n",
    "for i in range(n):\n",
    "    g = []\n",
    "    for j in range(11):\n",
    "        if j % 10 != 0:\n",
    "            g.append([int(s) for s in list(raw[10*i+j][0])])\n",
    "    grids.append(g)"
   ]
  },
  {
   "cell_type": "code",
   "execution_count": null,
   "metadata": {},
   "outputs": [],
   "source": [
    "def print_grid(g):\n",
    "    d = isqrt(len(g))\n",
    "    \n",
    "    for y, row in enumerate(g):\n",
    "        if y % d == 0 and y != 0:\n",
    "            print('- ' * (d*d+d-1))\n",
    "        for x, col in enumerate(row):\n",
    "            if x % d == 0 and x != 0:\n",
    "                print('| ', end='')\n",
    "            if col < 10:\n",
    "                symbol = col\n",
    "            else:\n",
    "                symbol = chr(55+col)\n",
    "            print(symbol, end=' ')\n",
    "        print()"
   ]
  },
  {
   "cell_type": "code",
   "execution_count": null,
   "metadata": {},
   "outputs": [],
   "source": [
    "def is_valid(g, guess, pos):\n",
    "    d = isqrt(len(g))\n",
    "    \n",
    "    c, r = pos\n",
    "    \n",
    "    # check column c\n",
    "    for row in g:\n",
    "        if row[c] == guess:\n",
    "            return False\n",
    "    \n",
    "    # check row r\n",
    "    for col in g[r]:\n",
    "        if col == guess:\n",
    "            return False\n",
    "\n",
    "    # check square\n",
    "    top = r - r % d\n",
    "    left = c - c % d\n",
    "\n",
    "    for row in range(top, top+d):\n",
    "        for col in range(left, left+d):\n",
    "            if g[row][col] == guess:\n",
    "                return False\n",
    "\n",
    "    return True"
   ]
  },
  {
   "cell_type": "code",
   "execution_count": null,
   "metadata": {},
   "outputs": [],
   "source": [
    "def next_empty(grid):\n",
    "    for y, row in enumerate(grid):\n",
    "        for x, col in enumerate(row):\n",
    "            if col == 0:\n",
    "                return (x, y)\n",
    "    return None            "
   ]
  },
  {
   "cell_type": "code",
   "execution_count": null,
   "metadata": {},
   "outputs": [],
   "source": [
    "def solve(grid):\n",
    "    nmax = len(grid)\n",
    "    \n",
    "    if not (pos:=next_empty(grid)):\n",
    "        return True\n",
    "\n",
    "    sequence = sample(range(1, nmax+1), nmax)\n",
    "    \n",
    "    for i in sequence:\n",
    "        if is_valid(grid, i, pos):\n",
    "            col, row = pos\n",
    "            grid[row][col] = i\n",
    "\n",
    "            if solve(grid):\n",
    "                return True\n",
    "\n",
    "            grid[row][col] = 0\n",
    "            \n",
    "    return False"
   ]
  },
  {
   "cell_type": "code",
   "execution_count": null,
   "metadata": {},
   "outputs": [],
   "source": [
    "g2 = [[0, 0, 0, 0], \n",
    "      [0, 0, 0, 0], \n",
    "      [0, 0, 0, 0], \n",
    "      [0, 0, 0, 0]]\n",
    "\n",
    "g3 = [[0]*9, [0]*9, [0]*9, \n",
    "      [0]*9, [0]*9, [0]*9, \n",
    "      [0]*9, [0]*9, [0]*9]\n",
    "\n",
    "g4 = [[0, 0, 3, 0, 0, 0, 4, 11, 14, 2, 0, 0, 0, 0, 0, 0],\n",
    "      [0, 4, 0, 7, 0, 16, 0, 15, 12, 0, 0, 0, 0, 0, 13, 9],\n",
    "      [0, 0, 14, 15, 12, 0, 0, 13, 0, 0, 0, 0, 0, 11, 16, 0],\n",
    "      [0, 11, 0, 0, 7, 0, 0, 6, 3, 8, 0, 0, 0, 0, 10, 0],\n",
    "      [0, 16, 11, 0, 0, 0, 10, 2, 1, 0, 0, 0, 0, 0, 0, 14],\n",
    "      [10, 0, 0, 2, 1, 12, 0, 0, 6, 0, 0, 13, 0, 0, 0, 5],\n",
    "      [8, 0, 0, 0, 0, 0, 0, 0, 0, 0, 0, 7, 16, 0, 6, 12],\n",
    "      [0, 0, 13, 9, 6, 5, 0, 0, 2, 0, 0, 11, 0, 0, 0, 0],\n",
    "      [0, 0, 0, 12, 8, 0, 5, 0, 0, 0, 0, 9, 0, 14, 0, 11],\n",
    "      [2, 5, 16, 0, 0, 0, 0, 0, 0, 0, 0, 0, 0, 0, 0, 0],\n",
    "      [0, 14, 0, 1, 9, 0, 12, 4, 13, 0, 6, 0, 0, 0, 0, 7],\n",
    "      [9, 0, 0, 0, 0, 0, 2, 0, 7, 0, 0, 12, 0, 0, 0, 0],\n",
    "      [0, 15, 0, 0, 0, 0, 0, 5, 0, 0, 0, 0, 0, 16, 0, 0],\n",
    "      [13, 10, 0, 0, 4, 6, 1, 0, 5, 0, 11, 0, 0, 0, 7, 0],\n",
    "      [3, 0, 0, 0, 13, 9, 0, 7, 0, 0, 0, 0, 0, 0, 0, 10],\n",
    "      [12, 1, 4, 8, 0, 0, 0, 0, 0, 0, 0, 0, 13, 0, 0, 3]]"
   ]
  },
  {
   "cell_type": "code",
   "execution_count": null,
   "metadata": {},
   "outputs": [],
   "source": [
    "g = g2\n",
    "print_grid(g)\n",
    "print()\n",
    "solve(g)\n",
    "print_grid(g)"
   ]
  },
  {
   "cell_type": "code",
   "execution_count": null,
   "metadata": {},
   "outputs": [],
   "source": []
  }
 ],
 "metadata": {
  "language_info": {
   "name": "python",
   "pygments_lexer": "ipython3"
  }
 },
 "nbformat": 4,
 "nbformat_minor": 4
}
