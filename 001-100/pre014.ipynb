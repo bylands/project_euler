{
 "cells": [
  {
   "cell_type": "code",
   "execution_count": null,
   "metadata": {},
   "outputs": [],
   "source": [
    "'''\n",
    "Project Euler Problem 014: Longest Collatz Sequence\n",
    "'''"
   ]
  },
  {
   "cell_type": "code",
   "execution_count": null,
   "metadata": {},
   "outputs": [],
   "source": [
    "def collatz(n):\n",
    "    seq = [n]\n",
    "    while n != 1:\n",
    "        n = 3*n+1 if n % 2 else n//2\n",
    "        seq.append(n)\n",
    "    return(seq)"
   ]
  },
  {
   "cell_type": "code",
   "execution_count": null,
   "metadata": {},
   "outputs": [],
   "source": [
    "nmax = 1000000\n",
    "\n",
    "maxlen = 0\n",
    "imax = 1\n",
    "maxseq = []\n",
    "\n",
    "for i in range(1, nmax):\n",
    "    c = collatz(i)\n",
    "    # print(i, c, len(c))\n",
    "    if len(c) > maxlen:\n",
    "        imax = i\n",
    "        maxlen = len(c)\n",
    "        maxseq = c\n",
    "    \n",
    "print(f'Longest Collatz Sequence with a starting number below {nmax}')\n",
    "print(f'n = {imax}, length {maxlen}')\n",
    "print(f'{maxseq}')"
   ]
  },
  {
   "cell_type": "code",
   "execution_count": null,
   "metadata": {},
   "outputs": [],
   "source": []
  }
 ],
 "metadata": {
  "language_info": {
   "name": "python",
   "pygments_lexer": "ipython3"
  }
 },
 "nbformat": 4,
 "nbformat_minor": 2
}
