{
 "cells": [
  {
   "cell_type": "code",
   "execution_count": null,
   "metadata": {},
   "outputs": [],
   "source": [
    "'''\n",
    "Project Euler Problem 027: Quadratic Primes\n",
    "'''"
   ]
  },
  {
   "cell_type": "code",
   "execution_count": null,
   "metadata": {},
   "outputs": [],
   "source": [
    "import sympy as sp\n",
    "from sympy.ntheory.primetest import isprime"
   ]
  },
  {
   "cell_type": "code",
   "execution_count": null,
   "metadata": {},
   "outputs": [],
   "source": [
    "def test(a, b, n):\n",
    "    return isprime(n**2+a*n+b)"
   ]
  },
  {
   "cell_type": "code",
   "execution_count": null,
   "metadata": {},
   "outputs": [],
   "source": [
    "limit = 5000\n",
    "\n",
    "primeslist = []\n",
    "\n",
    "for a in range(-limit, limit+1):\n",
    "    for b in range(-limit, limit+1):\n",
    "        primes = 0\n",
    "        while test(a, b, primes):\n",
    "            primes += 1\n",
    "        primeslist.append([(a, b), primes])\n"
   ]
  },
  {
   "cell_type": "code",
   "execution_count": null,
   "metadata": {},
   "outputs": [],
   "source": [
    "primeslist = sorted(primeslist, key=lambda x: x[1], reverse=True)\n",
    "\n",
    "solution = primeslist[0]\n",
    "a, b = solution[0]\n",
    "l = solution[1]\n",
    "\n",
    "print(f'The longest sequence ({l}) of prime numbers can be found for {a = } and {b = }')\n",
    "print(f'The product of a and b is {a*b}.')"
   ]
  },
  {
   "cell_type": "code",
   "execution_count": null,
   "metadata": {},
   "outputs": [],
   "source": [
    "solution"
   ]
  },
  {
   "cell_type": "code",
   "execution_count": null,
   "metadata": {},
   "outputs": [],
   "source": []
  }
 ],
 "metadata": {
  "language_info": {
   "name": "python",
   "pygments_lexer": "ipython3"
  }
 },
 "nbformat": 4,
 "nbformat_minor": 2
}
