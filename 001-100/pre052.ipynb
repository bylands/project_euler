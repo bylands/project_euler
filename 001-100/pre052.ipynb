{
 "cells": [
  {
   "cell_type": "code",
   "execution_count": null,
   "metadata": {},
   "outputs": [],
   "source": [
    "'''\n",
    "Project Euler Problem 052: Permuted Multiples\n",
    "'''"
   ]
  },
  {
   "cell_type": "code",
   "execution_count": null,
   "metadata": {},
   "outputs": [],
   "source": [
    "def same_digits(nlist):\n",
    "    reference = sorted(list(str(nlist[0])))\n",
    "    for n in nlist[1:]:\n",
    "        if sorted(list(str(n))) != reference:\n",
    "            return False\n",
    "    return True"
   ]
  },
  {
   "cell_type": "code",
   "execution_count": null,
   "metadata": {},
   "outputs": [],
   "source": [
    "same_digits([123, 321, 132])"
   ]
  },
  {
   "cell_type": "code",
   "execution_count": null,
   "metadata": {},
   "outputs": [],
   "source": [
    "digits = 7\n",
    "multiples = [1, 2, 3, 4, 5, 6]\n",
    "\n",
    "upper = 10**digits//max(multiples)\n",
    "\n",
    "for n in range(1, upper):\n",
    "    candidates = [m * n for m in multiples]\n",
    "    # print(candidates)\n",
    "\n",
    "    if same_digits(candidates):\n",
    "        print(f'The smalles integer to fulfill this condition is {min(candidates)}')\n",
    "        break"
   ]
  },
  {
   "cell_type": "code",
   "execution_count": null,
   "metadata": {},
   "outputs": [],
   "source": []
  }
 ],
 "metadata": {
  "language_info": {
   "name": "python",
   "pygments_lexer": "ipython3"
  }
 },
 "nbformat": 4,
 "nbformat_minor": 2
}
