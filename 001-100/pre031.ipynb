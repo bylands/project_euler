{
 "cells": [
  {
   "cell_type": "code",
   "execution_count": null,
   "metadata": {},
   "outputs": [],
   "source": [
    "'''\n",
    "Project Euler Problem 031: Coin Sums\n",
    "'''"
   ]
  },
  {
   "cell_type": "code",
   "execution_count": null,
   "metadata": {},
   "outputs": [],
   "source": [
    "def countsol(total, coins):\n",
    "    '''\n",
    "    Find the number of ways to change a total amount using coins.\n",
    "    Method only works if 1 is in coins.\n",
    "    '''\n",
    "    ncoins = len(coins)\n",
    "\n",
    "    table = [[0]*ncoins for i in range(total+1)]\n",
    "    table[0] = [1]*ncoins\n",
    "    for t in table:\n",
    "        t[0] = 1\n",
    "    \n",
    "    for i in range(1, total+1):\n",
    "        for j, c in enumerate(coins[1:], 1):\n",
    "            table[i][j] = table[i][j-1]\n",
    "            if i >= c:\n",
    "                table[i][j] += table[i-c][j]\n",
    "    return(table)"
   ]
  },
  {
   "cell_type": "code",
   "execution_count": null,
   "metadata": {},
   "outputs": [],
   "source": [
    "total = 10\n",
    "coins = [1, 2, 5, 10]\n",
    "\n",
    "table = countsol(total, coins)\n",
    "solution = table[-1][-1]\n",
    "\n",
    "print(f'There are {solution} ways to get the sum {total} with coins {coins}.')\n"
   ]
  },
  {
   "cell_type": "code",
   "execution_count": null,
   "metadata": {},
   "outputs": [],
   "source": []
  }
 ],
 "metadata": {
  "language_info": {
   "name": "python",
   "pygments_lexer": "ipython3"
  }
 },
 "nbformat": 4,
 "nbformat_minor": 2
}
