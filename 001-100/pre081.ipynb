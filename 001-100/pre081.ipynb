{
 "cells": [
  {
   "cell_type": "code",
   "execution_count": null,
   "metadata": {},
   "outputs": [],
   "source": [
    "'''\n",
    "Project Euler Problem 081: Path Sum: Two Ways\n",
    "'''"
   ]
  },
  {
   "cell_type": "code",
   "execution_count": null,
   "metadata": {},
   "outputs": [],
   "source": [
    "import csv"
   ]
  },
  {
   "cell_type": "code",
   "execution_count": null,
   "metadata": {},
   "outputs": [],
   "source": [
    "with open('euler_ressources/0081_matrix.txt') as csvfile:\n",
    "    matrix = [list(map(int, row)) for row in csv.reader(csvfile, delimiter=',')]"
   ]
  },
  {
   "cell_type": "code",
   "execution_count": null,
   "metadata": {},
   "outputs": [],
   "source": [
    "matrix = [[1, 2, 3], [4, 5, 6], [7, 8, 9]]"
   ]
  },
  {
   "cell_type": "code",
   "execution_count": null,
   "metadata": {},
   "outputs": [],
   "source": [
    "n = len(matrix)\n",
    "m = len(matrix[0])\n",
    "\n",
    "for j in range(1, m):\n",
    "    matrix[0][j] += matrix[0][j-1]\n",
    "\n",
    "for i in range(1, n):\n",
    "    matrix[i][0] += matrix[i-1][0]\n",
    "    for j in range(1, m):\n",
    "        matrix[i][j] += min(matrix[i-1][j], matrix[i][j-1])\n",
    "\n",
    "matrix[-1][-1]"
   ]
  },
  {
   "cell_type": "code",
   "execution_count": null,
   "metadata": {},
   "outputs": [],
   "source": []
  }
 ],
 "metadata": {
  "language_info": {
   "name": "python",
   "pygments_lexer": "ipython3"
  }
 },
 "nbformat": 4,
 "nbformat_minor": 2
}
