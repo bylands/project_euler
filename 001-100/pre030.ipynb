{
 "cells": [
  {
   "cell_type": "code",
   "execution_count": null,
   "metadata": {},
   "outputs": [],
   "source": [
    "'''\n",
    "Project Euler Problem 030: Digit Fifth Powers\n",
    "'''"
   ]
  },
  {
   "cell_type": "code",
   "execution_count": null,
   "metadata": {},
   "outputs": [],
   "source": [
    "from functools import lru_cache"
   ]
  },
  {
   "cell_type": "code",
   "execution_count": null,
   "metadata": {},
   "outputs": [],
   "source": [
    "@lru_cache\n",
    "def digitpower(n, p):\n",
    "    sn = str(n)\n",
    "    if len(sn) > 1:\n",
    "        return int(sn[-1])**p + digitpower(n//10, p)\n",
    "    else:\n",
    "        return(int(sn))**p"
   ]
  },
  {
   "cell_type": "code",
   "execution_count": null,
   "metadata": {},
   "outputs": [],
   "source": [
    "p = 5\n",
    "\n",
    "digitpowers = [digitpower(i, p) for i in range(2, 10**(p+1)) if digitpower(i, p) == i]\n",
    "\n",
    "print(f'The {len(digitpowers)} numbers that can be written as the sum of the power {p} of its digits are:')\n",
    "print(digitpowers)\n",
    "print(f'Their sum is {sum(digitpowers)}')"
   ]
  },
  {
   "cell_type": "code",
   "execution_count": null,
   "metadata": {},
   "outputs": [],
   "source": []
  }
 ],
 "metadata": {
  "language_info": {
   "name": "python",
   "pygments_lexer": "ipython3"
  }
 },
 "nbformat": 4,
 "nbformat_minor": 2
}
