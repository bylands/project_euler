{
 "cells": [
  {
   "cell_type": "code",
   "execution_count": null,
   "metadata": {},
   "outputs": [],
   "source": [
    "'''\n",
    "Project Euler Problem 017: Number Letter Counts\n",
    "'''"
   ]
  },
  {
   "cell_type": "code",
   "execution_count": null,
   "metadata": {},
   "outputs": [],
   "source": [
    "def nletters(n):\n",
    "        \n",
    "        ones = {0: '', 1: 'one', 2: 'two', 3: 'three', 4: 'four', 5: 'five', 6: 'six', 7: 'seven', \n",
    "                8: 'eight', 9: 'nine'}\n",
    "        tens = {10: 'ten', 11: 'eleven', 12: 'twelve', 13: 'thirteen', 14: 'fourteen', 15: 'fifteen', \n",
    "                16: 'sixteen', 17: 'seventeen', 18: 'eighteen', 19: 'nineteen'}\n",
    "        decades = {0: '', 1: 'ten', 2: 'twenty', 3: 'thirty', 4: 'forty', 5: 'fifty', 6: 'sixty', \n",
    "                   7: 'seventy', 8: 'eighty', 9: 'ninety'}\n",
    "        extra1 = len('hundred')\n",
    "        extra2 = len('hundredand')\n",
    "        extra3 = len('thousand')\n",
    "\n",
    "        if n < 10:\n",
    "                return len(ones[n])\n",
    "        elif n < 20:\n",
    "                return len(tens[n])\n",
    "        elif n < 100:\n",
    "                decade = n // 10\n",
    "                one = n % 10\n",
    "                return len(decades[decade]) + len(ones[one])\n",
    "        elif n < 1000:\n",
    "                hundred = n // 100\n",
    "                decade = (n % 100) // 10\n",
    "                one = n % 10\n",
    "                if decade == 1:\n",
    "                        return len(ones[hundred]) + len(tens[n % 100]) + extra2\n",
    "                elif (decade == 0 and one == 0):\n",
    "                        return len(ones[hundred]) + extra1\n",
    "                else:\n",
    "                        return len(ones[hundred]) + len(decades[decade]) + len(ones[one]) + extra2\n",
    "        elif n == 1000:\n",
    "                return(len('onethousand'))\n",
    "        else:\n",
    "                print(f'The number {n} is not in the range that can be converted into a word (1 to 1000).')\n",
    "\n",
    "\n"
   ]
  },
  {
   "cell_type": "code",
   "execution_count": null,
   "metadata": {},
   "outputs": [],
   "source": [
    "nmax = 1000\n",
    "total = 0\n",
    "\n",
    "for i in range(1, nmax+1):\n",
    "    total += nletters(i)\n",
    "\n",
    "print(f'The number of letters in the words for the numbers is {total}')\n"
   ]
  },
  {
   "cell_type": "code",
   "execution_count": null,
   "metadata": {},
   "outputs": [],
   "source": []
  }
 ],
 "metadata": {
  "language_info": {
   "name": "python",
   "pygments_lexer": "ipython3"
  }
 },
 "nbformat": 4,
 "nbformat_minor": 2
}
