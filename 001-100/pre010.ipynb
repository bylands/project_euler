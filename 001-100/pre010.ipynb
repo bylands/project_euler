{
 "cells": [
  {
   "cell_type": "code",
   "execution_count": null,
   "metadata": {},
   "outputs": [],
   "source": [
    "'''\n",
    "Project Euler Problem 010: Summation of Primes\n",
    "'''"
   ]
  },
  {
   "cell_type": "code",
   "execution_count": null,
   "metadata": {},
   "outputs": [],
   "source": [
    "import numpy as np"
   ]
  },
  {
   "cell_type": "code",
   "execution_count": null,
   "metadata": {},
   "outputs": [],
   "source": [
    "Nmax = 2000000\n",
    "\n",
    "numbers = np.arange(Nmax+1)\n",
    "\n",
    "for i in range(2, Nmax+1):\n",
    "    if numbers[i]:\n",
    "        for j in range(i*i, Nmax+1, i):\n",
    "            numbers[j] = 0\n",
    "\n",
    "numbers[1] = 0 # delete 1 which is not a prime\n",
    "\n",
    "numbers = numbers[numbers != 0]\n",
    "solution = numbers.sum()\n",
    "\n",
    "print(f'The sum of the primes below {Nmax} is {solution}.')"
   ]
  },
  {
   "cell_type": "code",
   "execution_count": null,
   "metadata": {},
   "outputs": [],
   "source": []
  }
 ],
 "metadata": {
  "language_info": {
   "name": "python",
   "pygments_lexer": "ipython3"
  }
 },
 "nbformat": 4,
 "nbformat_minor": 2
}
