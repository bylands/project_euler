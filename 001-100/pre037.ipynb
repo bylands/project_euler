{
 "cells": [
  {
   "cell_type": "code",
   "execution_count": null,
   "metadata": {},
   "outputs": [],
   "source": [
    "'''\n",
    "Project Euler Problem 037: Truncatable Primes\n",
    "'''"
   ]
  },
  {
   "cell_type": "code",
   "execution_count": null,
   "metadata": {},
   "outputs": [],
   "source": [
    "import sympy as sp"
   ]
  },
  {
   "cell_type": "code",
   "execution_count": null,
   "metadata": {},
   "outputs": [],
   "source": [
    "def is_trunc_left(s):\n",
    "    for i in range(len(s)):\n",
    "        # print(s[i:])\n",
    "        if not sp.isprime(int(s[i:])):\n",
    "            return False\n",
    "    return True\n",
    "\n",
    "\n",
    "def is_trunc_right(s):\n",
    "    for i in range(len(s)):\n",
    "        # print(s[:len(s)-i])\n",
    "        if not sp.isprime(int(s[:len(s)-i])):\n",
    "            return False\n",
    "    return True\n",
    "\n",
    "\n",
    "def is_trunc(s):\n",
    "    return is_trunc_left(s) and is_trunc_right(s)\n",
    "\n",
    "\n",
    "def primes(a, b):\n",
    "    return list(sp.sieve.primerange(a, b))\n",
    "\n",
    "\n",
    "def truncs(d):\n",
    "    lower = int('1'*d)\n",
    "    upper = 10**d\n",
    "    return [n for n in primes(lower, upper) if is_trunc(str(n))]"
   ]
  },
  {
   "cell_type": "code",
   "execution_count": null,
   "metadata": {},
   "outputs": [],
   "source": [
    "d = 2\n",
    "\n",
    "truncslist = truncs(d)\n",
    "flag = 0\n",
    "\n",
    "while True:\n",
    "    d += 1\n",
    "\n",
    "    new = truncs(d)\n",
    "    \n",
    "    if new == []:\n",
    "        if flag == 1:\n",
    "            break\n",
    "        else:\n",
    "            flag = 1\n",
    "    else:\n",
    "        flag = 0\n",
    "        truncslist += new\n",
    "    \n",
    "print(f'The sume of the truncatable primes is {sum(truncslist)}')"
   ]
  },
  {
   "cell_type": "code",
   "execution_count": null,
   "metadata": {},
   "outputs": [],
   "source": []
  }
 ],
 "metadata": {
  "language_info": {
   "name": "python",
   "pygments_lexer": "ipython3"
  }
 },
 "nbformat": 4,
 "nbformat_minor": 2
}
