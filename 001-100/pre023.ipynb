{
 "cells": [
  {
   "cell_type": "code",
   "execution_count": null,
   "metadata": {},
   "outputs": [],
   "source": [
    "'''\n",
    "Project Euler Problem 23: Non-Abundant Sums\n",
    "'''"
   ]
  },
  {
   "cell_type": "code",
   "execution_count": null,
   "metadata": {},
   "outputs": [],
   "source": [
    "import sympy as sp\n",
    "from functools import lru_cache"
   ]
  },
  {
   "cell_type": "code",
   "execution_count": null,
   "metadata": {},
   "outputs": [],
   "source": [
    "def is_perfect(n):\n",
    "    return True if sum(sp.divisors(n)[:-1]) == n else False\n",
    "\n",
    "def is_abundant(n):\n",
    "    return True if sum(sp.divisors(n)[:-1]) > n else False\n",
    "\n",
    "def is_deficient(n):\n",
    "    return True if sum(sp.divisors(n)[:-1]) < n else False\n",
    "\n",
    "@lru_cache\n",
    "def is_sum(n):\n",
    "    summands = [i for i in range(12, n) if is_abundant(i)]\n",
    "    for i, s1 in enumerate(summands):\n",
    "        for s2 in summands[i:]:\n",
    "            if n == s1 + s2:\n",
    "                print(f'{n} = {s1} + {s2}')\n",
    "                return True\n",
    "    return False"
   ]
  },
  {
   "cell_type": "code",
   "execution_count": null,
   "metadata": {},
   "outputs": [],
   "source": [
    "N = 28123\n",
    "\n",
    "abundant = [i for i in range(N) if is_abundant(i)]\n",
    "sums = set([i + j for pos, i in enumerate(abundant) for j in abundant[pos:]])\n",
    "solution = set(range(1, N)) - sums\n",
    "\n",
    "print(f'The sum of all positive integers that connot be written as the sum')\n",
    "print(f'of two abundant numbers is {sum(solution)}')\n",
    "print(f'The highest number is {max(solution)}')"
   ]
  },
  {
   "cell_type": "code",
   "execution_count": null,
   "metadata": {},
   "outputs": [],
   "source": []
  }
 ],
 "metadata": {
  "language_info": {
   "name": "python",
   "pygments_lexer": "ipython3"
  }
 },
 "nbformat": 4,
 "nbformat_minor": 2
}
