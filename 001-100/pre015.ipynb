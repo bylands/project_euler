{
 "cells": [
  {
   "cell_type": "code",
   "execution_count": null,
   "metadata": {},
   "outputs": [],
   "source": [
    "'''\n",
    "Project Euler Problem 015: Lattice Paths\n",
    "'''"
   ]
  },
  {
   "cell_type": "code",
   "execution_count": null,
   "metadata": {},
   "outputs": [],
   "source": [
    "from functools import lru_cache"
   ]
  },
  {
   "cell_type": "code",
   "execution_count": null,
   "metadata": {},
   "outputs": [],
   "source": [
    "# define recursive function to drill down the possible paths\n",
    "\n",
    "@lru_cache\n",
    "def pathfinder(n, m):\n",
    "    paths = 0\n",
    "    if n:\n",
    "        paths += pathfinder(n-1, m)\n",
    "\n",
    "    if m:\n",
    "        paths += pathfinder(n, m-1)\n",
    "        \n",
    "    return paths+1 if not (m or n) else paths"
   ]
  },
  {
   "cell_type": "code",
   "execution_count": null,
   "metadata": {},
   "outputs": [],
   "source": [
    "print(f'Number of possible paths from top left to bottom right:')\n",
    "\n",
    "for N in range(1, 21):\n",
    "    dimx = dimy = N\n",
    "\n",
    "    print(f'in {(dimx, dimy)} lattice: {pathfinder(dimx, dimy)}')"
   ]
  },
  {
   "cell_type": "code",
   "execution_count": null,
   "metadata": {},
   "outputs": [],
   "source": []
  }
 ],
 "metadata": {
  "language_info": {
   "name": "python",
   "pygments_lexer": "ipython3"
  }
 },
 "nbformat": 4,
 "nbformat_minor": 2
}
