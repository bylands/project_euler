{
 "cells": [
  {
   "cell_type": "code",
   "execution_count": null,
   "metadata": {},
   "outputs": [],
   "source": [
    "'''\n",
    "Project Euler Problem 093: Arithmetic Expressions\n",
    "'''"
   ]
  },
  {
   "cell_type": "code",
   "execution_count": null,
   "metadata": {},
   "outputs": [],
   "source": [
    "from itertools import permutations, combinations_with_replacement, combinations\n",
    "from sympy import Function, symbols"
   ]
  },
  {
   "cell_type": "code",
   "execution_count": null,
   "metadata": {},
   "outputs": [],
   "source": [
    "def add(a: tuple, b: tuple) -> (int, int):\n",
    "    na, da = a\n",
    "    nb, db = b\n",
    "    return (na*db+nb*da, da*db)\n",
    "\n",
    "\n",
    "def sub(a: tuple, b: tuple) -> (int, int):\n",
    "    na, da = a\n",
    "    nb, db = b\n",
    "    return (na*db-nb*da, da*db)\n",
    "\n",
    "\n",
    "def invsub(a: tuple, b: tuple) -> (int, int):\n",
    "    na, da = a\n",
    "    nb, db = b\n",
    "    return (nb*da-na*db, da*db)\n",
    "\n",
    "\n",
    "def mul(a: tuple, b: tuple) -> (int, int):\n",
    "    na, da = a\n",
    "    nb, db = b\n",
    "    return (na*nb, da*db)\n",
    "\n",
    "\n",
    "def div(a: tuple, b: tuple) -> (int, int):\n",
    "    na, da = a\n",
    "    nb, db = b\n",
    "    if nb == 0:\n",
    "        raise ZeroDivisionError\n",
    "    return (na*db, da*nb)\n",
    "\n",
    "\n",
    "def invdiv(a: tuple, b: tuple) -> (int, int):\n",
    "    na, da = a\n",
    "    nb, db = b\n",
    "    if na == 0:\n",
    "        raise ZeroDivisionError\n",
    "    return (nb*da, db*na)\n",
    "\n",
    "\n",
    "def map_name(input):\n",
    "    return input.__name__\n",
    "\n",
    "\n",
    "def get_result(digs: tuple, ops: tuple, var: int) -> int:\n",
    "    op0, op1, op2 = ops\n",
    "    d0, d1, d2, d3 = digs\n",
    "\n",
    "    if var == 1:\n",
    "        try:\n",
    "            num, den = op2(op1(op0((d0, 1), (d1, 1)), (d2, 1)), (d3, 1))\n",
    "            return num // den if num % den == 0 else 0\n",
    "        except ZeroDivisionError:\n",
    "            return 0\n",
    "    if var == 2:\n",
    "        try:\n",
    "            num, den = op2(op0((d0, 1), (d1, 1)), op1((d2, 1), (d3, 1)))\n",
    "            return num // den if num % den == 0 else 0\n",
    "        except ZeroDivisionError:\n",
    "            return 0\n",
    "\n",
    "\n",
    "def get_results(digits: list, var=1) -> list:\n",
    "    n_digs = len(digits)\n",
    "    n_ops = n_digs -1 \n",
    "    results = {}\n",
    "    operators = [add, sub, invsub, mul, div, invdiv]\n",
    "\n",
    "    for comb in combinations_with_replacement(operators, 3):\n",
    "        for perm in permutations(comb):\n",
    "            for d in permutations(digits, 4):\n",
    "                if (r:=get_result(d, perm, var)) > 0 and r not in results:\n",
    "                    results[r] = (d, perm)\n",
    "    \n",
    "    return results\n",
    "\n",
    "\n",
    "def get_max(results: int) -> int:\n",
    "    for i, r in enumerate(results):\n",
    "        if i != r-1:\n",
    "            return results[i-1] if i > 0 else 0\n",
    "\n"
   ]
  },
  {
   "cell_type": "code",
   "execution_count": null,
   "metadata": {},
   "outputs": [],
   "source": [
    "solution = '1234'\n",
    "best = 0\n",
    "\n",
    "best_dict = {}\n",
    "\n",
    "\n",
    "for digits in combinations(range(1, 10), 4):\n",
    "# for digits in [[2, 3, 8, 9]]:\n",
    "    results_dict = get_results(digits)\n",
    "    results = sorted(list(set([r for r in results_dict])))\n",
    "    # best_dict[digits] = get_max(results)\n",
    "\n",
    "    if (new_best := get_max(results)) > best:\n",
    "        solution = f'{digits[0]}{digits[1]}{digits[2]}{digits[3]}'\n",
    "        best = new_best\n",
    "        best_dict = results_dict\n",
    "        # print(best, solution)\n",
    "\n",
    "print(solution)"
   ]
  },
  {
   "cell_type": "code",
   "execution_count": null,
   "metadata": {},
   "outputs": [],
   "source": [
    "for digits in combinations(range(1, 10), 4):\n",
    "    digits = [2, 3, 5, 6]\n",
    "    res_dict1 = get_results(digits)\n",
    "    results1 = sorted(list(set([r for r in res_dict1])))\n",
    "    res_dict2 = get_results(digits, 2)\n",
    "    results2 = sorted(list(set([r for r in res_dict2])))\n",
    "    diff = [r for r in results2 if r not in results1]\n",
    "    \n",
    "    n_max = get_max(results1)\n",
    "    if min(diff) < n_max:\n",
    "        print(n_max)\n",
    "\n",
    "        for i in diff:\n",
    "            digits, functions = res_dict2[i]\n",
    "            print(i, digits, list(map(map_name, list(functions))))"
   ]
  },
  {
   "cell_type": "code",
   "execution_count": null,
   "metadata": {},
   "outputs": [],
   "source": [
    "def get_res(args: list) -> list:\n",
    "    print(args)\n",
    "    for o, x in args:\n",
    "        print(o, x)\n",
    "        if len(o) == 2:\n",
    "            # print(o[0](x[0], o[1](x[1], x[2])))\n",
    "            return [o[0](x[0], o[1](x[1], x[2]))]\n",
    "        elif len(o) == 3:\n",
    "            return [o[0](x[0], get_res([(o[1:], x[1:])]))]\n",
    "        else:\n",
    "            return [o[0](x[0], get_res([(o[1:], x[1:])])), \n",
    "                    o[0](o[1](x[0], x[1]), get_res([(o[2:], x[2:])]))]"
   ]
  },
  {
   "cell_type": "code",
   "execution_count": null,
   "metadata": {},
   "outputs": [],
   "source": [
    "x1, x2, x3, x4, x5 = symbols('x_1 x_2 x_3 x_4 x_5')\n",
    "f1 = Function('f_1')\n",
    "f2 = Function('f_2')\n",
    "f3 = Function('f_3')\n",
    "f4 = Function('f_4')\n",
    "\n",
    "get_res([([f1, f2, f3, f4], [x1, x2, x3, x4, x5])])"
   ]
  },
  {
   "cell_type": "code",
   "execution_count": null,
   "metadata": {},
   "outputs": [],
   "source": [
    "args = [[1, 2], [3, 4]]\n",
    "for a, b in args:\n",
    "    print(a, b)"
   ]
  },
  {
   "cell_type": "code",
   "execution_count": null,
   "metadata": {},
   "outputs": [],
   "source": [
    "f(x1, x2)"
   ]
  },
  {
   "cell_type": "code",
   "execution_count": null,
   "metadata": {},
   "outputs": [],
   "source": [
    "def test(flist, arglist, i, j):\n",
    "    return [flist[i](arglist[j], flist[j](arglist[i]))]\n",
    "\n",
    "test([f1, f2, f3, f4], [x1, x2, x3, x4], 1, 2)"
   ]
  },
  {
   "cell_type": "code",
   "execution_count": null,
   "metadata": {},
   "outputs": [],
   "source": []
  }
 ],
 "metadata": {
  "language_info": {
   "name": "python",
   "pygments_lexer": "ipython3"
  }
 },
 "nbformat": 4,
 "nbformat_minor": 2
}
