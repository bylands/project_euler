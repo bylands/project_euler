{
 "cells": [
  {
   "cell_type": "code",
   "execution_count": null,
   "metadata": {},
   "outputs": [],
   "source": [
    "'''\n",
    "Project Euler Problem 012: Highly Divisible Triangular Number\n",
    "'''"
   ]
  },
  {
   "cell_type": "code",
   "execution_count": null,
   "metadata": {},
   "outputs": [],
   "source": [
    "import sympy as sp"
   ]
  },
  {
   "cell_type": "code",
   "execution_count": null,
   "metadata": {},
   "outputs": [],
   "source": [
    "def triangle(n):\n",
    "    return sum(range(n+1))\n",
    "\n",
    "def divisors(n):\n",
    "    divisors = [i for i in range(1, n+1) if n % i == 0]\n",
    "    return divisors"
   ]
  },
  {
   "cell_type": "code",
   "execution_count": null,
   "metadata": {},
   "outputs": [],
   "source": [
    "n = 6388\n",
    "\n",
    "ndiv = 500\n",
    "\n",
    "lmax = 1\n",
    "while ((l := len(div := sp.divisors(tri := triangle(n)))) <= ndiv):\n",
    "    # print(n, l, div)\n",
    "    if l > lmax:\n",
    "        print(l)\n",
    "        lmax = l\n",
    "    n += 1\n",
    "\n",
    "print(f'First triangle number with more than {ndiv} divisors: {tri}')\n",
    "print(f'Number of divisors: {l}')\n",
    "print(f'List of divisors: {div}')"
   ]
  },
  {
   "cell_type": "code",
   "execution_count": null,
   "metadata": {},
   "outputs": [],
   "source": []
  }
 ],
 "metadata": {
  "language_info": {
   "name": "python",
   "pygments_lexer": "ipython3"
  }
 },
 "nbformat": 4,
 "nbformat_minor": 2
}
