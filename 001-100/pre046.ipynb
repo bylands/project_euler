{
 "cells": [
  {
   "cell_type": "code",
   "execution_count": null,
   "metadata": {},
   "outputs": [],
   "source": [
    "'''\n",
    "Project Euler Problem 046: Goldbach's Other Conjecture\n",
    "'''"
   ]
  },
  {
   "cell_type": "code",
   "execution_count": null,
   "metadata": {},
   "outputs": [],
   "source": [
    "import sympy as sp"
   ]
  },
  {
   "cell_type": "code",
   "execution_count": null,
   "metadata": {},
   "outputs": [],
   "source": [
    "def is_square(n):\n",
    "    sqn = int(n**0.5)\n",
    "    for i in range(sqn, sqn+3):\n",
    "        if i**2 == n:\n",
    "            return i\n",
    "    return False\n",
    "\n",
    "\n",
    "def is_composite(n):\n",
    "    return len(sp.divisors(n)) > 2\n",
    "\n",
    "\n",
    "def goldbach(n):\n",
    "    for p in sp.primerange(n):\n",
    "        d = n - p\n",
    "        if d % 2 == 0 and is_square(d//2):\n",
    "            return (p, is_square(d//2))\n",
    "    return False"
   ]
  },
  {
   "cell_type": "code",
   "execution_count": null,
   "metadata": {},
   "outputs": [],
   "source": [
    "n = 9\n",
    "\n",
    "while True:\n",
    "    if is_composite(n):\n",
    "        if not goldbach(n):\n",
    "            print(f'Smallest odd composite number that is not the sum of a prime and twice a square: {n}')\n",
    "            break\n",
    "        else:\n",
    "            p, b = goldbach(n)\n",
    "            print(f'{n} = {p} + 2 x {b}^2')\n",
    "    n += 2\n",
    "\n"
   ]
  },
  {
   "cell_type": "code",
   "execution_count": null,
   "metadata": {},
   "outputs": [],
   "source": []
  }
 ],
 "metadata": {
  "language_info": {
   "name": "python",
   "pygments_lexer": "ipython3"
  }
 },
 "nbformat": 4,
 "nbformat_minor": 2
}
