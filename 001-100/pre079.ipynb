{
 "cells": [
  {
   "cell_type": "code",
   "execution_count": null,
   "metadata": {},
   "outputs": [],
   "source": [
    "'''\n",
    "Project Euler Problem 079: Passcode Derivation\n",
    "'''"
   ]
  },
  {
   "cell_type": "code",
   "execution_count": null,
   "metadata": {},
   "outputs": [],
   "source": [
    "import csv\n",
    "from random import randrange"
   ]
  },
  {
   "cell_type": "code",
   "execution_count": null,
   "metadata": {},
   "outputs": [],
   "source": [
    "with open('euler_ressources/0079_keylog.txt') as csvfile:\n",
    "    keylog = [k[0] for k in csv.reader(csvfile, delimiter=',')]\n",
    "    # keylog = list(set(keylog))"
   ]
  },
  {
   "cell_type": "code",
   "execution_count": null,
   "metadata": {},
   "outputs": [],
   "source": [
    "def get_keylog(code: list, N:int, log_length:int) -> list:\n",
    "    code_length = len(code)\n",
    "    keylog = []\n",
    "    \n",
    "    for _ in range(N):\n",
    "        positions = [randrange(code_length-log_length)]\n",
    "        for i in range(1, log_length):\n",
    "            positions.append(randrange(positions[-1]+1, code_length-log_length+i+1))\n",
    "        keylog.append(''.join([code[p] for p in positions]))\n",
    "    \n",
    "    return keylog\n",
    "\n",
    "\n",
    "def get_digits(keylog: list) -> list:\n",
    "    return set([j for d in [list(k) for k in keylog] for j in d])\n",
    "\n",
    "\n",
    "def get_left_neighbours(keylog: list) -> dict:\n",
    "    digits = get_digits(keylog)\n",
    "    neighbours = {d: [] for d in digits}\n",
    "    for k in keylog:\n",
    "        for pos, d in enumerate(k[1:], 1):\n",
    "            for ln in k[:pos]:\n",
    "                if ln not in neighbours[d]:\n",
    "                    neighbours[d].append(ln)\n",
    "    return neighbours\n",
    "\n",
    "\n",
    "def get_positions(digit: str, code: list) -> list:\n",
    "    positions = []\n",
    "    for pos, c in enumerate(code):\n",
    "        if c == digit:\n",
    "            positions.append(pos)\n",
    "    return positions\n",
    "\n",
    "\n",
    "def verify_code(code: list, keygen: list) -> bool:\n",
    "    for k in keygen:\n",
    "        for pos, d in enumerate(k[1:], 1):\n",
    "            for ln in k[:pos]:\n",
    "                pos_d = max(get_positions(d, code))\n",
    "                pos_ln = min(get_positions(ln, code))\n",
    "                if pos_ln > pos_d:\n",
    "                    return False\n",
    "    return True\n"
   ]
  },
  {
   "cell_type": "code",
   "execution_count": null,
   "metadata": {},
   "outputs": [],
   "source": [
    "code = [d for d, _ in sorted(list(get_left_neighbours(keylog).items()), key=lambda x: len(x[1]))]\n",
    "\n",
    "if verify_code(code, keylog):\n",
    "    print(f'The shortest possible code is {\"\".join(code)}')\n"
   ]
  },
  {
   "cell_type": "code",
   "execution_count": null,
   "metadata": {},
   "outputs": [],
   "source": [
    "code = 'SamuelBynd'\n",
    "print(f'Original code: {code}')\n",
    "\n",
    "keylog = get_keylog(code, 100, 4)\n",
    "\n",
    "neighbours = get_left_neighbours(keylog).items()\n",
    "reproduced_code = [d for d, _ in sorted(list(neighbours), key=lambda x: len(x[1]))]\n",
    "\n",
    "if verify_code(reproduced_code, keylog):\n",
    "    print(f'The shortest possible code is {\"\".join(reproduced_code)}')\n",
    "    if code == ''.join(reproduced_code):\n",
    "        print(f'Code successfully reproduced!')\n",
    "else:\n",
    "    print(f'Code can not be reproduced!')"
   ]
  },
  {
   "cell_type": "code",
   "execution_count": null,
   "metadata": {},
   "outputs": [],
   "source": []
  }
 ],
 "metadata": {
  "language_info": {
   "name": "python",
   "pygments_lexer": "ipython3"
  }
 },
 "nbformat": 4,
 "nbformat_minor": 2
}
