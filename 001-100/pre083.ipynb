{
 "cells": [
  {
   "cell_type": "code",
   "execution_count": null,
   "metadata": {},
   "outputs": [],
   "source": [
    "'''\n",
    "Project Euler Problem 083: Path Sum: Four Ways\n",
    "'''"
   ]
  },
  {
   "cell_type": "code",
   "execution_count": null,
   "metadata": {},
   "outputs": [],
   "source": [
    "import csv\n",
    "from random import sample\n",
    "\n",
    "with open('euler_ressources/0083_matrix.txt') as csvfile:\n",
    "    matrix = [list(map(int, row)) for row in csv.reader(csvfile, delimiter=',')]\n",
    "\n",
    "matrix_small = [[131, 673, 234, 103, 18], \n",
    "    [201, 96, 342, 965, 150],\n",
    "    [630, 803, 746, 422, 111],\n",
    "    [537, 699, 497, 121, 956],\n",
    "    [805, 732, 524, 37, 331]]"
   ]
  },
  {
   "cell_type": "code",
   "execution_count": null,
   "metadata": {},
   "outputs": [],
   "source": [
    "# This function DOES NOT WORK!!!\n",
    "\n",
    "def four_ways(matrix):\n",
    "    N = len(matrix)\n",
    "\n",
    "    sol = [[0] * N for _ in range(N)]\n",
    "    sol[0][0] = matrix[0][0]\n",
    "    \n",
    "    for s in range(1, N):\n",
    "        ls = 2*s\n",
    "        vec_mat = [matrix_small[min(k, s)][min(ls-k, s)] for k in range(0, ls+1)]\n",
    "        vec_sol = [sol[min(k, s-1)][min(ls-k,s-1)] for k in range(0, ls+1)]\n",
    "    \n",
    "        for t in range(ls+1):\n",
    "            if t == 0:\n",
    "                sol[0][s] = min([sum([vec_mat[l] for l in range(k+1)])+vec_sol[k] for k in range(ls+1)])\n",
    "            elif t < s:\n",
    "                i, j = t, s\n",
    "                sol[i][j] = min(min([sum([vec_mat[l] for l in range(t, k+1)])+vec_sol[k] for k in range(t, ls+1)]), vec_mat[t]+sol[i-1][j])\n",
    "            elif t == s:\n",
    "                sol[s][s] = min(min([sum([vec_mat[l] for l in range(t, k+1)])+vec_sol[k] for k in range(t+1, ls+1)]), vec_mat[t]+sol[s-1][s])\n",
    "            elif t > s:\n",
    "                i, j = s, ls - t\n",
    "                sol[i][j] = min(min([sum([vec_mat[l] for l in range(t, k+1)])+vec_sol[k] for k in range(t, ls+1)]), vec_mat[t]+sol[i][j+1])\n",
    "\n",
    "    print(sol)\n",
    "    \n"
   ]
  },
  {
   "cell_type": "code",
   "execution_count": null,
   "metadata": {},
   "outputs": [],
   "source": [
    "def four_ways_dijkstra(matrix):\n",
    "    N = len(matrix)\n",
    "    maxentry = max(max(matrix, key=lambda x: max(x)))\n",
    "    INF = N*N*maxentry\n",
    "    \n",
    "    indices = list(range(N))\n",
    "\n",
    "    nodes = [(i, j) for i in range(N) for j in range(N)]\n",
    "\n",
    "    dy = [1, -1, 0, 0]\n",
    "    dx = [0, 0, -1, 1]\n",
    "\n",
    "    weights = {(i, j): {(i+di, j+dj): matrix[i+di if i+di in indices else 0][j+dj if j+dj in indices else 0] \n",
    "        for di, dj in zip(dx, dy)} for i in range(N) for j in range(N)}\n",
    "    \n",
    "    weights = {k: {l: w for l, w in v.items() if l[0] in indices and l[1] in indices} for k, v in weights.items()}\n",
    "\n",
    "    unvisited = {node: None for node in nodes}\n",
    "    visited = {}\n",
    "    previous = {}\n",
    "\n",
    "    current = (0, 0)\n",
    "    currentDistance = matrix[0][0]\n",
    "    unvisited[current] = currentDistance\n",
    "\n",
    "    while True:\n",
    "        for neighbour, weight in weights[current].items():\n",
    "            if neighbour not in unvisited: \n",
    "                continue\n",
    "            newDistance = currentDistance + weight\n",
    "            if unvisited[neighbour] is None or unvisited[neighbour] > newDistance:\n",
    "                unvisited[neighbour] = newDistance\n",
    "                previous[neighbour] = current\n",
    "        visited[current] = currentDistance\n",
    "        del unvisited[current]\n",
    "        if not unvisited:\n",
    "            break\n",
    "        candidates = [node for node in unvisited.items() if node[1]]\n",
    "        current, currentDistance = sorted(candidates, key = lambda x: x[1])[0]\n",
    "\n",
    "    current = end = (N-1, N-1)\n",
    "    path = [end]\n",
    "\n",
    "    while True:\n",
    "        current = previous[current]\n",
    "        path += [current]\n",
    "        if current == (0, 0):\n",
    "            break\n",
    "\n",
    "    return visited[end], path[::-1]\n"
   ]
  },
  {
   "cell_type": "code",
   "execution_count": null,
   "metadata": {},
   "outputs": [],
   "source": [
    "N = 10\n",
    "matrix_large = [sample(range(N**2), N) for _ in range(N)]\n",
    "\n",
    "sol, path = four_ways_dijkstra(matrix_large)\n",
    "print(f'The minimal path sum is {sol}.')\n",
    "for pos in path[:-1]:\n",
    "    print(pos, end=' -> ')\n",
    "print(path[-1])\n",
    "print(len(path))"
   ]
  },
  {
   "cell_type": "code",
   "execution_count": null,
   "metadata": {},
   "outputs": [],
   "source": []
  }
 ],
 "metadata": {
  "language_info": {
   "name": "python",
   "pygments_lexer": "ipython3"
  }
 },
 "nbformat": 4,
 "nbformat_minor": 2
}
