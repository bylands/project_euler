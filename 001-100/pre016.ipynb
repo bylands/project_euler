{
 "cells": [
  {
   "cell_type": "code",
   "execution_count": null,
   "metadata": {},
   "outputs": [],
   "source": [
    "'''\n",
    "Project Euler Problem 016: Power Digit Sum\n",
    "'''"
   ]
  },
  {
   "cell_type": "code",
   "execution_count": null,
   "metadata": {},
   "outputs": [],
   "source": [
    "# Using Python's built-in integer arithmetic\n",
    "\n",
    "N = 1000\n",
    "\n",
    "string = str(2**N)\n",
    "\n",
    "total = 0\n",
    "\n",
    "for s in string:\n",
    "    total += int(s)\n",
    "\n",
    "print(f'The sum of the digitis of 2^{N} is {total}')"
   ]
  },
  {
   "cell_type": "code",
   "execution_count": null,
   "metadata": {},
   "outputs": [],
   "source": [
    "# double string number\n",
    "\n",
    "def double(a):\n",
    "    n = len(a)\n",
    "\n",
    "    sumlist = []\n",
    "    remainder = 0\n",
    "\n",
    "    for i in range(n-1, -1, -1):\n",
    "        digit = 2*int(a[i])\n",
    "        sumrem = digit + remainder\n",
    "        sumlist.append(str(sumrem)[-1])\n",
    "        if sumrem >= 10:\n",
    "            remainder = sumrem // 10\n",
    "        else:\n",
    "            remainder = 0\n",
    "    # print(sumdigits, sumrem)\n",
    "    # print(sumlist)\n",
    "    # print(remainder)\n",
    "\n",
    "    if remainder > 0:\n",
    "        sumlist.append(str(remainder))\n",
    "    sumlist = sumlist[::-1]\n",
    "\n",
    "    return ''.join(sumlist)\n"
   ]
  },
  {
   "cell_type": "code",
   "execution_count": null,
   "metadata": {},
   "outputs": [],
   "source": [
    "N = 100000\n",
    "\n",
    "number = '2'\n",
    "\n",
    "for i in range(N-1):\n",
    "    number = double(number)\n",
    "\n",
    "total = 0\n",
    "for c in number:\n",
    "    total += int(c)\n",
    "\n",
    "print(f'The sum of the digitis of 2^{N} is {total}')"
   ]
  },
  {
   "cell_type": "code",
   "execution_count": null,
   "metadata": {},
   "outputs": [],
   "source": []
  }
 ],
 "metadata": {
  "language_info": {
   "name": "python",
   "pygments_lexer": "ipython3"
  }
 },
 "nbformat": 4,
 "nbformat_minor": 2
}
