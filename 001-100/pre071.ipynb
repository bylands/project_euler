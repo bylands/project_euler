{
 "cells": [
  {
   "cell_type": "code",
   "execution_count": null,
   "metadata": {},
   "outputs": [],
   "source": [
    "'''\n",
    "Project Euler Problem 071: Ordered Fractions\n",
    "'''"
   ]
  },
  {
   "cell_type": "code",
   "execution_count": null,
   "metadata": {},
   "outputs": [],
   "source": [
    "def gcd(a, b):\n",
    " \n",
    "    if (a == 0):\n",
    "        return b\n",
    "    return gcd(b % a, a)\n",
    "\n",
    "\n",
    "def reduced(num, den):\n",
    "    g = gcd(num, den)\n",
    "    return num//g, den//g\n",
    "\n",
    "\n",
    "def compare(n1, d1, n2, d2):\n",
    "    check = n1*d2 - n2*d1\n",
    "    if check > 0:\n",
    "        return 1\n",
    "    if check < 0:\n",
    "        return -1\n",
    "    else:\n",
    "        return 0"
   ]
  },
  {
   "cell_type": "code",
   "execution_count": null,
   "metadata": {},
   "outputs": [],
   "source": [
    "dmax = 1000000\n",
    "n0 = 3\n",
    "d0 = 7\n",
    "nsol = 0\n",
    "dsol = 1\n",
    "\n",
    "for d in range(1, dmax+1):\n",
    "    n = d*n0//d0-1 if d % d0 == 0 else d*n0//d0\n",
    "    if compare(n, d, nsol, dsol) == 1:\n",
    "        nsol, dsol = n, d\n",
    "\n",
    "print(f'The fraction to the left of {n0}/{d0} is {nsol}/{dsol}.')\n",
    "    "
   ]
  },
  {
   "cell_type": "code",
   "execution_count": null,
   "metadata": {},
   "outputs": [],
   "source": []
  }
 ],
 "metadata": {
  "language_info": {
   "name": "python",
   "pygments_lexer": "ipython3"
  }
 },
 "nbformat": 4,
 "nbformat_minor": 2
}
