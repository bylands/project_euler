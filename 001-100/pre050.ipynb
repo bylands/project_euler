{
 "cells": [
  {
   "cell_type": "code",
   "execution_count": null,
   "metadata": {},
   "outputs": [],
   "source": [
    "'''\n",
    "Project Euler Problem 050: Consecutive Prime Sum\n",
    "'''"
   ]
  },
  {
   "cell_type": "code",
   "execution_count": null,
   "metadata": {},
   "outputs": [],
   "source": [
    "import sympy as sp"
   ]
  },
  {
   "cell_type": "code",
   "execution_count": null,
   "metadata": {},
   "outputs": [],
   "source": [
    "def inner_loop(psum, longest):\n",
    "    for j, q in enumerate(primes[i+1:]):\n",
    "        psum += q\n",
    "        if sp.isprime(psum) and psum < N and j > longest[1]:\n",
    "            longest = (i, j)\n",
    "            prange = (p, q)\n",
    "            maxsum = psum\n",
    "        if psum > N:\n",
    "            return longest\n",
    "    return longest\n",
    "\n",
    "    "
   ]
  },
  {
   "cell_type": "code",
   "execution_count": null,
   "metadata": {},
   "outputs": [],
   "source": [
    "N = 1000000\n",
    "\n",
    "primes = list(sp.primerange(N))\n",
    "longest = (0, 0)\n",
    "for i, p in enumerate(primes):\n",
    "    psum = p\n",
    "\n",
    "    retval = inner_loop(psum, longest)\n",
    "    longest = retval if retval[1]>longest[1] else longest\n",
    "\n",
    "imax, jmax = longest\n",
    "pmax = sum(primes[imax: imax+jmax+2])\n",
    "\n",
    "print(f'The largest prime below {N} that can be written as the sum of consecutive primes is {pmax}:')\n",
    "print(f'The sum consists of {jmax+2} primes, starting at {primes[imax]}')\n"
   ]
  },
  {
   "cell_type": "code",
   "execution_count": null,
   "metadata": {},
   "outputs": [],
   "source": []
  }
 ],
 "metadata": {
  "language_info": {
   "name": "python",
   "pygments_lexer": "ipython3"
  }
 },
 "nbformat": 4,
 "nbformat_minor": 2
}
