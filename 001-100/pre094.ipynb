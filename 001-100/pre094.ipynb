{
 "cells": [
  {
   "cell_type": "code",
   "execution_count": null,
   "metadata": {},
   "outputs": [],
   "source": [
    "'''\n",
    "Project Euler Problem 094: Almost Equilateral Triangles\n",
    "'''"
   ]
  },
  {
   "cell_type": "code",
   "execution_count": null,
   "metadata": {},
   "outputs": [],
   "source": [
    "from math import isqrt, sqrt"
   ]
  },
  {
   "cell_type": "code",
   "execution_count": null,
   "metadata": {},
   "outputs": [],
   "source": [
    "def is_square(n: int) -> bool:\n",
    "    if isqrt(n)**2 == n:\n",
    "        return True\n",
    "    else:\n",
    "        return False\n",
    "    \n",
    "\n",
    "def is_right_1(n: int) -> bool:\n",
    "    test = (3*n + 1)*(n - 1)\n",
    "    if not (test % 4) and is_square(test):\n",
    "        return True\n",
    "    \n",
    "    return False\n",
    "\n",
    "\n",
    "def is_right_2(n: int) -> bool:\n",
    "    test = (3*n - 1)*(n + 1)\n",
    "    if not (test % 4) and is_square(test):\n",
    "        return True\n",
    "    \n",
    "    return False\n",
    "\n",
    "\n",
    "def area(a: int, b: int, c: int) -> int:\n",
    "    s = (a+b+c)//2\n",
    "    A = isqrt(s * (s-a) * (s-b) * (s-c))\n",
    "    return A\n",
    "\n",
    "\n",
    "def areaf(a: int, b: int, c: int) -> float:\n",
    "    s = (a+b+c)/2\n",
    "    A = sqrt(s * (s-a) * (s-b) * (s-c))\n",
    "    return A\n",
    "\n",
    "\n",
    "def perimeter(n: int) -> int:\n",
    "    return 3*n + 1"
   ]
  },
  {
   "cell_type": "code",
   "execution_count": null,
   "metadata": {},
   "outputs": [],
   "source": [
    "rights1 = []\n",
    "rights2 = []\n",
    "\n",
    "for n in range(3, 333_333_334, 2):\n",
    "    if is_right_1(n):\n",
    "        rights1.append(n)\n",
    "    if is_right_2(n):\n",
    "        rights2.append(n)\n",
    "\n",
    "print(rights1)\n",
    "print(rights2)\n",
    "\n",
    "solution = sum([3*n+1 for n in rights1]) + sum([3*n-1 for n in rights2])\n",
    "print(solution)"
   ]
  },
  {
   "cell_type": "code",
   "execution_count": null,
   "metadata": {},
   "outputs": [],
   "source": []
  }
 ],
 "metadata": {
  "language_info": {
   "name": "python",
   "pygments_lexer": "ipython3"
  }
 },
 "nbformat": 4,
 "nbformat_minor": 2
}
