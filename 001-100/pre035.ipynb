{
 "cells": [
  {
   "cell_type": "code",
   "execution_count": null,
   "metadata": {},
   "outputs": [],
   "source": [
    "'''\n",
    "Project Euler Problem 035: Circular Primes\n",
    "'''"
   ]
  },
  {
   "cell_type": "code",
   "execution_count": null,
   "metadata": {},
   "outputs": [],
   "source": [
    "from sympy.ntheory.primetest import isprime"
   ]
  },
  {
   "cell_type": "code",
   "execution_count": null,
   "metadata": {},
   "outputs": [],
   "source": [
    "def rotations(n):\n",
    "    nstr = str(n)\n",
    "    \n",
    "    d = len(nstr)\n",
    "\n",
    "    return [int(nstr[i:]+nstr[0:i]) for i in range(0, d)]\n",
    "\n",
    "\n",
    "def is_circular(n):\n",
    "    for p in rotations(n):\n",
    "        if not isprime(p):\n",
    "            return False\n",
    "    return True"
   ]
  },
  {
   "cell_type": "code",
   "execution_count": null,
   "metadata": {},
   "outputs": [],
   "source": [
    "N = 1000000\n",
    "\n",
    "circulars = [i for i in range(N) if is_circular(i)]\n",
    "\n",
    "print(f'Number of circular primes below {N}: {len(circulars)}')"
   ]
  },
  {
   "cell_type": "code",
   "execution_count": null,
   "metadata": {},
   "outputs": [],
   "source": []
  }
 ],
 "metadata": {
  "language_info": {
   "name": "python",
   "pygments_lexer": "ipython3"
  }
 },
 "nbformat": 4,
 "nbformat_minor": 2
}
