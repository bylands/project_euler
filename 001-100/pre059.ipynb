{
 "cells": [
  {
   "cell_type": "code",
   "execution_count": null,
   "metadata": {},
   "outputs": [],
   "source": [
    "'''\n",
    "Project Euler Problem 059: XOR Decryption\n",
    "'''"
   ]
  },
  {
   "cell_type": "code",
   "execution_count": null,
   "metadata": {},
   "outputs": [],
   "source": [
    "import csv\n",
    "import re\n",
    "import string\n",
    "from itertools import cycle, permutations"
   ]
  },
  {
   "cell_type": "code",
   "execution_count": null,
   "metadata": {},
   "outputs": [],
   "source": [
    "def decode(message, key):\n",
    "    Nkey = len(key)\n",
    "    return ''.join([chr(c ^ ord(key[i % Nkey])) for i, c in enumerate(message)])\n",
    "\n",
    "\n",
    "def test_message(message, testwords):\n",
    "    Nmessage = len(message)\n",
    "    found = {}\n",
    "    score = 0\n",
    "    for word in testwords:\n",
    "        found[word] = 0\n",
    "        if (found_word := re.findall(word, message)):\n",
    "                count = len(found_word)\n",
    "                found[word] += count\n",
    "                score += count\n",
    "\n",
    "    return found, score"
   ]
  },
  {
   "cell_type": "code",
   "execution_count": null,
   "metadata": {},
   "outputs": [],
   "source": [
    "with open('euler_ressources/0059_cipher.txt') as csvfile:\n",
    "    msg_enc = [int(c) for c in list(csv.reader(csvfile, delimiter=','))[0]]\n",
    "\n",
    "testwords = ['and', 'have', 'are']\n",
    "a = ord('a')\n",
    "z = ord('z')\n",
    "\n",
    "min_space = 100\n",
    "min_score = 5\n",
    "\n",
    "for key in permutations(string.ascii_lowercase, 3):\n",
    "    msg_dec = decode(code, key)\n",
    "    if len(re.findall(' ', msg_dec)) > min_space:\n",
    "        found, score = test_message(msg_dec, testwords)\n",
    "        if score > min_score:\n",
    "            print(''.join(key), msg_dec)\n",
    "            solution = sum(map(ord, msg_dec))\n",
    "\n",
    "print(f'The sum of the ASCII values in the decoded text is {solution}.')\n"
   ]
  },
  {
   "cell_type": "code",
   "execution_count": null,
   "metadata": {},
   "outputs": [],
   "source": []
  }
 ],
 "metadata": {
  "language_info": {
   "name": "python",
   "pygments_lexer": "ipython3"
  }
 },
 "nbformat": 4,
 "nbformat_minor": 2
}
