{
 "cells": [
  {
   "cell_type": "code",
   "execution_count": null,
   "metadata": {},
   "outputs": [],
   "source": [
    "'''\n",
    "Project Euler Problem 091: Right Triangles with Integer Coordinates\n",
    "'''"
   ]
  },
  {
   "cell_type": "code",
   "execution_count": null,
   "metadata": {},
   "outputs": [],
   "source": [
    "def is_right(x1, y1, x2, y2):\n",
    "    square_lengths = sorted([x1**2+y1**2, x2**2+y2**2, (x2-x1)**2+(y2-y1)**2])\n",
    "    if 0 in square_lengths:\n",
    "        return False\n",
    "    return square_lengths[0] + square_lengths[1] == square_lengths[2]"
   ]
  },
  {
   "cell_type": "code",
   "execution_count": null,
   "metadata": {},
   "outputs": [],
   "source": [
    "sides = 50\n",
    "upper = sides + 1\n",
    "\n",
    "total = 0\n",
    "\n",
    "for x1 in range(upper):\n",
    "    for y1 in range(1, upper):\n",
    "        for x2 in range(max(1, x1), upper):\n",
    "            for y2 in range(y1+1):\n",
    "                total += is_right(x1, y1, x2, y2)\n",
    "\n",
    "print(f'There are {total} right triangles with integer coordinates in a {sides}x{sides} grid.')\n",
    "\n",
    "\n"
   ]
  },
  {
   "cell_type": "code",
   "execution_count": null,
   "metadata": {},
   "outputs": [],
   "source": [
    "from sympy import gcd"
   ]
  },
  {
   "cell_type": "code",
   "execution_count": null,
   "metadata": {},
   "outputs": [],
   "source": [
    "sides = 500\n",
    "upper = sides + 1\n",
    "total = 0\n",
    "\n",
    "def tHM(x, y, l):\n",
    "    g = gcd(x, y)\n",
    "    slope = (y//g, x//g)\n",
    "    if (s0:=slope[0]) != 0:\n",
    "        nD = (l - x) // s0\n",
    "    else:\n",
    "        nD = 100\n",
    "    if (s1:=slope[1]) != 0:\n",
    "        nR = y // s1\n",
    "    else:\n",
    "        return nD\n",
    "    if nD > nR:\n",
    "        return nR\n",
    "    return nD\n",
    "\n",
    "\n",
    "for x in range(upper):\n",
    "    for y in range(1, upper):\n",
    "        if x != 0 or y != 0:\n",
    "            total += tHM(x, y, sides)\n",
    "total *= 2\n",
    "total += sides * sides\n",
    "\n",
    "print(total)"
   ]
  },
  {
   "cell_type": "code",
   "execution_count": null,
   "metadata": {},
   "outputs": [],
   "source": []
  }
 ],
 "metadata": {
  "language_info": {
   "name": "python",
   "pygments_lexer": "ipython3"
  }
 },
 "nbformat": 4,
 "nbformat_minor": 2
}
