{
 "cells": [
  {
   "cell_type": "code",
   "execution_count": null,
   "metadata": {},
   "outputs": [],
   "source": [
    "'''\n",
    "Project Euler Problem 033: Digit Cancelling Fractions\n",
    "'''"
   ]
  },
  {
   "cell_type": "code",
   "execution_count": null,
   "metadata": {},
   "outputs": [],
   "source": [
    "def check_cancel(a, b):\n",
    "    astr = str(a)\n",
    "    bstr = str(b)\n",
    "\n",
    "    if astr[0] == bstr[0]:\n",
    "        if int(astr[1]) * b == int(bstr[1]) * a:\n",
    "            return True\n",
    "    elif astr[0] == bstr[1]:\n",
    "        if int(astr[1]) * b == int(bstr[0]) * a:\n",
    "            return True\n",
    "    elif astr[1] == bstr[0]:\n",
    "        if int(astr[0]) * b == int(bstr[1]) * a:\n",
    "            return True\n",
    "    elif astr[1] == bstr[1]:\n",
    "        if int(astr[0]) * b == int(bstr[0]) * a:\n",
    "            return True\n",
    "    else:\n",
    "        return False\n",
    "    \n",
    "\n",
    "def check_trivial(a, b):\n",
    "    if a % 10 == 0 and b % 10 == 0:\n",
    "        return True\n",
    "    else:\n",
    "        return False\n",
    "    \n",
    "\n",
    "def gcd(a, b):\n",
    "    if a < b:\n",
    "        a, b = b, a\n",
    "\n",
    "    a = a - (a//b - 1) * b\n",
    "\n",
    "    while a != b:\n",
    "        if a > b:\n",
    "            a = a - b\n",
    "        else:\n",
    "            b = b - a\n",
    "    return a"
   ]
  },
  {
   "cell_type": "code",
   "execution_count": null,
   "metadata": {},
   "outputs": [],
   "source": [
    "fractions = []\n",
    "\n",
    "for i in range(10, 100):\n",
    "    for j in range(i+1, 100):\n",
    "        if check_cancel(i, j) and not check_trivial(i, j):\n",
    "            fractions.append((i, j))\n",
    "\n",
    "num = 1\n",
    "den = 1\n",
    "\n",
    "for f in fractions:\n",
    "    num *= f[0]\n",
    "    den *= f[1]\n",
    "\n",
    "g = gcd(num, den)\n",
    "\n",
    "print(f'The sum of the digit cancelling fractions is {num}/{den} = {num//g}/{den//g}')"
   ]
  },
  {
   "cell_type": "code",
   "execution_count": null,
   "metadata": {},
   "outputs": [],
   "source": []
  }
 ],
 "metadata": {
  "language_info": {
   "name": "python",
   "pygments_lexer": "ipython3"
  }
 },
 "nbformat": 4,
 "nbformat_minor": 2
}
