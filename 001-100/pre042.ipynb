{
 "cells": [
  {
   "cell_type": "code",
   "execution_count": null,
   "metadata": {},
   "outputs": [],
   "source": [
    "'''\n",
    "Project Euler Problem 042: Coded Triangle Numbers\n",
    "'''"
   ]
  },
  {
   "cell_type": "code",
   "execution_count": null,
   "metadata": {},
   "outputs": [],
   "source": [
    "import csv"
   ]
  },
  {
   "cell_type": "code",
   "execution_count": null,
   "metadata": {},
   "outputs": [],
   "source": [
    "def wordscore(s):\n",
    "    score = 0\n",
    "    for c in s:\n",
    "        score += ord(c)-64\n",
    "    \n",
    "    return score\n",
    "\n",
    "def triangles():\n",
    "    n = 0\n",
    "    while True:\n",
    "        n += 1\n",
    "        yield n*(n+1)//2"
   ]
  },
  {
   "cell_type": "code",
   "execution_count": null,
   "metadata": {},
   "outputs": [],
   "source": [
    "with open('euler_ressources/0042_words.txt') as csvfile:\n",
    "    for row in csv.reader(csvfile, delimiter=','):\n",
    "        words = row"
   ]
  },
  {
   "cell_type": "code",
   "execution_count": null,
   "metadata": {},
   "outputs": [],
   "source": [
    "\n",
    "scores = [wordscore(word) for word in words]\n",
    "\n",
    "trigen = triangles()\n",
    "tris = []\n",
    "\n",
    "while (t:= next(trigen)) < max(scores):\n",
    "    tris.append(t)\n",
    "\n",
    "triwords = [item for item in zip(words, scores) if item[1] in tris]\n",
    "sol = len(triwords)\n",
    "\n",
    "print(f'The numer of words whose score is a triangle numer is {sol}')"
   ]
  },
  {
   "cell_type": "code",
   "execution_count": null,
   "metadata": {},
   "outputs": [],
   "source": []
  }
 ],
 "metadata": {
  "language_info": {
   "name": "python",
   "pygments_lexer": "ipython3"
  }
 },
 "nbformat": 4,
 "nbformat_minor": 2
}
