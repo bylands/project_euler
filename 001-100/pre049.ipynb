{
 "cells": [
  {
   "cell_type": "code",
   "execution_count": null,
   "metadata": {},
   "outputs": [],
   "source": [
    "'''\n",
    "Project Euler Problem 049: Prime Permutations\n",
    "'''"
   ]
  },
  {
   "cell_type": "code",
   "execution_count": null,
   "metadata": {},
   "outputs": [],
   "source": [
    "from itertools import permutations\n",
    "import sympy as sp\n",
    "import numpy as np"
   ]
  },
  {
   "cell_type": "code",
   "execution_count": null,
   "metadata": {},
   "outputs": [],
   "source": [
    "def get_prime_perm(i):\n",
    "    return list(set(sorted([int(''.join(i)) for i in permutations(i) if sp.isprime(n:=int(''.join(i))) and n>999])))\n"
   ]
  },
  {
   "cell_type": "code",
   "execution_count": null,
   "metadata": {},
   "outputs": [],
   "source": [
    "for i in range(10):\n",
    "    for j in range(i, 10):\n",
    "        for k in range(j, 10):\n",
    "            for l in range(k, 10):\n",
    "                nstr = str(i)+str(j)+str(k)+str(l)\n",
    "                test = get_prime_perm(nstr)\n",
    "                for pos, t1 in enumerate(test):\n",
    "                    for t2 in test[pos+1:]:\n",
    "                        if (t3:=2*t2-t1) in test:\n",
    "                            print(f'Prime Permutation with {t1}, {t2}, {t3}')\n",
    "                            print(str(t1)+str(t2)+str(t3))"
   ]
  },
  {
   "cell_type": "code",
   "execution_count": null,
   "metadata": {},
   "outputs": [],
   "source": []
  }
 ],
 "metadata": {
  "language_info": {
   "name": "python",
   "pygments_lexer": "ipython3"
  }
 },
 "nbformat": 4,
 "nbformat_minor": 2
}
