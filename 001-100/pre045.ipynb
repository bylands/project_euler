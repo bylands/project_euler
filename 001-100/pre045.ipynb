{
 "cells": [
  {
   "cell_type": "code",
   "execution_count": null,
   "metadata": {},
   "outputs": [],
   "source": [
    "'''\n",
    "Project Euler Problem 045: Triangular, Pentagonal and Hexagonal Numbers\n",
    "'''"
   ]
  },
  {
   "cell_type": "code",
   "execution_count": null,
   "metadata": {},
   "outputs": [],
   "source": [
    "from functools import lru_cache"
   ]
  },
  {
   "cell_type": "code",
   "execution_count": null,
   "metadata": {},
   "outputs": [],
   "source": [
    "def tria(n):\n",
    "    return n*(n+1)//2\n",
    "\n",
    "\n",
    "@lru_cache\n",
    "def is_tria(T, nmax):\n",
    "    tlist = [tria(n) for n in range(1, nmax+1)]\n",
    "    if T in tlist:\n",
    "        return tlist.index(T)+1\n",
    "    else:\n",
    "        return False\n",
    "\n",
    "\n",
    "def penta(n):\n",
    "    return n*(3*n-1)//2\n",
    "\n",
    "\n",
    "@lru_cache\n",
    "def is_penta(P, nmax):\n",
    "    plist = [penta(n) for n in range(1, nmax+1)]\n",
    "    if P in plist:\n",
    "        return plist.index(P)+1\n",
    "    else:\n",
    "        return False\n",
    "\n",
    "\n",
    "def hexa(n):\n",
    "    return n*(2*n-1)\n",
    "\n",
    "\n",
    "@lru_cache\n",
    "def is_hexa(H, nmax):\n",
    "    hlist = [hexa(n) for n in range(1, nmax+1)]\n",
    "    if H in hlist:\n",
    "        return hlist.index(H)+1\n",
    "    else:\n",
    "        return False\n",
    "    "
   ]
  },
  {
   "cell_type": "code",
   "execution_count": null,
   "metadata": {},
   "outputs": [],
   "source": [
    "np = 165\n",
    "\n",
    "while True:\n",
    "    np += 1\n",
    "    if is_hexa(p:=penta(np), np):\n",
    "        print(f'The second number which is triangular, pentagonal and hexagonal is {p}')\n",
    "        break"
   ]
  },
  {
   "cell_type": "code",
   "execution_count": null,
   "metadata": {},
   "outputs": [],
   "source": []
  }
 ],
 "metadata": {
  "language_info": {
   "name": "python",
   "pygments_lexer": "ipython3"
  }
 },
 "nbformat": 4,
 "nbformat_minor": 2
}
