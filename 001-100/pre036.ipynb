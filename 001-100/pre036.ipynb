{
 "cells": [
  {
   "cell_type": "code",
   "execution_count": null,
   "metadata": {},
   "outputs": [],
   "source": [
    "'''\n",
    "Project Euler Problem 036: Double-Base Palindromes\n",
    "'''"
   ]
  },
  {
   "cell_type": "code",
   "execution_count": null,
   "metadata": {},
   "outputs": [],
   "source": [
    "def ispal10(ds):\n",
    "    return ds == ds[::-1]\n",
    "\n",
    "def ispal2(bs):\n",
    "    return bs == bs[::-1]"
   ]
  },
  {
   "cell_type": "code",
   "execution_count": null,
   "metadata": {},
   "outputs": [],
   "source": [
    "N = 1000000\n",
    "\n",
    "palindromes = []\n",
    "\n",
    "for n in range(N):\n",
    "    ds = str(n)\n",
    "    bs = str(bin(n)[2:])\n",
    "\n",
    "    if ispal10(ds) and ispal10(bs):\n",
    "        palindromes.append(int(ds))\n",
    "\n",
    "print(f'There are {len(palindromes)} double-base palindromes below {N}.')\n",
    "print(f'Their sum is {sum(palindromes)}')"
   ]
  },
  {
   "cell_type": "code",
   "execution_count": null,
   "metadata": {},
   "outputs": [],
   "source": []
  }
 ],
 "metadata": {
  "language_info": {
   "name": "python",
   "pygments_lexer": "ipython3"
  }
 },
 "nbformat": 4,
 "nbformat_minor": 2
}
