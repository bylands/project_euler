{
 "cells": [
  {
   "cell_type": "code",
   "execution_count": null,
   "metadata": {},
   "outputs": [],
   "source": [
    "'''\n",
    "Project Euler Problem 077: Prime Summations\n",
    "'''"
   ]
  },
  {
   "cell_type": "code",
   "execution_count": null,
   "metadata": {},
   "outputs": [],
   "source": [
    "from sympy import primerange"
   ]
  },
  {
   "cell_type": "code",
   "execution_count": null,
   "metadata": {},
   "outputs": [],
   "source": [
    "def countsol(values, total, n, dp):\n",
    "# Base Case\n",
    "    if (total == 0):\n",
    "        dp[n][total] = 1\n",
    "        return dp[n][total]\n",
    " \n",
    "# If number of coins is 0 or sum is less than 0 then there is no way to make the sum.\n",
    "    if (n == 0 or total < 0):\n",
    "        return 0\n",
    " \n",
    "# If the subproblem is previously calculated then simply return the result\n",
    "    if (dp[n][total] != -1):\n",
    "        return dp[n][total]\n",
    " \n",
    "# Two options for the current coin\n",
    "    dp[n][total] = countsol(values, total - values[n - 1], n, dp) + countsol(values, total, n - 1, dp)\n",
    "    return dp[n][total]"
   ]
  },
  {
   "cell_type": "code",
   "execution_count": null,
   "metadata": {},
   "outputs": [],
   "source": [
    "target = 5000\n",
    "total = 5\n",
    "\n",
    "while True:\n",
    "    values = list(primerange(2, total))\n",
    "    n = len(values)\n",
    "    dp = [[-1 for i in range(total+1)] for j in range(n+1)]\n",
    "\n",
    "    nways = countsol(values, total, n, dp)\n",
    "    if nways > target:\n",
    "        print(total)\n",
    "        break\n",
    "    total += 1"
   ]
  },
  {
   "cell_type": "code",
   "execution_count": null,
   "metadata": {},
   "outputs": [],
   "source": []
  }
 ],
 "metadata": {
  "language_info": {
   "name": "python",
   "pygments_lexer": "ipython3"
  }
 },
 "nbformat": 4,
 "nbformat_minor": 2
}
