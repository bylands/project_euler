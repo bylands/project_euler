{
 "cells": [
  {
   "cell_type": "code",
   "execution_count": null,
   "metadata": {},
   "outputs": [],
   "source": [
    "'''\n",
    "Project Euler Problem 092: Square Digit Chains\n",
    "'''"
   ]
  },
  {
   "cell_type": "code",
   "execution_count": null,
   "metadata": {},
   "outputs": [],
   "source": [
    "from math import log10"
   ]
  },
  {
   "cell_type": "code",
   "execution_count": null,
   "metadata": {},
   "outputs": [],
   "source": [
    "def square_digit_sum(n: int) -> int:\n",
    "    '''\n",
    "    Return the sum of the squares of the digits of an integer number n.\n",
    "    '''\n",
    "\n",
    "    return sum((int(c)**2 for c in str(n)))\n",
    "\n",
    "\n",
    "def square_digit_sequence_gen(start: int) -> int:\n",
    "    '''\n",
    "    Geneartor yielding the sume of the squares of the digits of the previous element.\n",
    "    '''\n",
    "\n",
    "    while True:\n",
    "        start = square_digit_sum(start)\n",
    "        yield start\n",
    "\n",
    "\n",
    "def get_square_digit_sequence(start: int) -> (int, list):\n",
    "    '''\n",
    "    Return a sequence of integer numbers. \n",
    "    Each element is the sum of the squares of the digits of the previous element.\n",
    "    The sequence stops when it arrives at an integer that is already in the sequence.\n",
    "    \n",
    "    start: initial number of the sequence\n",
    "    \n",
    "    return values: (end, sequence)\n",
    "    end: number at which the sequence stops\n",
    "    sequence: sequence of numbers\n",
    "    '''\n",
    "    sequence = [start]\n",
    "    next = start\n",
    "\n",
    "    while (next:=square_digit_sum(next)) not in sequence:\n",
    "        sequence.append(next)\n",
    "\n",
    "    return next, sequence\n",
    "\n",
    "\n",
    "def has_sequence_element(start: int, n: int) -> bool:\n",
    "    '''\n",
    "    Test if the digits square sequence starting from start contains the element n.\n",
    "    '''\n",
    "\n",
    "    return n in get_square_digit_sequence(start)[1]"
   ]
  },
  {
   "cell_type": "code",
   "execution_count": null,
   "metadata": {},
   "outputs": [],
   "source": [
    "limit = 10_000_000\n",
    "good = 89\n",
    "\n",
    "max_square_n = int(str(limit)[0]+'9'*(len(str(limit))-1))-10**(len(str(limit))-1)\n",
    "max_square = square_digit_sum(max_square_n)\n",
    "\n",
    "known_values = {}\n",
    "\n",
    "for i in range(1, max_square+1):\n",
    "    known_values[i] = has_sequence_element(i, good)\n",
    "\n",
    "sum_good = 0\n",
    "\n",
    "for i in range(1, limit):\n",
    "    sum_good += known_values[square_digit_sum(i)]\n",
    "\n",
    "print(sum_good)\n",
    "        \n"
   ]
  },
  {
   "cell_type": "code",
   "execution_count": null,
   "metadata": {},
   "outputs": [],
   "source": [
    "limit = 1_000_000\n",
    "good = 89\n",
    "bad = 1\n",
    "\n",
    "sum_n = 0\n",
    "\n",
    "for i in range(1, limit):\n",
    "    if good in get_square_digit_sequence(i)[1]:\n",
    "        sum_n += 1\n",
    "print(f'The number of digit square sequences ending in {good} is {sum_n}')\n"
   ]
  }
 ],
 "metadata": {
  "language_info": {
   "name": "python",
   "pygments_lexer": "ipython3"
  }
 },
 "nbformat": 4,
 "nbformat_minor": 2
}
