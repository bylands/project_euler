{
 "cells": [
  {
   "cell_type": "code",
   "execution_count": null,
   "metadata": {},
   "outputs": [],
   "source": [
    "'''\n",
    "Project Euler Problem 031: Coin Sums\n",
    "'''"
   ]
  },
  {
   "cell_type": "code",
   "execution_count": null,
   "metadata": {},
   "outputs": [],
   "source": [
    "import copy"
   ]
  },
  {
   "cell_type": "code",
   "execution_count": null,
   "metadata": {},
   "outputs": [],
   "source": [
    "def coins(values, conversions, total):\n",
    "\n",
    "    solutions = [{1: 1}]\n",
    "\n",
    "    for amount in range(total-1):\n",
    "        print(amount)\n",
    "        for sol in solutions:\n",
    "            for key in sol:\n",
    "                if key == 1:\n",
    "                    sol[1] += 1\n",
    "                    if sol[1] == 2:\n",
    "                        solutions.append({2: 1})\n",
    "\n",
    "    print(solutions)"
   ]
  },
  {
   "cell_type": "code",
   "execution_count": null,
   "metadata": {},
   "outputs": [],
   "source": [
    "coins([1, 2, 5], {1: {2: 2, 5: 5}}, 5)"
   ]
  },
  {
   "cell_type": "code",
   "execution_count": null,
   "metadata": {},
   "outputs": [],
   "source": [
    "conversions = {1: {2: 2, 5: 5}}"
   ]
  },
  {
   "cell_type": "code",
   "execution_count": null,
   "metadata": {},
   "outputs": [],
   "source": [
    "for conv in conversions[1]:\n",
    "    print(conv)"
   ]
  },
  {
   "cell_type": "code",
   "execution_count": null,
   "metadata": {},
   "outputs": [],
   "source": [
    "from functools import lru_cache\n",
    "\n",
    "\n",
    "@lru_cache\n",
    "def count(total, coins):\n",
    "    if total < 0 or len(coins) <= 0:\n",
    "        return 0\n",
    "    if total == 0: # needs be checked after n & m, as if n = 0 and m < 0 then it would return 1, which should not be the case.\n",
    "        return 1\n",
    "    return count(total, coins[:-1] ) + count(total - coins[-1], coins )\n",
    "\n",
    "\n",
    "count(1000, tuple([5, 10, 20, 50, 100, 200, 500, 1000]))"
   ]
  },
  {
   "cell_type": "code",
   "execution_count": null,
   "metadata": {},
   "outputs": [],
   "source": [
    "def countsol(total, coin_index):\n",
    "    count = 0\n",
    "    \n",
    "    if coin_index <= 0:\n",
    "        return 1\n",
    "    \n",
    "    m = total\n",
    "    if memoiz_list[m][coin_index] > 0:\n",
    "        return memoiz_list[m][coin_index]\n",
    "    \n",
    "    while total >= 0:\n",
    "        count += countsol(total, coin_index-1)\n",
    "        total -= coin_list[coin_index]\n",
    "    \n",
    "    memoiz_list[m][coin_index] = count\n",
    "\n",
    "    return count\n",
    "\n",
    "\n",
    "coin_list = [1, 2, 5, 10, 20, 50, 100, 200]\n",
    "ncoins = len(coin_list)\n",
    "total = 10\n",
    "\n",
    "memoiz_list = [[0]*ncoins for i in range(total+1)]\n",
    "# print(memoiz_list)\n",
    "countsol(total, ncoins-1)\n"
   ]
  },
  {
   "cell_type": "code",
   "execution_count": null,
   "metadata": {},
   "outputs": [],
   "source": [
    "def countsol(total, coins):\n",
    "    ncoins = len(coins)\n",
    "\n",
    "    table = [[0]*ncoins for i in range(total+1)]\n",
    "    table[0] = [1]*ncoins\n",
    "    for t in table:\n",
    "        t[0] = 1\n",
    "    \n",
    "    for i in range(1, total+1):\n",
    "        for j, c in enumerate(coins[1:], 1):\n",
    "            table[i][j] = table[i][j-1]\n",
    "            if i >= c:\n",
    "                table[i][j] += table[i-c][j]\n",
    "    return(table)\n",
    "\n",
    "\n",
    "def listsol(total, counts, coins):\n",
    "    nsols = counts[-1]\n",
    "    ncoins = len(coins)\n",
    "    print(nsols)\n",
    "    sols = [[0]*ncoins for i in range(nsols)]\n",
    "    print(sols)\n",
    "\n",
    "    for i, count in enumerate(counts[::-1]):\n",
    "        j = len(counts)-i-1\n",
    "        \n",
    "        "
   ]
  },
  {
   "cell_type": "code",
   "execution_count": null,
   "metadata": {},
   "outputs": [],
   "source": [
    "total = 5\n",
    "coins = [1, 2, 5]\n",
    "\n",
    "table = countsol(total, coins)\n",
    "print(table[-1][-1])\n",
    "print(table)"
   ]
  },
  {
   "cell_type": "code",
   "execution_count": null,
   "metadata": {},
   "outputs": [],
   "source": [
    "listsol(5, table[-1], coins)"
   ]
  },
  {
   "cell_type": "code",
   "execution_count": null,
   "metadata": {},
   "outputs": [],
   "source": []
  }
 ],
 "metadata": {
  "language_info": {
   "name": "python",
   "pygments_lexer": "ipython3"
  }
 },
 "nbformat": 4,
 "nbformat_minor": 2
}
