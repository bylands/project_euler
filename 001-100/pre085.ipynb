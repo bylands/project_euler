{
 "cells": [
  {
   "cell_type": "code",
   "execution_count": null,
   "metadata": {},
   "outputs": [],
   "source": [
    "'''\n",
    "Project Euler Problem 085: Counting Rectangles\n",
    "'''"
   ]
  },
  {
   "cell_type": "code",
   "execution_count": null,
   "metadata": {},
   "outputs": [],
   "source": [
    "def count_rectangles(n: int, m: int) -> int:\n",
    "    return n*(n+1)*m*(m+1)//4"
   ]
  },
  {
   "cell_type": "code",
   "execution_count": null,
   "metadata": {},
   "outputs": [],
   "source": [
    "target = 2000000\n",
    "areas = {}\n",
    "N = 1\n",
    "while N*(N+1)*(N+1)*(N+2) <= target:\n",
    "    M = N + 1\n",
    "    while True:\n",
    "        if (cr := count_rectangles(N, M)) < target:\n",
    "            M += 1\n",
    "        else:\n",
    "            areas[(N, M)] = cr\n",
    "            areas[(N, M-1)] = count_rectangles(N, M-1)\n",
    "            break\n",
    "    N += 1\n",
    "\n",
    "minsides = min(areas, key=lambda x: abs(areas[x]-target))\n",
    "print(f'The number of rectangles nearest to {target} is {areas[minsides]} (sides {minsides[0]} and {minsides[1]}).')\n",
    "print(f'The area is therefore {minsides[0]*minsides[1]}')"
   ]
  },
  {
   "cell_type": "code",
   "execution_count": null,
   "metadata": {},
   "outputs": [],
   "source": []
  }
 ],
 "metadata": {
  "language_info": {
   "name": "python",
   "pygments_lexer": "ipython3"
  }
 },
 "nbformat": 4,
 "nbformat_minor": 2
}
