{
 "cells": [
  {
   "cell_type": "code",
   "execution_count": null,
   "metadata": {},
   "outputs": [],
   "source": [
    "'''\n",
    "Project Euler Problem 076: Counting Summations\n",
    "'''"
   ]
  },
  {
   "cell_type": "code",
   "execution_count": null,
   "metadata": {},
   "outputs": [],
   "source": [
    "def countsol(total, values):\n",
    "    nval = len(values)\n",
    "\n",
    "    table = [[0]*nval for i in range(total+1)]\n",
    "    table[0] = [1]*nval\n",
    "    for t in table:\n",
    "        t[0] = 1\n",
    "    \n",
    "    for i in range(1, total+1):\n",
    "        for j, c in enumerate(values[1:], 1):\n",
    "            table[i][j] = table[i][j-1]\n",
    "            if i >= c:\n",
    "                table[i][j] += table[i-c][j]\n",
    "    return(table)"
   ]
  },
  {
   "cell_type": "code",
   "execution_count": null,
   "metadata": {},
   "outputs": [],
   "source": [
    "total = 100\n",
    "coins = list(range(1, total))\n",
    "\n",
    "table = countsol(total, coins)\n",
    "solution = table[-1][-1]\n",
    "\n",
    "print(f'There are {solution} ways to get the sum {total} with values {coins}.')\n"
   ]
  },
  {
   "cell_type": "code",
   "execution_count": null,
   "metadata": {},
   "outputs": [],
   "source": []
  }
 ],
 "metadata": {
  "language_info": {
   "name": "python",
   "pygments_lexer": "ipython3"
  }
 },
 "nbformat": 4,
 "nbformat_minor": 2
}
