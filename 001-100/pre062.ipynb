{
 "cells": [
  {
   "cell_type": "code",
   "execution_count": null,
   "metadata": {},
   "outputs": [],
   "source": [
    "'''\n",
    "Project Euler Problem 062: Cubic Permutations\n",
    "'''"
   ]
  },
  {
   "cell_type": "code",
   "execution_count": null,
   "metadata": {},
   "outputs": [],
   "source": [
    "N_perm = 5\n",
    "\n",
    "cube_dict = {}\n",
    "i = 1\n",
    "cube = '1'\n",
    "current_length = 1\n",
    "\n",
    "def check_cubes(cube_dict, N_perm):\n",
    "    for k in cube_dict:\n",
    "        if len(cube_dict[k]) == N_perm:\n",
    "            return(k)\n",
    "    return None\n",
    "\n",
    "while True:\n",
    "    while len(cube) == current_length:\n",
    "        key = ''.join(sorted(cube))\n",
    "        if key in cube_dict:\n",
    "            cube_dict[key].append(i)\n",
    "        else:\n",
    "            cube_dict[key] = [i]\n",
    "        i += 1\n",
    "        cube = str(i**3)\n",
    "    if (k := check_cubes(cube_dict, N_perm)):\n",
    "        cubes = cube_dict[k]\n",
    "\n",
    "        print(f'The smalles cube for which exactly {N_perm} permutations of its digits are cube is {cubes[0]**3}')\n",
    "        print(f'The {N_perm} numbers are {cubes}')\n",
    "        break\n",
    "    else:\n",
    "        current_length += 1\n",
    "        cube_dict = {}"
   ]
  },
  {
   "cell_type": "code",
   "execution_count": null,
   "metadata": {},
   "outputs": [],
   "source": []
  }
 ],
 "metadata": {
  "language_info": {
   "name": "python",
   "pygments_lexer": "ipython3"
  }
 },
 "nbformat": 4,
 "nbformat_minor": 2
}
