{
 "cells": [
  {
   "cell_type": "code",
   "execution_count": null,
   "metadata": {},
   "outputs": [],
   "source": [
    "'''\n",
    "Project Euler Problem 055: Lychrel Numbers\n",
    "'''"
   ]
  },
  {
   "cell_type": "code",
   "execution_count": null,
   "metadata": {},
   "outputs": [],
   "source": [
    "def is_palindrome(n):\n",
    "    return str(n) == str(n)[::-1]\n",
    "\n",
    "def is_lychrel(n, upper):\n",
    "\n",
    "    for i in range(upper):\n",
    "        n = n + int(str(n)[::-1])\n",
    "        if is_palindrome(n):\n",
    "            return False\n",
    "        \n",
    "    return True"
   ]
  },
  {
   "cell_type": "code",
   "execution_count": null,
   "metadata": {},
   "outputs": [],
   "source": [
    "N = 10000\n",
    "upper = 50\n",
    "\n",
    "nl = 0\n",
    "for i in range(N):\n",
    "    if is_lychrel(i, upper):\n",
    "        nl +=1\n",
    "\n",
    "print(f'There are {nl} Lychrel numbers below {N} (for an upper limit of 50)')"
   ]
  },
  {
   "cell_type": "code",
   "execution_count": null,
   "metadata": {},
   "outputs": [],
   "source": []
  }
 ],
 "metadata": {
  "language_info": {
   "name": "python",
   "pygments_lexer": "ipython3"
  }
 },
 "nbformat": 4,
 "nbformat_minor": 2
}
