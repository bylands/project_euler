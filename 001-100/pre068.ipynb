{
 "cells": [
  {
   "cell_type": "code",
   "execution_count": null,
   "metadata": {},
   "outputs": [],
   "source": [
    "'''\n",
    "Project Euler Problem 068: Magic 5-gon Ring\n",
    "'''"
   ]
  },
  {
   "cell_type": "code",
   "execution_count": null,
   "metadata": {},
   "outputs": [],
   "source": [
    "import sympy as sp\n",
    "from itertools import permutations"
   ]
  },
  {
   "cell_type": "code",
   "execution_count": null,
   "metadata": {},
   "outputs": [],
   "source": [
    "def pick_outer(n, highest, sum, start=1):\n",
    "    # print(start, n, sum)\n",
    "\n",
    "    selection = []\n",
    "    if n == 1:\n",
    "        selection.append([] if sum > highest else [sum])\n",
    "    for value in range(start, min((sum-(n-1)*(n)//2)//n+1, highest)):\n",
    "        if n > 1:\n",
    "            subsets = pick_outer(n-1, highest, sum-value, value+1)\n",
    "            for subset in subsets:\n",
    "                if len(subset) == n-1:\n",
    "                    selection.append([value]+subset)\n",
    "\n",
    "    return selection\n",
    "\n",
    "\n",
    "def complement(xlist, n):\n",
    "    return [x for x in range(1, n+1) if x not in xlist]"
   ]
  },
  {
   "cell_type": "code",
   "execution_count": null,
   "metadata": {},
   "outputs": [],
   "source": [
    "outer = sp.IndexedBase('o')\n",
    "inner = sp.IndexedBase('i')\n",
    "i = sp.symbols('i', cls=sp.Idx)\n",
    "S = sp.symbols('S')\n",
    "\n",
    "n = 5\n",
    "nleg = 3\n",
    "\n",
    "equations = [sp.Eq(outer[i]+sum([inner[(i+j)%n] for j in range(1, nleg)]), S) for i in range(n)]\n",
    "outers = [outer[i] for i in range(n)]\n",
    "inners = [inner[i] for i in range(n)]\n",
    "solution = sp.solve(equations, inners)"
   ]
  },
  {
   "cell_type": "code",
   "execution_count": null,
   "metadata": {},
   "outputs": [],
   "source": [
    "f_inners = [sp.lambdify(outers, solution[k]) for k in solution]\n",
    "solutions = []\n",
    "\n",
    "for outer_sum in range(1, n*(2*n+1)+1):\n",
    "    inner_sum = n*(2*n+1) - outer_sum\n",
    "    leg_sum = (outer_sum + (nleg-1)*inner_sum)\n",
    "    # print(outer_sum, inner_sum, leg_sum)\n",
    "\n",
    "    if leg_sum % n == 0:\n",
    "        leg_sum //= n\n",
    "        for pick in pick_outer(n, 2*n, outer_sum):\n",
    "            for perm in permutations(pick[1:]):\n",
    "                perm = [pick[0]]+list(perm)\n",
    "                if sorted(pick_inner := [int(f(*perm).subs(S, leg_sum)) for f in f_inners]) == complement(perm, 2*n):\n",
    "                    sol = [[[perm[i%n]]+[pick_inner[(i+j)%n] for j in range(1, nleg)] for i in range(n)]]\n",
    "                    solutions += sol\n",
    "\n",
    "legstrings = [''] * len(solutions)\n",
    "for i, sol in enumerate(solutions):\n",
    "    for leg in sol:\n",
    "        legstrings[i] += ''.join(map(str, leg))\n",
    "\n",
    "print(f'There are {len(solutions)} solutions:')\n",
    "print(solutions)\n",
    "\n",
    "lengths = set([len(s) for s in legstrings])\n",
    "\n",
    "for length in lengths:\n",
    "    legvalues = [int(ls) for ls in legstrings if len(ls) == length]\n",
    "    print(f'The maximum string with {length} digits has a value {max(legvalues)} ')\n"
   ]
  },
  {
   "cell_type": "code",
   "execution_count": null,
   "metadata": {},
   "outputs": [],
   "source": []
  }
 ],
 "metadata": {
  "language_info": {
   "name": "python",
   "pygments_lexer": "ipython3"
  }
 },
 "nbformat": 4,
 "nbformat_minor": 2
}
