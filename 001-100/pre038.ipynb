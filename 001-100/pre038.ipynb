{
 "cells": [
  {
   "cell_type": "code",
   "execution_count": null,
   "metadata": {},
   "outputs": [],
   "source": [
    "'''\n",
    "Project Euler Problem 038: Pandigital Multiples\n",
    "'''"
   ]
  },
  {
   "cell_type": "code",
   "execution_count": null,
   "metadata": {},
   "outputs": [],
   "source": [
    "def unique_digits(s):\n",
    "    return len(s) == len(set(s))\n",
    "\n",
    "def is_pandigital(s):\n",
    "    return sorted(s) == list('123456789')"
   ]
  },
  {
   "cell_type": "code",
   "execution_count": null,
   "metadata": {},
   "outputs": [],
   "source": [
    "N = 100000\n",
    "candidates = [i for i in range(1, N) if unique_digits(str(i))]\n",
    "\n",
    "pandigitals = []\n",
    "\n",
    "for c in candidates:\n",
    "\n",
    "    n = 2\n",
    "    test = str(c)\n",
    "\n",
    "    while True:\n",
    "        test += str(n*c)\n",
    "        if len(test) > 9:\n",
    "            break\n",
    "        elif len(test) == 9:\n",
    "            if is_pandigital(test):\n",
    "                pandigitals.append([c, n, int(test)])\n",
    "        n += 1\n",
    "\n",
    "maxpan = max(pandigitals, key=lambda x: x[2])\n",
    "pandigitals = sorted(pandigitals, key=lambda x: x[2])\n",
    "\n",
    "print(f'The largest pandigital is the concatenated product of {maxpan[0]} and (1, …, {maxpan[1]})')\n",
    "print(f'Its value is {maxpan[2]}')"
   ]
  },
  {
   "cell_type": "code",
   "execution_count": null,
   "metadata": {},
   "outputs": [],
   "source": []
  }
 ],
 "metadata": {
  "language_info": {
   "name": "python",
   "pygments_lexer": "ipython3"
  }
 },
 "nbformat": 4,
 "nbformat_minor": 2
}
