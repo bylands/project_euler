{
 "cells": [
  {
   "cell_type": "code",
   "execution_count": null,
   "metadata": {},
   "outputs": [],
   "source": [
    "'''\n",
    "Project Euler Problem 051: Prime Digit Replacement\n",
    "'''"
   ]
  },
  {
   "cell_type": "code",
   "execution_count": null,
   "metadata": {},
   "outputs": [],
   "source": [
    "import sympy as sp\n",
    "from itertools import combinations"
   ]
  },
  {
   "cell_type": "code",
   "execution_count": null,
   "metadata": {},
   "outputs": [],
   "source": [
    "def replace_digits(n, digits):\n",
    "\n",
    "    Ndigits = 10\n",
    "    nstr = str(n)\n",
    "\n",
    "    strs_list = [[c for c in nstr] for _ in range(Ndigits)]\n",
    "\n",
    "    for i in range(Ndigits):\n",
    "        for j in range(len(nstr)):\n",
    "            if j in digits:\n",
    "                strs_list[i][j] = str(i)\n",
    "\n",
    "    return [int(''.join(item)) for item in strs_list]\n",
    "\n",
    "\n",
    "def nprimes(p):\n",
    "    pstr = str(p)\n",
    "    ndigits = len(pstr)\n",
    "    maxlist = []\n",
    "\n",
    "    maxp = 1\n",
    "    pmin = p\n",
    "\n",
    "    for i in range(1, ndigits):\n",
    "        digits = combinations(range(0, ndigits), i)\n",
    "        for d in digits:            \n",
    "            candidates = replace_digits(p, d)\n",
    "\n",
    "            plist = [c for c in candidates if sp.isprime(c) and len(str(c)) == ndigits]\n",
    "            if len(plist) > maxp:\n",
    "                # print(plist)\n",
    "                maxlist = plist\n",
    "                maxp = len(plist)\n",
    "                pmin = min(plist)\n",
    "            elif len(plist) == maxp and min(plist) < pmin:\n",
    "                maxlist = plist\n",
    "                pmin = min(plist)\n",
    "\n",
    "    return maxlist\n",
    "\n",
    "\n",
    "\n",
    "    "
   ]
  },
  {
   "cell_type": "code",
   "execution_count": null,
   "metadata": {},
   "outputs": [],
   "source": [
    "limit = 1000000\n",
    "n = 8\n",
    "\n",
    "pgen = sp.primerange(limit)\n",
    "\n",
    "for p in pgen:\n",
    "    maxlist = nprimes(p)\n",
    "    if len(maxlist) == n:\n",
    "        print(f'The first prime with a {n} prime family is {min(maxlist)}')\n",
    "        break"
   ]
  },
  {
   "cell_type": "code",
   "execution_count": null,
   "metadata": {},
   "outputs": [],
   "source": [
    "sp.isprime(56773)"
   ]
  },
  {
   "cell_type": "code",
   "execution_count": null,
   "metadata": {},
   "outputs": [],
   "source": []
  }
 ],
 "metadata": {
  "language_info": {
   "name": "python",
   "pygments_lexer": "ipython3"
  }
 },
 "nbformat": 4,
 "nbformat_minor": 2
}
