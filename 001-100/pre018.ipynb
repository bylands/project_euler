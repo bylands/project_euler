{
 "cells": [
  {
   "cell_type": "code",
   "execution_count": null,
   "metadata": {},
   "outputs": [],
   "source": [
    "'''\n",
    "Project Euler Problem 018: Maximum Path Sum I\n",
    "'''"
   ]
  },
  {
   "cell_type": "code",
   "execution_count": null,
   "metadata": {},
   "outputs": [],
   "source": [
    "import random"
   ]
  },
  {
   "cell_type": "code",
   "execution_count": null,
   "metadata": {},
   "outputs": [],
   "source": [
    "input = '''75\n",
    "95 64\n",
    "17 47 82\n",
    "18 35 87 10\n",
    "20 04 82 47 65\n",
    "19 01 23 75 03 34\n",
    "88 02 77 73 07 63 67\n",
    "99 65 04 28 06 16 70 92\n",
    "41 41 26 56 83 40 80 70 33\n",
    "41 48 72 33 47 32 37 16 94 29\n",
    "53 71 44 65 25 43 91 52 97 51 14\n",
    "70 11 33 28 77 73 17 78 39 68 17 57\n",
    "91 71 52 38 17 14 91 43 58 50 27 29 48\n",
    "63 66 04 68 89 53 67 30 73 16 69 87 40 31\n",
    "04 62 98 27 23 09 70 98 73 93 38 53 60 04 23'''"
   ]
  },
  {
   "cell_type": "code",
   "execution_count": null,
   "metadata": {},
   "outputs": [],
   "source": [
    "'''\n",
    "Brute force method: Calculate path sum for all possible paths\n",
    "'''\n",
    "\n",
    "rows = [[int(s) for s in l] for l in (row.split(' ') for row in (input.split('\\n')))]\n",
    "\n",
    "N = len(rows) - 1\n",
    "# N = 5\n",
    "\n",
    "init = int(rows[0][0])\n",
    "pos = 0\n",
    "maxsum = 0\n",
    "\n",
    "paths = [format(i, '0'+str(N)+'b') for i in range(0, 2**(N))]\n",
    "\n",
    "for path in paths:\n",
    "    pathsum = init\n",
    "    pos = 0\n",
    "    for index, step in enumerate(path):\n",
    "        pos += int(step)\n",
    "        pathsum += rows[index+1][pos]\n",
    "        if maxsum - pathsum > (N-index) * 99:\n",
    "            break\n",
    "    maxsum = max(pathsum, maxsum)\n",
    "        \n",
    "print(f'The maximum sum is {maxsum}.')\n",
    "\n"
   ]
  },
  {
   "cell_type": "code",
   "execution_count": null,
   "metadata": {},
   "outputs": [],
   "source": [
    "'''\n",
    "Bottom-up: Add higher value from bottom to top\n",
    "'''\n",
    "\n",
    "rows = [[int(s) for s in l] for l in (row.split(' ') for row in (input.split('\\n')))]\n",
    "\n",
    "N = len(rows)\n",
    "# N = 4\n",
    "\n",
    "for i in range(N-2, -1, -1):\n",
    "    for j in range(i+1):\n",
    "        rows[i][j] += max(rows[i+1][j], rows[i+1][j+1])\n",
    "\n",
    "print(f'The maximum sum is {rows[0][0]}.')"
   ]
  },
  {
   "cell_type": "code",
   "execution_count": null,
   "metadata": {},
   "outputs": [],
   "source": [
    "Nlarge = 1000\n",
    "\n",
    "largematrix = [random.choices(range(100), k=(i+1)) for i in range(Nlarge)]\n",
    "\n",
    "N = len(largematrix)\n",
    "# N = 4\n",
    "\n",
    "for i in range(N-2, -1, -1):\n",
    "    for j in range(i+1):\n",
    "        largematrix[i][j] += max(largematrix[i+1][j], largematrix[i+1][j+1])\n",
    "\n",
    "print(f'The maximum sum is {largematrix[0][0]}.')"
   ]
  },
  {
   "cell_type": "code",
   "execution_count": null,
   "metadata": {},
   "outputs": [],
   "source": []
  }
 ],
 "metadata": {
  "language_info": {
   "name": "python",
   "pygments_lexer": "ipython3"
  }
 },
 "nbformat": 4,
 "nbformat_minor": 2
}
