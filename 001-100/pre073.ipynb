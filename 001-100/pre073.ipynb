{
 "cells": [
  {
   "cell_type": "code",
   "execution_count": null,
   "metadata": {},
   "outputs": [],
   "source": [
    "'''\n",
    "Project Euler Problem 073: Counting Fractions in a Range\n",
    "'''"
   ]
  },
  {
   "cell_type": "code",
   "execution_count": null,
   "metadata": {},
   "outputs": [],
   "source": [
    "from tqdm import tqdm"
   ]
  },
  {
   "cell_type": "code",
   "execution_count": null,
   "metadata": {},
   "outputs": [],
   "source": [
    "def gcd(a, b):\n",
    " \n",
    "    if (a == 0):\n",
    "        return b\n",
    "    return gcd(b % a, a)\n",
    "\n",
    "\n",
    "def reduced(num, den):\n",
    "    g = gcd(num, den)\n",
    "    return num//g, den//g\n",
    "\n",
    "\n",
    "def compare(n1, d1, n2, d2):\n",
    "    check = n1*d2 - n2*d1\n",
    "    if check > 0:\n",
    "        return 1\n",
    "    if check < 0:\n",
    "        return -1\n",
    "    else:\n",
    "        return 0"
   ]
  },
  {
   "cell_type": "code",
   "execution_count": null,
   "metadata": {},
   "outputs": [],
   "source": [
    "dmax = 12000\n",
    "nlow = 1\n",
    "dlow = 3\n",
    "nhigh = 1\n",
    "dhigh = 2\n",
    "nsol = 0\n",
    "dsol = 1\n",
    "\n",
    "count = 0\n",
    "\n",
    "for d in tqdm(range(2, dmax+1)):\n",
    "    for n in range(1, d):\n",
    "        if gcd(n, d) == 1 and (compare(n, d, nlow, dlow) == 1 and compare(n, d, nhigh, dhigh) == -1):\n",
    "            count += 1\n",
    "\n",
    "print(count)    "
   ]
  },
  {
   "cell_type": "code",
   "execution_count": null,
   "metadata": {},
   "outputs": [],
   "source": [
    "def ceildiv(a, b): return -(-a // b)\n",
    "\n",
    "L = 12000\n",
    "n1, d1 = 1, 3\n",
    "n2, d2 = 1, 2\n",
    "\n",
    "n = [0] * (L+1) \n",
    "for d in range(1, L+1):\n",
    "    n[d] += ceildiv(n2*d, d2) - ceildiv(n1*d, d1) - 1\n",
    "    n[2*d::d] = [k-n[d] for k in n[2*d::d]]\n",
    "\n",
    "print(sum(n))"
   ]
  },
  {
   "cell_type": "code",
   "execution_count": null,
   "metadata": {},
   "outputs": [],
   "source": []
  }
 ],
 "metadata": {
  "language_info": {
   "name": "python",
   "pygments_lexer": "ipython3"
  }
 },
 "nbformat": 4,
 "nbformat_minor": 2
}
