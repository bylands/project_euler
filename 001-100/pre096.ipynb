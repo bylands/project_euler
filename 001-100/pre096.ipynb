{
 "cells": [
  {
   "cell_type": "code",
   "execution_count": null,
   "metadata": {},
   "outputs": [],
   "source": [
    "'''\n",
    "Project Euler Problem 096: Su Doku\n",
    "'''"
   ]
  },
  {
   "cell_type": "code",
   "execution_count": null,
   "metadata": {},
   "outputs": [],
   "source": [
    "import csv\n",
    "\n",
    "with open('euler_ressources/0096_sudoku.txt') as csvfile:\n",
    "    raw = [row for row in csv.reader(csvfile)]\n",
    "\n",
    "n = len(raw) // 10\n",
    "\n",
    "grids = []\n",
    "\n",
    "for i in range(n):\n",
    "    g = []\n",
    "    for j in range(11):\n",
    "        if j % 10 != 0:\n",
    "            g.append([int(s) for s in list(raw[10*i+j][0])])\n",
    "    grids.append(g)"
   ]
  },
  {
   "cell_type": "code",
   "execution_count": null,
   "metadata": {},
   "outputs": [],
   "source": [
    "def print_grid(g):\n",
    "    for y, row in enumerate(g):\n",
    "        if y % 3 == 0 and y != 0:\n",
    "            print('- - - - - - - - - - -')\n",
    "        for x, col in enumerate(row):\n",
    "            if x % 3 == 0 and x != 0:\n",
    "                print('| ', end='')\n",
    "            print(col, end=' ')\n",
    "        print()"
   ]
  },
  {
   "cell_type": "code",
   "execution_count": null,
   "metadata": {},
   "outputs": [],
   "source": [
    "def is_valid(g, guess, pos):\n",
    "    c, r = pos\n",
    "    \n",
    "    # check column c\n",
    "    for row in g:\n",
    "        if row[c] == guess:\n",
    "            return False\n",
    "    \n",
    "    # check row r\n",
    "    for col in g[r]:\n",
    "        if col == guess:\n",
    "            return False\n",
    "\n",
    "    # check square\n",
    "    top = r - r % 3\n",
    "    left = c - c % 3\n",
    "\n",
    "    for row in range(top, top+3):\n",
    "        for col in range(left, left+3):\n",
    "            if g[row][col] == guess:\n",
    "                return False\n",
    "\n",
    "    return True"
   ]
  },
  {
   "cell_type": "code",
   "execution_count": null,
   "metadata": {},
   "outputs": [],
   "source": [
    "def next_empty(grid):\n",
    "    for y, row in enumerate(grid):\n",
    "        for x, col in enumerate(row):\n",
    "            if col == 0:\n",
    "                return (x, y)\n",
    "    return None            "
   ]
  },
  {
   "cell_type": "code",
   "execution_count": null,
   "metadata": {},
   "outputs": [],
   "source": [
    "def solve(grid):\n",
    "    if not (pos:=next_empty(grid)):\n",
    "        return True\n",
    "\n",
    "    for i in range(1, 10):\n",
    "        if is_valid(grid, i, pos):\n",
    "            col, row = pos\n",
    "            grid[row][col] = i\n",
    "\n",
    "            if solve(grid):\n",
    "                return True\n",
    "\n",
    "            grid[row][col] = 0\n",
    "            \n",
    "    return False"
   ]
  },
  {
   "cell_type": "code",
   "execution_count": null,
   "metadata": {},
   "outputs": [],
   "source": [
    "sol = 0\n",
    "\n",
    "for g in grids:\n",
    "    solve(g)\n",
    "    sol += 100*g[0][0] + 10*g[0][1] + g[0][2]"
   ]
  },
  {
   "cell_type": "code",
   "execution_count": null,
   "metadata": {},
   "outputs": [],
   "source": [
    "print(f'The solution is {sol}.')"
   ]
  },
  {
   "cell_type": "code",
   "execution_count": null,
   "metadata": {},
   "outputs": [],
   "source": []
  }
 ],
 "metadata": {
  "language_info": {
   "name": "python",
   "pygments_lexer": "ipython3"
  }
 },
 "nbformat": 4,
 "nbformat_minor": 4
}
