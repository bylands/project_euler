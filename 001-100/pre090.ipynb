{
 "cells": [
  {
   "cell_type": "code",
   "execution_count": null,
   "metadata": {},
   "outputs": [],
   "source": [
    "'''\n",
    "Project Euler Problem 090: Cube Digit Pairs\n",
    "'''"
   ]
  },
  {
   "cell_type": "code",
   "execution_count": null,
   "metadata": {},
   "outputs": [],
   "source": [
    "from itertools import combinations"
   ]
  },
  {
   "cell_type": "code",
   "execution_count": null,
   "metadata": {},
   "outputs": [],
   "source": [
    "squares = [i*i for i in range(1, 10)]\n",
    "\n",
    "sq_str = []\n",
    "\n",
    "for sq in squares:\n",
    "    if sq < 10:\n",
    "        sq_str.append('0'+str(sq))\n",
    "    else:\n",
    "        sq_str.append(str(sq))"
   ]
  },
  {
   "cell_type": "code",
   "execution_count": null,
   "metadata": {},
   "outputs": [],
   "source": [
    "digits = set(range(10))\n",
    "\n",
    "cube1 = combinations(digits, 6)\n",
    "\n",
    "n = 0\n",
    "\n",
    "for c1 in cube1:\n",
    "    cube2 = combinations(digits, 6)\n",
    "    \n",
    "    for c2 in cube2:\n",
    "\n",
    "        c1s = set(c1)\n",
    "        c2s = set(c2)\n",
    "                \n",
    "        if 6 in c1s and 9 not in c1s:\n",
    "            c1s.update([9])\n",
    "        if 9 in c1s and 6 not in c1s:\n",
    "            c1s.update([6])\n",
    "        if 6 in c2s and 9 not in c2s:\n",
    "            c2s.update([9])\n",
    "        if 9 in c2s and 6 not in c2s:\n",
    "            c2s.update([6])\n",
    "    \n",
    "        count = 0\n",
    "        \n",
    "        for sq in sq_str:\n",
    "            s1 = int(sq[0])\n",
    "            s2 = int(sq[1])\n",
    "    \n",
    "            if (s1 in c1s and s2 in c2s) or (s2 in c1s and s1 in c2s):\n",
    "                count += 1\n",
    "    \n",
    "        if count == 9:\n",
    "            n += 1\n",
    "\n",
    "print(f'There are {n//2} cube digit pairs')"
   ]
  },
  {
   "cell_type": "code",
   "execution_count": null,
   "metadata": {},
   "outputs": [],
   "source": []
  }
 ],
 "metadata": {
  "language_info": {
   "name": "python",
   "pygments_lexer": "ipython3"
  }
 },
 "nbformat": 4,
 "nbformat_minor": 4
}
