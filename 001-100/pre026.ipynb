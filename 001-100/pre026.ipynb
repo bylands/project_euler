{
 "cells": [
  {
   "cell_type": "code",
   "execution_count": null,
   "metadata": {},
   "outputs": [],
   "source": [
    "'''\n",
    "Project Euler Problem 026: Reciprocal Cycles\n",
    "'''"
   ]
  },
  {
   "cell_type": "code",
   "execution_count": null,
   "metadata": {},
   "outputs": [],
   "source": [
    "import sympy as sp"
   ]
  },
  {
   "cell_type": "code",
   "execution_count": null,
   "metadata": {},
   "outputs": [],
   "source": [
    "def is_coprime(n, m):\n",
    "    return True if sp.gcd(n, m) == 1 else False\n",
    "\n",
    "def has_cycle(d):\n",
    "    divs = sp.primefactors(d)\n",
    "    for d in divs:\n",
    "        if is_coprime(d, 10):\n",
    "            return True\n",
    "    return False\n",
    "\n",
    "def cycle(d):\n",
    "    def kmin():\n",
    "        for f in sp.primefactors(d):\n",
    "            if is_coprime(f, 10):\n",
    "                for i in range(1, d+1):\n",
    "                    if 10**i % f == 1:\n",
    "                        return i\n",
    "                    \n",
    "    kmin = kmin()\n",
    "    return kmin"
   ]
  },
  {
   "cell_type": "code",
   "execution_count": null,
   "metadata": {},
   "outputs": [],
   "source": [
    "N = 1000\n",
    "\n",
    "solution = max([[i, cycle(i)] for i in range(1, N) if has_cycle(i)], key=lambda x: x[1])\n",
    "\n",
    "print(f'The longest reciprocal cycle for d < {N} is for {solution[0]}.')\n",
    "print(f'The cycle has a length of {solution[1]} digits.')\n",
    "\n"
   ]
  },
  {
   "cell_type": "code",
   "execution_count": null,
   "metadata": {},
   "outputs": [],
   "source": []
  }
 ],
 "metadata": {
  "language_info": {
   "name": "python",
   "pygments_lexer": "ipython3"
  }
 },
 "nbformat": 4,
 "nbformat_minor": 2
}
