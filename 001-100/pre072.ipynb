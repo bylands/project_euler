{
 "cells": [
  {
   "cell_type": "code",
   "execution_count": null,
   "metadata": {},
   "outputs": [],
   "source": [
    "'''\n",
    "Project Euler Problem 072: Counting Fractions\n",
    "'''"
   ]
  },
  {
   "cell_type": "code",
   "execution_count": null,
   "metadata": {},
   "outputs": [],
   "source": [
    "import math\n",
    "import sympy as sp"
   ]
  },
  {
   "cell_type": "code",
   "execution_count": null,
   "metadata": {},
   "outputs": [],
   "source": [
    "def gcd(a, b):\n",
    " \n",
    "    if (a == 0):\n",
    "        return b\n",
    "    return gcd(b % a, a)\n",
    "\n",
    "\n",
    "def reduced(num, den):\n",
    "    g = gcd(num, den)\n",
    "    return num//g, den//g\n",
    "\n",
    "\n",
    "def compare(n1, d1, n2, d2):\n",
    "    check = n1*d2 - n2*d1\n",
    "    if check > 0:\n",
    "        return 1\n",
    "    if check < 0:\n",
    "        return -1\n",
    "    else:\n",
    "        return 0"
   ]
  },
  {
   "cell_type": "code",
   "execution_count": null,
   "metadata": {},
   "outputs": [],
   "source": [
    "dmax = 100\n",
    "\n",
    "count = 0\n",
    "for d in range(1, dmax+1):\n",
    "    for n in range(1, d):\n",
    "        if math.gcd(n, d) == 1:\n",
    "            count += 1\n",
    "\n",
    "print(count)\n"
   ]
  },
  {
   "cell_type": "code",
   "execution_count": null,
   "metadata": {},
   "outputs": [],
   "source": [
    "dmax = 1000000\n",
    "\n",
    "solution = sum(sp.sieve.totientrange(2, dmax+1))\n",
    "\n",
    "print(f'The number of reduced fractions with d < {dmax} is {solution}')"
   ]
  },
  {
   "cell_type": "code",
   "execution_count": null,
   "metadata": {},
   "outputs": [],
   "source": []
  }
 ],
 "metadata": {
  "language_info": {
   "name": "python",
   "pygments_lexer": "ipython3"
  }
 },
 "nbformat": 4,
 "nbformat_minor": 2
}
