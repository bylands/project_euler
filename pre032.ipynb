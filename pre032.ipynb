{
 "cells": [
  {
   "cell_type": "code",
   "execution_count": null,
   "metadata": {},
   "outputs": [],
   "source": [
    "'''\n",
    "Project Euler Problem 032: Pandigital Products\n",
    "'''"
   ]
  },
  {
   "cell_type": "code",
   "execution_count": null,
   "metadata": {},
   "outputs": [],
   "source": [
    "from itertools import chain"
   ]
  },
  {
   "cell_type": "code",
   "execution_count": null,
   "metadata": {},
   "outputs": [],
   "source": [
    "def is_pandigital(s):\n",
    "    if sorted(s) == ['*', '1', '2', '3', '4', '5', '6', '7', '8', '9', '=']:\n",
    "        return True\n",
    "    else:\n",
    "        return False"
   ]
  },
  {
   "cell_type": "code",
   "execution_count": null,
   "metadata": {},
   "outputs": [],
   "source": [
    "upper = 10**4\n",
    "\n",
    "allproducts = [[str(i)+'*'+str(j)+'='+str(i*j) for j in range(i, upper)] for i in range(1, upper)]\n",
    "\n",
    "allproducts = list(chain(*allproducts))\n",
    "products9 = [p for p in allproducts if len(p) == 11]\n",
    "\n",
    "pandigitals = [p for p in products9 if is_pandigital(p)]\n",
    "\n",
    "products = set([int(p[7:]) for p in pandigitals])\n",
    "\n",
    "print(f'The sum of the pandigital products is {sum(products)}.')\n"
   ]
  },
  {
   "cell_type": "code",
   "execution_count": null,
   "metadata": {},
   "outputs": [],
   "source": []
  }
 ],
 "metadata": {
  "language_info": {
   "name": "python",
   "pygments_lexer": "ipython3"
  }
 },
 "nbformat": 4,
 "nbformat_minor": 2
}
