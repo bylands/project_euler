{
 "cells": [
  {
   "cell_type": "code",
   "execution_count": null,
   "id": "b8e9d9a4-dfc6-4066-a7b9-ac8a2606332d",
   "metadata": {},
   "outputs": [],
   "source": [
    "'''\n",
    "Project Euler Problem 112: Bouncy Numbers\n",
    "'''"
   ]
  },
  {
   "cell_type": "code",
   "execution_count": null,
   "id": "fdf2ae84-8184-49af-8334-c281f553a7b3",
   "metadata": {},
   "outputs": [],
   "source": [
    "def is_bouncy(n):\n",
    "    s = str(n)\n",
    "    inc = int(''.join(sorted(s)))\n",
    "    dec = int(''.join(sorted(s, reverse=True)))\n",
    "\n",
    "    return (n != inc) and (n != dec)"
   ]
  },
  {
   "cell_type": "code",
   "execution_count": null,
   "id": "93834b94-1720-405b-9050-ba8ab9384478",
   "metadata": {},
   "outputs": [],
   "source": [
    "n_max = 21780\n",
    "counter = 0\n",
    "\n",
    "for n in range(n_max):\n",
    "    if is_bouncy(n):\n",
    "        counter += 1\n",
    "\n",
    "print(f'bouncy numbers below {n_max}: {counter} ({counter/n_max*100:.2f} %)')"
   ]
  },
  {
   "cell_type": "code",
   "execution_count": null,
   "id": "4f7aa234-6c1a-4fff-a876-1e9d3058632d",
   "metadata": {},
   "outputs": [],
   "source": [
    "perc = 99\n",
    "n_bouncy = 0\n",
    "n = 100\n",
    "\n",
    "while True:\n",
    "    if is_bouncy(n):\n",
    "        n_bouncy += 1\n",
    "    if n_bouncy * 100 == perc * n:\n",
    "        break\n",
    "    n += 1\n",
    "\n",
    "print(f'The least number for which the proportion of bouncy numbers is {perc} % is {n}')"
   ]
  },
  {
   "cell_type": "code",
   "execution_count": null,
   "id": "76e32e92-89ac-4764-8c6f-3704c5fe85be",
   "metadata": {},
   "outputs": [],
   "source": []
  }
 ],
 "metadata": {
  "language_info": {
   "name": "python",
   "pygments_lexer": "ipython3"
  }
 },
 "nbformat": 4,
 "nbformat_minor": 5
}
