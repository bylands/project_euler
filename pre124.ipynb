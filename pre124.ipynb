{
 "cells": [
  {
   "cell_type": "code",
   "execution_count": null,
   "id": "dff7ffef-0111-4a27-990c-185c51915313",
   "metadata": {},
   "outputs": [],
   "source": [
    "'''\n",
    "Project Euler Problem 124: Ordered Radicals\n",
    "'''"
   ]
  },
  {
   "cell_type": "code",
   "execution_count": null,
   "id": "7aaa3880-bcbb-469a-861c-2aeb5fd37e50",
   "metadata": {},
   "outputs": [],
   "source": [
    "from sympy.ntheory import factorint"
   ]
  },
  {
   "cell_type": "code",
   "execution_count": null,
   "id": "f8575352-4286-48fe-abdc-20703abcf8b8",
   "metadata": {},
   "outputs": [],
   "source": [
    "def rad(n):\n",
    "    r = 1\n",
    "    \n",
    "    for i in factorint(n):\n",
    "        r *= i\n",
    "\n",
    "    return r\n",
    "        "
   ]
  },
  {
   "cell_type": "code",
   "execution_count": null,
   "id": "76bd6739-27ba-4cdf-91ce-2f1c4f7934d2",
   "metadata": {},
   "outputs": [],
   "source": [
    "def E(n, k):\n",
    "    rad_lst = sorted([(i, rad(i)) for i in range(1, n+1)], key=lambda x: x[1])\n",
    "    return rad_lst[k-1][0]"
   ]
  },
  {
   "cell_type": "code",
   "execution_count": null,
   "id": "d5e71dfb-6edd-4fa7-8249-ca01fc7a15c1",
   "metadata": {},
   "outputs": [],
   "source": [
    "n = 100000\n",
    "k = 10000\n",
    "\n",
    "print(f'The value for E({k}) for {n=} is {E(n, k)}')"
   ]
  },
  {
   "cell_type": "code",
   "execution_count": null,
   "id": "1dbad664-7146-4f7e-9f56-a3149a7ce58a",
   "metadata": {},
   "outputs": [],
   "source": []
  }
 ],
 "metadata": {
  "language_info": {
   "name": "python",
   "pygments_lexer": "ipython3"
  }
 },
 "nbformat": 4,
 "nbformat_minor": 5
}
