{
 "cells": [
  {
   "cell_type": "code",
   "execution_count": null,
   "metadata": {},
   "outputs": [],
   "source": [
    "'''\n",
    "Project Euler Problem 005: Smallest Multiple\n",
    "'''"
   ]
  },
  {
   "cell_type": "code",
   "execution_count": null,
   "metadata": {},
   "outputs": [],
   "source": [
    "import numpy as np\n",
    "import sympy as sp"
   ]
  },
  {
   "cell_type": "code",
   "execution_count": null,
   "metadata": {},
   "outputs": [],
   "source": [
    "N = 20\n",
    "\n",
    "N_list = list(range(N+1))\n",
    "\n",
    "lcm = 1\n",
    "\n",
    "for i in range(2, N+1):\n",
    "    if N_list[i] > 1:\n",
    "        lcm *= N_list[i]\n",
    "        for j in range(2*i, N+1, i):\n",
    "            N_list[j] = N_list[j]//N_list[i]\n",
    "        N_list[i] = 1\n",
    "\n",
    "print(f'smallest number that can be divided by each of the numbers from 1 to {N}: {lcm}')\n"
   ]
  },
  {
   "cell_type": "code",
   "execution_count": null,
   "metadata": {},
   "outputs": [],
   "source": [
    "def gcd(a, b):\n",
    "    if a < b:\n",
    "        a, b = b, a\n",
    "\n",
    "    a = a - (a//b - 1) * b\n",
    "\n",
    "    while a != b:\n",
    "        if a > b:\n",
    "            a = a - b\n",
    "        else:\n",
    "            b = b - a\n",
    "    return a\n",
    "\n",
    "def lcm(a, b):\n",
    "    return a*b // gcd(a, b)"
   ]
  },
  {
   "cell_type": "code",
   "execution_count": null,
   "metadata": {},
   "outputs": [],
   "source": [
    "N = 20\n",
    "\n",
    "sol = 1\n",
    "\n",
    "for i in range(2, N+1):\n",
    "    sol = lcm(sol, i)\n",
    "\n",
    "print(sol)"
   ]
  },
  {
   "cell_type": "code",
   "execution_count": null,
   "metadata": {},
   "outputs": [],
   "source": [
    "N = 20\n",
    "\n",
    "sol = 1\n",
    "\n",
    "for i in range(2, N+1):\n",
    "    sol = sp.lcm(sol, i)\n",
    "\n",
    "print(sol)"
   ]
  },
  {
   "cell_type": "code",
   "execution_count": null,
   "metadata": {},
   "outputs": [],
   "source": []
  }
 ],
 "metadata": {
  "language_info": {
   "name": "python",
   "pygments_lexer": "ipython3"
  }
 },
 "nbformat": 4,
 "nbformat_minor": 2
}
