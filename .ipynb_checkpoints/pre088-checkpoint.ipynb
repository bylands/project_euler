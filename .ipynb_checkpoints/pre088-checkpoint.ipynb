{
 "cells": [
  {
   "cell_type": "code",
   "execution_count": null,
   "metadata": {},
   "outputs": [],
   "source": [
    "'''\n",
    "Project Euler Problem 088: Product-sum Numbers\n",
    "'''"
   ]
  },
  {
   "cell_type": "code",
   "execution_count": null,
   "metadata": {},
   "outputs": [],
   "source": [
    "from sympy import factorint\n",
    "from itertools import combinations, chain\n",
    "from operator import mul\n",
    "from functools import reduce"
   ]
  },
  {
   "cell_type": "code",
   "execution_count": null,
   "metadata": {},
   "outputs": [],
   "source": [
    "def get_sums_for_product(n: int) -> list:\n",
    "    factors = get_prime_factors(n)\n",
    "    \n",
    "    sum_list = []\n",
    "\n",
    "\n",
    "def get_prime_factors(n: int) -> list:\n",
    "    factorlist = []\n",
    "    for p, n in factorint(n).items():\n",
    "        factorlist += [p]*n\n",
    "    return factorlist\n",
    "\n",
    "\n",
    "def get_combinations(factors: list) -> list:\n",
    "    if (n_factors := len(factors)) == 1:\n",
    "        print([(1, factors[0])])\n",
    "        return\n",
    "    \n",
    "    for i in range(1, n_factors):\n",
    "        for comb in combinations(factors, i):\n",
    "            for c in comb:\n",
    "                factors.remove(c)\n",
    "            comb_prod = reduce(mul, comb, 1)\n",
    "            sum_list = [(len(factors)+1, comb_prod+sum(factors))]\n",
    "            get_combinations(factors)\n",
    "            factors += comb\n",
    "    print(list(set(sum_list)))\n",
    "\n",
    "\n",
    "def backtrack(start, target, factors, combinations, n):\n",
    "\t# Base case: if target is 1, we have found a factorization\n",
    "\tif target == 1:\n",
    "\t\t# Add a copy of the factors list to combinations, except if the list contains only one factor equal to n\n",
    "\t\tif len(factors) > 1 or factors[0] != n:\n",
    "\t\t\tcombinations.append(list(factors))\n",
    "\t\treturn\n",
    "\n",
    "\t# Try all factors from start to target, inclusive\n",
    "\tfor i in range(start, target + 1):\n",
    "\t\tif target % i == 0:\n",
    "\t\t\tfactors.append(i) # Add i to factors\n",
    "\t\t\t# Recursively find factors of target // i\n",
    "\t\t\tbacktrack(i, target // i, factors, combinations, n)\n",
    "\t\t\tfactors.pop() # Remove i from factors\n",
    "\n",
    "\n",
    "def factorCombinations(n):\n",
    "\tcombinations = []\n",
    "\tfactors = []\n",
    "\tbacktrack(2, n, factors, combinations, n)\n",
    "\treturn combinations"
   ]
  },
  {
   "cell_type": "code",
   "execution_count": null,
   "metadata": {},
   "outputs": [],
   "source": [
    "maxlen = 12000\n",
    "i = 2\n",
    "k_dict = {}\n",
    "\n",
    "while len(k_dict) < maxlen-1:\n",
    "    for factors in factorCombinations(i):\n",
    "        l = len(factors)\n",
    "        s = sum(factors)\n",
    "    \n",
    "        k = l + i - s\n",
    "\n",
    "        if (k not in k_dict) and (k <= maxlen):\n",
    "            k_dict[k] = i\n",
    "\n",
    "    i += 1\n",
    "\n",
    "sum({v for k, v in k_dict.items()})"
   ]
  },
  {
   "cell_type": "code",
   "execution_count": null,
   "metadata": {},
   "outputs": [],
   "source": []
  }
 ],
 "metadata": {
  "language_info": {
   "name": "python",
   "pygments_lexer": "ipython3"
  }
 },
 "nbformat": 4,
 "nbformat_minor": 2
}
