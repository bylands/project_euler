{
 "cells": [
  {
   "cell_type": "code",
   "execution_count": null,
   "metadata": {},
   "outputs": [],
   "source": [
    "'''\n",
    "Project Euler Problem 009: Special Pythagorean Triplet\n",
    "'''"
   ]
  },
  {
   "cell_type": "code",
   "execution_count": null,
   "metadata": {},
   "outputs": [],
   "source": [
    "N = 1000\n",
    "\n",
    "for i in range(1, N):\n",
    "    for j in range(i, N):\n",
    "        k = N - i - j\n",
    "        if i**2 + j**2 == k**2:\n",
    "            print(f'Pythagorean triplet: {i}^2 + {j}^2 = {k}^2')\n",
    "            print(f'Product of triplet numbers: {i*j*k}')"
   ]
  },
  {
   "cell_type": "code",
   "execution_count": null,
   "metadata": {},
   "outputs": [],
   "source": []
  }
 ],
 "metadata": {
  "language_info": {
   "name": "python",
   "pygments_lexer": "ipython3"
  }
 },
 "nbformat": 4,
 "nbformat_minor": 2
}
