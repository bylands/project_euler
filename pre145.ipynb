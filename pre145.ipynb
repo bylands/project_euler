{
 "cells": [
  {
   "cell_type": "code",
   "execution_count": null,
   "id": "535099d3-2d72-478b-82d4-8fdaffbce053",
   "metadata": {},
   "outputs": [],
   "source": [
    "import numpy as np"
   ]
  },
  {
   "cell_type": "code",
   "execution_count": null,
   "id": "d8d3f1cd-3e94-4b06-bcd6-a9b649efd118",
   "metadata": {},
   "outputs": [],
   "source": [
    "def is_reversible(n):\n",
    "    \n",
    "    # no leading zeros allowed\n",
    "    if n % 10 == 0:\n",
    "        return False\n",
    "    \n",
    "    n_str = str(n)\n",
    "    m_str = n_str[::-1]\n",
    "    m = int(m_str)\n",
    "    \n",
    "    total = n + m\n",
    "    total_str = str(total)\n",
    "\n",
    "    for c in total_str:\n",
    "        if int(c) % 2 == 0:\n",
    "            return(False)\n",
    "\n",
    "    print(n, total)\n",
    "    return(True)"
   ]
  },
  {
   "cell_type": "code",
   "execution_count": null,
   "id": "b3248fa8-e712-4dcd-94d5-724997d86ed6",
   "metadata": {},
   "outputs": [],
   "source": [
    "n_max = 10000\n",
    "counter = 0\n",
    "\n",
    "for n in range(1000, n_max):\n",
    "    if is_reversible(n):\n",
    "        counter += 1\n",
    "\n",
    "print(counter)"
   ]
  },
  {
   "cell_type": "code",
   "execution_count": null,
   "id": "9385a0a2-182b-41eb-b415-6f71e825a4be",
   "metadata": {},
   "outputs": [],
   "source": [
    "109+901"
   ]
  },
  {
   "cell_type": "code",
   "execution_count": null,
   "id": "53863781-6184-4b35-b6b1-f7608b970202",
   "metadata": {},
   "outputs": [],
   "source": []
  }
 ],
 "metadata": {
  "language_info": {
   "name": "python",
   "pygments_lexer": "ipython3"
  }
 },
 "nbformat": 4,
 "nbformat_minor": 5
}
