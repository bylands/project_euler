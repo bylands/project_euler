{
 "cells": [
  {
   "cell_type": "code",
   "execution_count": null,
   "id": "905142c4-7dfa-4005-b8fe-1c8d77a77570",
   "metadata": {},
   "outputs": [],
   "source": [
    "'''\n",
    "Project Euler Problem 145: Reversible Numbers\n",
    "'''"
   ]
  },
  {
   "cell_type": "code",
   "execution_count": null,
   "id": "535099d3-2d72-478b-82d4-8fdaffbce053",
   "metadata": {},
   "outputs": [],
   "source": [
    "import numpy as np"
   ]
  },
  {
   "cell_type": "code",
   "execution_count": null,
   "id": "d8d3f1cd-3e94-4b06-bcd6-a9b649efd118",
   "metadata": {},
   "outputs": [],
   "source": [
    "def is_reversible(n, pflag):\n",
    "    \n",
    "    # no leading zeros allowed\n",
    "    if n % 10 == 0:\n",
    "        return False\n",
    "    \n",
    "    n_str = str(n)\n",
    "    m_str = n_str[::-1]\n",
    "    m = int(m_str)\n",
    "    \n",
    "    total = n + m\n",
    "    total_str = str(total)\n",
    "\n",
    "    for c in total_str:\n",
    "        if int(c) % 2 == 0:\n",
    "            return(False)\n",
    "\n",
    "    if pflag:\n",
    "        print(n, total)\n",
    "        \n",
    "    return(True)"
   ]
  },
  {
   "cell_type": "code",
   "execution_count": null,
   "id": "b3248fa8-e712-4dcd-94d5-724997d86ed6",
   "metadata": {},
   "outputs": [],
   "source": [
    "n_min = 10_000_000\n",
    "n_max = 100_000_000\n",
    "counter = 0\n",
    "pflag = False\n",
    "\n",
    "for n in range(n_min, n_max):\n",
    "    if is_reversible(n, pflag):\n",
    "        counter += 1\n",
    "\n",
    "print(counter)"
   ]
  },
  {
   "cell_type": "code",
   "execution_count": null,
   "id": "53863781-6184-4b35-b6b1-f7608b970202",
   "metadata": {},
   "outputs": [],
   "source": [
    "def reversible(d):\n",
    "    match (d % 4):\n",
    "        case 0:\n",
    "            return 20 * 30**(d//2 -1)\n",
    "        case 1:\n",
    "            return 0\n",
    "        case 2:\n",
    "            return 20 * 30**((d-1)//2)\n",
    "        case 3:\n",
    "            return 5 * 20 * 500**((d-3)//4)"
   ]
  },
  {
   "cell_type": "code",
   "execution_count": null,
   "id": "12b01262-8ecf-4bf5-8ffe-060b226ea7d6",
   "metadata": {},
   "outputs": [],
   "source": [
    "dmax = 9\n",
    "\n",
    "counter = 0\n",
    "\n",
    "for d in range(1, dmax+1):\n",
    "    counter += reversible(d)\n",
    "\n",
    "print(f'Reversible numbers up to 10^{dmax}: {counter}')"
   ]
  },
  {
   "cell_type": "code",
   "execution_count": null,
   "id": "eeb084b5-2f5b-468a-8471-7610d8511991",
   "metadata": {},
   "outputs": [],
   "source": []
  }
 ],
 "metadata": {
  "kernelspec": {
   "display_name": "Python 3 (ipykernel)",
   "language": "python",
   "name": "python3"
  },
  "language_info": {
   "codemirror_mode": {
    "name": "ipython",
    "version": 3
   },
   "file_extension": ".py",
   "mimetype": "text/x-python",
   "name": "python",
   "nbconvert_exporter": "python",
   "pygments_lexer": "ipython3",
   "version": "3.13.3"
  }
 },
 "nbformat": 4,
 "nbformat_minor": 5
}
