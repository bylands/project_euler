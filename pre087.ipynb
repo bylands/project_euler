{
 "cells": [
  {
   "cell_type": "code",
   "execution_count": null,
   "metadata": {},
   "outputs": [],
   "source": [
    "'''\n",
    "Project Euler Problem 087: Prime Power Triples\n",
    "'''"
   ]
  },
  {
   "cell_type": "code",
   "execution_count": null,
   "metadata": {},
   "outputs": [],
   "source": [
    "from sympy import primerange"
   ]
  },
  {
   "cell_type": "code",
   "execution_count": null,
   "metadata": {},
   "outputs": [],
   "source": [
    "limit = 50_000_000\n",
    "\n",
    "triples = {}\n",
    "\n",
    "for i in primerange(int(limit**(1/2))+1):\n",
    "    for j in primerange(int((limit-i**2)**(1/3))+1):\n",
    "        for k in primerange(int((limit-i**2-j**3)**(1/4))+1):\n",
    "            n = i**2+j**3+k**4\n",
    "            if n in triples:\n",
    "                triples[n].append((i, j, k))\n",
    "            else:\n",
    "                triples[n] = [(i, j, k)]\n",
    "\n",
    "print(f'The number or prime power triples below {limit} is {len(triples)}')\n",
    "print(f'The largest number of distinct combinations for a given number is {len(sorted(list(triples.items()), key=lambda x: len(x[1]), reverse=True)[0][1])}')"
   ]
  },
  {
   "cell_type": "code",
   "execution_count": null,
   "metadata": {},
   "outputs": [],
   "source": []
  }
 ],
 "metadata": {
  "language_info": {
   "name": "python",
   "pygments_lexer": "ipython3"
  }
 },
 "nbformat": 4,
 "nbformat_minor": 2
}
