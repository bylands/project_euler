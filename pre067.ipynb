{
 "cells": [
  {
   "cell_type": "code",
   "execution_count": null,
   "metadata": {},
   "outputs": [],
   "source": [
    "'''\n",
    "Project Euler Problem 067: Maximum Path Sum II\n",
    "'''"
   ]
  },
  {
   "cell_type": "code",
   "execution_count": null,
   "metadata": {},
   "outputs": [],
   "source": [
    "import csv"
   ]
  },
  {
   "cell_type": "code",
   "execution_count": null,
   "metadata": {},
   "outputs": [],
   "source": [
    "with open('euler_ressources/0067_triangle.txt') as csvfile:\n",
    "    rows = [list(map(int, row)) for row in csv.reader(csvfile, delimiter=' ')]"
   ]
  },
  {
   "cell_type": "code",
   "execution_count": null,
   "metadata": {},
   "outputs": [],
   "source": [
    "'''\n",
    "Bottom-up: Add higher value from bottom to top\n",
    "'''\n",
    "\n",
    "N = len(rows)\n",
    "# N = 4\n",
    "\n",
    "for i in range(N-2, -1, -1):\n",
    "    for j in range(i+1):\n",
    "        rows[i][j] += max(rows[i+1][j], rows[i+1][j+1])\n",
    "\n",
    "print(f'The maximum sum is {rows[0][0]}.')"
   ]
  },
  {
   "cell_type": "code",
   "execution_count": null,
   "metadata": {},
   "outputs": [],
   "source": []
  }
 ],
 "metadata": {
  "language_info": {
   "name": "python",
   "pygments_lexer": "ipython3"
  }
 },
 "nbformat": 4,
 "nbformat_minor": 2
}
