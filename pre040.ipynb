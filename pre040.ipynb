{
 "cells": [
  {
   "cell_type": "code",
   "execution_count": null,
   "metadata": {},
   "outputs": [],
   "source": [
    "'''\n",
    "Project Euler Problem 040: Champernowne's Constant\n",
    "'''"
   ]
  },
  {
   "cell_type": "code",
   "execution_count": null,
   "metadata": {},
   "outputs": [],
   "source": [
    "def champernowne():\n",
    "    i = 0\n",
    "    while True:\n",
    "        i+= 1\n",
    "        yield str(i)"
   ]
  },
  {
   "cell_type": "code",
   "execution_count": null,
   "metadata": {},
   "outputs": [],
   "source": [
    "def champlist(poslist):\n",
    "    cgen = champernowne()\n",
    "\n",
    "    cursor = 0\n",
    "    sollist = []\n",
    "\n",
    "    for pos in poslist:\n",
    "        while True:\n",
    "            i = next(cgen)\n",
    "            l = len(i)\n",
    "            cursor += l\n",
    "            if cursor >= pos:\n",
    "                sollist.append(i[l+pos-cursor-1:l+pos-cursor])\n",
    "                break\n",
    "\n",
    "    return sollist"
   ]
  },
  {
   "cell_type": "code",
   "execution_count": null,
   "metadata": {},
   "outputs": [],
   "source": [
    "solution = 1\n",
    "\n",
    "for i in champlist([1, 10, 100, 1000, 10000, 100000, 1000000]):\n",
    "    solution *= int(i)\n",
    "\n",
    "print(f'The product of digits 1, 10, 100, 1000, 10000, 100000, and 1000000 of Chambernowne\\s constant is {solution} ')"
   ]
  },
  {
   "cell_type": "code",
   "execution_count": null,
   "metadata": {},
   "outputs": [],
   "source": []
  }
 ],
 "metadata": {
  "language_info": {
   "name": "python",
   "pygments_lexer": "ipython3"
  }
 },
 "nbformat": 4,
 "nbformat_minor": 2
}
