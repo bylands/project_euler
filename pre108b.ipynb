{
 "cells": [
  {
   "cell_type": "code",
   "execution_count": null,
   "id": "094d35ee-7319-42d7-ab23-db1690d63ff9",
   "metadata": {},
   "outputs": [],
   "source": [
    "from sympy import primefactors, factorint"
   ]
  },
  {
   "cell_type": "code",
   "execution_count": null,
   "id": "e257f605-9af2-48e9-abd4-38104afddde6",
   "metadata": {},
   "outputs": [],
   "source": [
    "def num_factors1(n):\n",
    "    return sum(factorint(n).values())"
   ]
  },
  {
   "cell_type": "code",
   "execution_count": null,
   "id": "d1a04f73-c475-405c-bddf-169e6ec93c39",
   "metadata": {},
   "outputs": [],
   "source": [
    "def num_factors2(n):\n",
    "    i = 2\n",
    "    counter = 0\n",
    "    \n",
    "    while i * i < n:\n",
    "        while n%i == 0:\n",
    "            n = n // i\n",
    "            counter += 1\n",
    "        i = i + 1\n",
    "\n",
    "    return counter if n == 1 else counter + 1"
   ]
  },
  {
   "cell_type": "code",
   "execution_count": null,
   "id": "230bcfee-c05b-414f-a174-327972b2551b",
   "metadata": {},
   "outputs": [],
   "source": [
    "threshold = 35\n",
    "n = 1\n",
    "\n",
    "while True:\n",
    "    if num_factors1(n*n) >= threshold:\n",
    "        print(n)\n",
    "        break\n",
    "    n += 1"
   ]
  },
  {
   "cell_type": "code",
   "execution_count": null,
   "id": "4d76ce3d-75bc-472b-a19e-88f4e816569f",
   "metadata": {},
   "outputs": [],
   "source": []
  }
 ],
 "metadata": {
  "language_info": {
   "name": "python",
   "pygments_lexer": "ipython3"
  }
 },
 "nbformat": 4,
 "nbformat_minor": 5
}
