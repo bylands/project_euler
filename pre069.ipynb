{
 "cells": [
  {
   "cell_type": "code",
   "execution_count": null,
   "metadata": {},
   "outputs": [],
   "source": [
    "'''\n",
    "Project Euler Problem 069: Totient Maximum\n",
    "'''"
   ]
  },
  {
   "cell_type": "code",
   "execution_count": null,
   "metadata": {},
   "outputs": [],
   "source": [
    "import math\n",
    "import sympy as sp\n",
    "from sympy import sieve"
   ]
  },
  {
   "cell_type": "code",
   "execution_count": null,
   "metadata": {},
   "outputs": [],
   "source": [
    "def primefactors(n):\n",
    "    p = 2\n",
    "    factors = []\n",
    "    while n >= p:\n",
    "        if n % p == 0:\n",
    "            factors.append(p)\n",
    "            n /= p\n",
    "        else:\n",
    "            p += 1\n",
    "    return factors\n",
    "\n",
    "\n",
    "def unique_primefactors(n):\n",
    "    p = 2\n",
    "    factors = []\n",
    "    while n >= p:\n",
    "        if n % p == 0:\n",
    "            if p not in factors:\n",
    "                factors.append(p)\n",
    "            n /= p\n",
    "        else:\n",
    "            p += 1\n",
    "    return factors\n",
    "\n",
    "\n",
    "def gcd(a, b):\n",
    " \n",
    "    if (a == 0):\n",
    "        return b\n",
    "    return gcd(b % a, a)\n",
    "\n",
    "\n",
    "def totient(n):\n",
    "    result = n\n",
    "    for p in unique_primefactors(n):\n",
    "        result *= (1-1/p)\n",
    "    return int(result)"
   ]
  },
  {
   "cell_type": "code",
   "execution_count": null,
   "metadata": {},
   "outputs": [],
   "source": [
    "Nmax = 1000000\n",
    "totients = sieve.totientrange(1, Nmax)\n",
    "\n",
    "tmax = 1\n",
    "imax = 1\n",
    "for i, t in enumerate(totients, 1):\n",
    "    if i/t > tmax:\n",
    "        tmax = i/t\n",
    "        imax = i\n",
    "\n",
    "print(imax, tmax)"
   ]
  },
  {
   "cell_type": "code",
   "execution_count": null,
   "metadata": {},
   "outputs": [],
   "source": [
    "Nmax = 10000\n",
    "tmax = 1\n",
    "imax = 1\n",
    "for i in range(2, Nmax):\n",
    "    t = totient(i)\n",
    "    if i/t > tmax:\n",
    "        tmax = i/t\n",
    "        imax = i\n",
    "\n",
    "print(imax, tmax)"
   ]
  },
  {
   "cell_type": "code",
   "execution_count": null,
   "metadata": {},
   "outputs": [],
   "source": []
  }
 ],
 "metadata": {
  "language_info": {
   "name": "python",
   "pygments_lexer": "ipython3"
  }
 },
 "nbformat": 4,
 "nbformat_minor": 2
}
