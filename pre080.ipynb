{
 "cells": [
  {
   "cell_type": "code",
   "execution_count": null,
   "metadata": {},
   "outputs": [],
   "source": [
    "'''\n",
    "Project Euler Problem 080: Square Root Digital Expansion\n",
    "'''"
   ]
  },
  {
   "cell_type": "code",
   "execution_count": null,
   "metadata": {},
   "outputs": [],
   "source": [
    "def sqrt_digits(x, ndigits):\n",
    "    c = x\n",
    "    s = 0\n",
    "    \n",
    "    for i in range(ndigits):\n",
    "        d, r = get_digit(c, s)\n",
    "        c = (c-r) * 100\n",
    "        s = 10*s + d\n",
    "        if c == 0:\n",
    "            break\n",
    "\n",
    "    return s\n",
    "\n",
    "\n",
    "def get_digit(c, s):\n",
    "    vret = 0\n",
    "    for i in range(1, 11):\n",
    "        if (v := i*(20*s+i)) > c:\n",
    "            return i-1, vret\n",
    "        vret = v\n",
    "    print('Something went wrong with the algorithm!')\n",
    "    return False, False"
   ]
  },
  {
   "cell_type": "code",
   "execution_count": null,
   "metadata": {},
   "outputs": [],
   "source": [
    "Nmax = 100\n",
    "ndigits = 100\n",
    "\n",
    "sqrt_str = (str(sqrt_digits(i, ndigits)) for i in range(1, Nmax))\n",
    "\n",
    "sum_irr = sum(sum(map(int, s)) for s in sqrt_str if len(s)==ndigits)\n",
    "\n",
    "print(f'For the first {Nmax} natural numbers, the total of the digital sums of the first {ndigits} digits')\n",
    "print(f'for all irrational square roots is equal to {sum_irr}')"
   ]
  },
  {
   "cell_type": "code",
   "execution_count": null,
   "metadata": {},
   "outputs": [],
   "source": []
  }
 ],
 "metadata": {
  "language_info": {
   "name": "python",
   "pygments_lexer": "ipython3"
  }
 },
 "nbformat": 4,
 "nbformat_minor": 2
}
