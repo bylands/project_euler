{
 "cells": [
  {
   "cell_type": "code",
   "execution_count": null,
   "metadata": {},
   "outputs": [],
   "source": [
    "'''\n",
    "Project Euler Problem 043: Sub-string Divisibility\n",
    "'''"
   ]
  },
  {
   "cell_type": "code",
   "execution_count": null,
   "metadata": {},
   "outputs": [],
   "source": [
    "from itertools import permutations"
   ]
  },
  {
   "cell_type": "code",
   "execution_count": null,
   "metadata": {},
   "outputs": [],
   "source": [
    "def divisibility(s):\n",
    "    subs = [s[i:i+3] for i in range(1, 8)]\n",
    "    divs = [2, 3, 5, 7, 11, 13, 17]\n",
    "\n",
    "    check = [int(item[0]) % item[1] == 0 for item in zip(subs, divs)]\n",
    "    \n",
    "    return not False in check\n",
    "    \n"
   ]
  },
  {
   "cell_type": "code",
   "execution_count": null,
   "metadata": {},
   "outputs": [],
   "source": [
    "result = [int(''.join(p)) for p in permutations('0123456789') if divisibility(''.join(p))]\n",
    "\n",
    "print(f'The sum of pandigitals with sub-string divisibility is {sum(result)}')"
   ]
  },
  {
   "cell_type": "code",
   "execution_count": null,
   "metadata": {},
   "outputs": [],
   "source": []
  }
 ],
 "metadata": {
  "language_info": {
   "name": "python",
   "pygments_lexer": "ipython3"
  }
 },
 "nbformat": 4,
 "nbformat_minor": 2
}
