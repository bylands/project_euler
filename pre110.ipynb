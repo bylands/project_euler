{
 "cells": [
  {
   "cell_type": "code",
   "execution_count": null,
   "id": "443cf3e9-c6de-42b5-bb18-13e29077af10",
   "metadata": {},
   "outputs": [],
   "source": [
    "'''\n",
    "Project Euler Problem 110: Diophantine Reciprocals II\n",
    "'''"
   ]
  },
  {
   "cell_type": "code",
   "execution_count": null,
   "id": "125d37bf-73a8-4eb0-9efb-77bbb21326d8",
   "metadata": {},
   "outputs": [],
   "source": [
    "import numpy as np"
   ]
  },
  {
   "cell_type": "code",
   "execution_count": null,
   "id": "85e387d6-060f-42ab-a869-450a3e451dcc",
   "metadata": {},
   "outputs": [],
   "source": [
    "an = 8_000_001\n",
    "\n",
    "max_factors = int(np.ceil(np.log(an)/np.log(3)))\n",
    "print(max_factors)"
   ]
  },
  {
   "cell_type": "code",
   "execution_count": null,
   "id": "192c4b7a-1a24-49ae-aa99-f63b6bf512fc",
   "metadata": {},
   "outputs": [],
   "source": [
    "from sympy import prime, factorint"
   ]
  },
  {
   "cell_type": "code",
   "execution_count": null,
   "id": "a29e04dd-b28f-4d74-95b2-43371927f307",
   "metadata": {},
   "outputs": [],
   "source": [
    "result = 1\n",
    "\n",
    "for i in range(1, 15):\n",
    "    result *= prime(i)\n",
    "\n",
    "print(result)"
   ]
  },
  {
   "cell_type": "code",
   "execution_count": null,
   "id": "53691764-09c9-4040-957f-f7c9c2796edd",
   "metadata": {},
   "outputs": [],
   "source": [
    "5 * 3**12"
   ]
  },
  {
   "cell_type": "code",
   "execution_count": null,
   "id": "91353a69-21cf-4b35-b997-7bfdc8bea28b",
   "metadata": {},
   "outputs": [],
   "source": [
    "i"
   ]
  },
  {
   "cell_type": "code",
   "execution_count": null,
   "id": "194a7ef5-deab-47d5-866c-36b5d753f3a1",
   "metadata": {},
   "outputs": [],
   "source": [
    "def n_diph_rec(n):\n",
    "    count = 0\n",
    "    for i in range(n+1, 2*n+1):\n",
    "        if (n * i) % (i - n) == 0:\n",
    "            count += 1\n",
    "    return count\n",
    "\n",
    "n_diph_rec(30030)"
   ]
  },
  {
   "cell_type": "code",
   "execution_count": null,
   "id": "1ae43cb1-b442-465f-84f6-6491b4c97223",
   "metadata": {},
   "outputs": [],
   "source": [
    "factorint(30030)"
   ]
  },
  {
   "cell_type": "code",
   "execution_count": null,
   "id": "e83b5c4a-5a31-41c4-98be-fb913b89c3b3",
   "metadata": {},
   "outputs": [],
   "source": [
    "np.log(2000)/np.log(3)"
   ]
  },
  {
   "cell_type": "code",
   "execution_count": null,
   "id": "54bad253-6481-4a28-bb8f-313da6350781",
   "metadata": {},
   "outputs": [],
   "source": [
    "factorint(180180)"
   ]
  },
  {
   "cell_type": "code",
   "execution_count": null,
   "id": "f366642b-c774-4ce3-89e5-8079a3d47be7",
   "metadata": {},
   "outputs": [],
   "source": [
    "from sympy.solvers.diophantine.diophantine import partition"
   ]
  },
  {
   "cell_type": "code",
   "execution_count": null,
   "id": "ec58bc7e-c1a6-4da1-bce1-68103196657f",
   "metadata": {},
   "outputs": [],
   "source": [
    "solution = []\n",
    "\n",
    "for n in range(14, 25):\n",
    "    target = 8_000_001\n",
    "    \n",
    "    parts = partition(n)\n",
    "    results = []\n",
    "    \n",
    "    for p in parts:\n",
    "        factors = 1\n",
    "        value = 1\n",
    "        right = len(p)\n",
    "        \n",
    "        for i, e in enumerate(p):\n",
    "            factors *= (2 * e + 1)\n",
    "            value *= prime(right-i)**e\n",
    "        if factors > target:\n",
    "            results.append((factors, value/9350130049860600, p))\n",
    "\n",
    "    if results:\n",
    "        solution.append((n, min(results, key=lambda x: x[1])))\n",
    "\n",
    "print(sorted(solution, key=lambda x: x[1][1]))"
   ]
  },
  {
   "cell_type": "code",
   "execution_count": null,
   "id": "2bb5bf84-0ecb-473c-9424-df4a8d23407b",
   "metadata": {},
   "outputs": [],
   "source": []
  }
 ],
 "metadata": {
  "language_info": {
   "name": "python",
   "pygments_lexer": "ipython3"
  }
 },
 "nbformat": 4,
 "nbformat_minor": 5
}
