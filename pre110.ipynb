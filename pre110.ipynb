{
 "cells": [
  {
   "cell_type": "code",
   "execution_count": null,
   "id": "443cf3e9-c6de-42b5-bb18-13e29077af10",
   "metadata": {},
   "outputs": [],
   "source": [
    "'''\n",
    "Project Euler Problem 110: Diophantine Reciprocals II\n",
    "'''"
   ]
  },
  {
   "cell_type": "code",
   "execution_count": null,
   "id": "125d37bf-73a8-4eb0-9efb-77bbb21326d8",
   "metadata": {},
   "outputs": [],
   "source": [
    "import numpy as np\n",
    "from sympy import prime, factorint\n",
    "from sympy.solvers.diophantine.diophantine import partition"
   ]
  },
  {
   "cell_type": "code",
   "execution_count": null,
   "id": "85e387d6-060f-42ab-a869-450a3e451dcc",
   "metadata": {},
   "outputs": [],
   "source": [
    "target = 4_000_000 # distinct solutions\n",
    "an = 2 * target - 1\n",
    "\n",
    "lower = int(np.ceil(np.log(an)/np.log(3)))\n",
    "upper = lower + int(np.ceil(np.log(prime(lower))/np.log(2)))"
   ]
  },
  {
   "cell_type": "code",
   "execution_count": null,
   "id": "ec58bc7e-c1a6-4da1-bce1-68103196657f",
   "metadata": {},
   "outputs": [],
   "source": [
    "sols = []\n",
    "\n",
    "for n in range(lower, upper):\n",
    "    \n",
    "    parts = partition(n)\n",
    "    results = []\n",
    "    \n",
    "    for p in parts:\n",
    "        factors = 1\n",
    "        value = 1\n",
    "        right = len(p)\n",
    "        \n",
    "        for i, e in enumerate(p):\n",
    "            factors *= (2 * e + 1)\n",
    "            value *= prime(right-i)**e\n",
    "        if factors > an:\n",
    "            results.append((factors, value, p))\n",
    "\n",
    "    if results:\n",
    "        sols.append((n, min(results, key=lambda x: x[1])))\n",
    "\n",
    "npf, sol = sorted(sols, key=lambda x: x[1][1])[0]\n",
    "nf, n, mult = sol\n",
    "n_sol = (nf + 1)//2\n",
    "\n",
    "print(f'The number {n:,} has {n_sol:,} distinct solutions.'.replace(',', '\\''))\n",
    "print(f'It is the lowest value with more than {target:,} distinct solutions.'.replace(',', '\\''))"
   ]
  },
  {
   "cell_type": "code",
   "execution_count": null,
   "id": "395f8f6c-d02c-4349-9196-72e2d2868acf",
   "metadata": {},
   "outputs": [],
   "source": []
  }
 ],
 "metadata": {
  "language_info": {
   "name": "python",
   "pygments_lexer": "ipython3"
  }
 },
 "nbformat": 4,
 "nbformat_minor": 5
}
