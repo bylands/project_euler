{
 "cells": [
  {
   "cell_type": "code",
   "execution_count": null,
   "metadata": {},
   "outputs": [],
   "source": [
    "'''\n",
    "Project Euler Problem 007: 10001st Prime\n",
    "'''"
   ]
  },
  {
   "cell_type": "code",
   "execution_count": null,
   "metadata": {},
   "outputs": [],
   "source": [
    "import numpy as np"
   ]
  },
  {
   "cell_type": "code",
   "execution_count": null,
   "metadata": {},
   "outputs": [],
   "source": [
    "Nmax = 120000\n",
    "nth = 10001\n",
    "\n",
    "numbers = np.arange(Nmax+1)\n",
    "\n",
    "for i in range(2, Nmax+1):\n",
    "    if numbers[i]:\n",
    "        for j in range(i*i, Nmax+1, i):\n",
    "            numbers[j] = 0\n",
    "\n",
    "numbers = numbers[numbers != 0]\n",
    "\n",
    "if len(numbers) > nth:\n",
    "    print(f'The {nth} prime number is {numbers[nth]}.')\n",
    "else:\n",
    "    print(f'number of primes ({len(numbers)}) lower than {nth}')"
   ]
  },
  {
   "cell_type": "code",
   "execution_count": null,
   "metadata": {},
   "outputs": [],
   "source": []
  }
 ],
 "metadata": {
  "language_info": {
   "name": "python",
   "pygments_lexer": "ipython3"
  }
 },
 "nbformat": 4,
 "nbformat_minor": 2
}
