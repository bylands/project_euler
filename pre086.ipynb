{
 "cells": [
  {
   "cell_type": "code",
   "execution_count": null,
   "metadata": {},
   "outputs": [],
   "source": [
    "'''\n",
    "Project Euler Problem 086: Cuboid Route\n",
    "'''"
   ]
  },
  {
   "cell_type": "code",
   "execution_count": null,
   "metadata": {},
   "outputs": [],
   "source": [
    "import sympy as sp"
   ]
  },
  {
   "cell_type": "code",
   "execution_count": null,
   "metadata": {},
   "outputs": [],
   "source": [
    "a, b, c, x = sp.symbols('a b c x', positive=True)"
   ]
  },
  {
   "cell_type": "code",
   "execution_count": null,
   "metadata": {},
   "outputs": [],
   "source": [
    "L1 = sp.sqrt((a-x)**2+b**2)+sp.sqrt(x**2+c**2)\n",
    "L2 = sp.sqrt(a**2+(b-x)**2)+sp.sqrt(x**2+c**2)\n",
    "L3 = sp.sqrt((c-x)**2+b**2)+sp.sqrt(x**2+a**2)"
   ]
  },
  {
   "cell_type": "code",
   "execution_count": null,
   "metadata": {},
   "outputs": [],
   "source": [
    "x1 = sp.solve(sp.Eq(sp.diff(L1, x), 0), x)\n",
    "x2 = sp.solve(sp.Eq(sp.diff(L2, x), 0), x)\n",
    "x3 = sp.solve(sp.Eq(sp.diff(L3, x), 0), x)"
   ]
  },
  {
   "cell_type": "code",
   "execution_count": null,
   "metadata": {},
   "outputs": [],
   "source": [
    "L1 = L1.subs(x, x1[0]).simplify()\n",
    "L2 = L2.subs(x, x2[0]).simplify()\n",
    "L3 = L3.subs(x, x3[0]).simplify()"
   ]
  },
  {
   "cell_type": "code",
   "execution_count": null,
   "metadata": {},
   "outputs": [],
   "source": [
    "example = {a: 6, b:5, c:3}\n",
    "\n",
    "print(sp.N(L1.subs(example)), sp.N(L2.subs(example)), sp.N(L3.subs(example)))\n"
   ]
  },
  {
   "cell_type": "code",
   "execution_count": null,
   "metadata": {},
   "outputs": [],
   "source": [
    "L1"
   ]
  },
  {
   "cell_type": "code",
   "execution_count": null,
   "metadata": {},
   "outputs": [],
   "source": [
    "Nmax = 200\n",
    "squares = [i**2 for i in range(5*Nmax**2+1)]"
   ]
  },
  {
   "cell_type": "code",
   "execution_count": null,
   "metadata": {},
   "outputs": [],
   "source": [
    "count = 0\n",
    "for a in range(1, Nmax+1):\n",
    "    for bc in range(1, a*2+1):\n",
    "        if a**2 + bc**2 in squares:\n",
    "            print(a, bc)\n",
    "            count += bc//2 - max(0, bc-a-1)\n",
    "\n",
    "print(count)"
   ]
  },
  {
   "cell_type": "code",
   "execution_count": null,
   "metadata": {},
   "outputs": [],
   "source": []
  }
 ],
 "metadata": {
  "language_info": {
   "name": "python",
   "pygments_lexer": "ipython3"
  }
 },
 "nbformat": 4,
 "nbformat_minor": 2
}
