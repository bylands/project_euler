{
 "cells": [
  {
   "cell_type": "code",
   "execution_count": null,
   "metadata": {},
   "outputs": [],
   "source": [
    "'''\n",
    "Project Euler Problem 078: Coin Partitions\n",
    "'''"
   ]
  },
  {
   "cell_type": "code",
   "execution_count": null,
   "metadata": {},
   "outputs": [],
   "source": [
    "from itertools import takewhile, count, cycle\n",
    "from functools import cache"
   ]
  },
  {
   "cell_type": "code",
   "execution_count": null,
   "metadata": {},
   "outputs": [],
   "source": [
    "def pentagonal(n):\n",
    "    return n*(3*n - 1) // 2\n",
    "\n",
    "\n",
    "def pentgen():\n",
    "    i = 2\n",
    "\n",
    "    while True:\n",
    "        yield pentagonal((-1)**i * (i//2))\n",
    "        # yield i\n",
    "        i += 1\n",
    "\n",
    "@cache\n",
    "def partition(n):\n",
    "    pg = pentgen()\n",
    "    if n <= 1: return 1\n",
    "    if n not in parts:\n",
    "        signs = cycle([1, 1, -1, -1])\n",
    "        pentagonals = []\n",
    "        p = 1\n",
    "        while (p:=next(pg)) <= n:\n",
    "            pentagonals += [p]\n",
    "        parts[n] = sum(sign * partition(n - p) for sign, p in zip(signs, pentagonals))\n",
    "\n",
    "    return parts[n]\n"
   ]
  },
  {
   "cell_type": "code",
   "execution_count": null,
   "metadata": {},
   "outputs": [],
   "source": [
    "parts = {}\n",
    "\n",
    "for n in count(5):\n",
    "    if partition(n) % 1_000_000 == 0:\n",
    "        print(n)\n",
    "        break"
   ]
  },
  {
   "cell_type": "code",
   "execution_count": null,
   "metadata": {},
   "outputs": [],
   "source": [
    "@cache\n",
    "def partitions(number: int) -> int:\n",
    "    if number == 0:\n",
    "        return 1\n",
    "    elif number < 0:\n",
    "        return 0\n",
    "    else:\n",
    "        result = 0\n",
    "        for k in count(1):\n",
    "            part_1 = partitions(number - k * (3 * k - 1) // 2)\n",
    "            part_2 = partitions(number - (-k) * (3 * (-k) - 1) // 2)\n",
    "            sign = +1 if k % 2 == 1 else -1\n",
    "            result += sign * (part_1 + part_2)\n",
    "            if not part_1 and not part_2:\n",
    "                break\n",
    "        return result\n"
   ]
  },
  {
   "cell_type": "code",
   "execution_count": null,
   "metadata": {},
   "outputs": [],
   "source": [
    "for n in count(5):\n",
    "    if partitions(n) % 1_000_000 == 0:\n",
    "        print(n)\n",
    "        break"
   ]
  },
  {
   "cell_type": "code",
   "execution_count": null,
   "metadata": {},
   "outputs": [],
   "source": []
  }
 ],
 "metadata": {
  "language_info": {
   "name": "python",
   "pygments_lexer": "ipython3"
  }
 },
 "nbformat": 4,
 "nbformat_minor": 2
}
