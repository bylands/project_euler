{
 "cells": [
  {
   "cell_type": "code",
   "execution_count": null,
   "metadata": {},
   "outputs": [],
   "source": [
    "'''\n",
    "Project Euler Problem 064: Odd Period Square Roots\n",
    "'''"
   ]
  },
  {
   "cell_type": "code",
   "execution_count": null,
   "metadata": {},
   "outputs": [],
   "source": [
    "from itertools import cycle\n",
    "from math import isqrt "
   ]
  },
  {
   "cell_type": "code",
   "execution_count": null,
   "metadata": {},
   "outputs": [],
   "source": [
    "def get_next_term(n, r, d):\n",
    "    nfl = isqrt(n)\n",
    "    denom = (n - r*r)//d\n",
    "    a = int((n**0.5+r)/denom)\n",
    "    rest = denom*a - r\n",
    "    return (a, rest, denom)\n",
    "\n",
    "\n",
    "def approx(sequence, index=0):\n",
    "    if index < len(sequence)-1:\n",
    "        den, num = approx(sequence, index+1)\n",
    "        return (sequence[index]*den+num, den)\n",
    "    else:\n",
    "        return (sequence[index], 1)"
   ]
  },
  {
   "cell_type": "code",
   "execution_count": null,
   "metadata": {},
   "outputs": [],
   "source": [
    "nmax = 10000\n",
    "contfrac = {}\n",
    "periods = {}\n",
    "\n",
    "irrationals = [i for i in range(2, nmax+1) if isqrt(i)**2 != i]\n",
    "\n",
    "for n in irrationals:\n",
    "    a = isqrt(n)\n",
    "    r = a\n",
    "    d = 1\n",
    "    contfrac[n] = [(a, r, d)]\n",
    "    while (terms := get_next_term(n, r, d)) not in contfrac[n]:\n",
    "        contfrac[n] += [terms]\n",
    "        a, r, d = terms\n",
    "    periods[n] = len(contfrac[n])-contfrac[n].index(terms)\n",
    "\n",
    "odds = sum([period % 2 for period in periods.values()])\n",
    "\n",
    "print(f'For N ≤ {nmax} there are {odds} continued fractions with an odd period')"
   ]
  },
  {
   "cell_type": "code",
   "execution_count": null,
   "metadata": {},
   "outputs": [],
   "source": [
    "n = 2\n",
    "N = 5 # length of sequence\n",
    "\n",
    "a = isqrt(n)\n",
    "r = a\n",
    "d = 1\n",
    "contfrac = [(a, r, d)]\n",
    "while (terms := get_next_term(n, r, d)) not in contfrac:\n",
    "    contfrac += [terms]\n",
    "    a, r, d = terms\n",
    "\n",
    "a_list = [a[0] for a in contfrac]\n",
    "N_per = len(contfrac) - contfrac.index(terms)\n",
    "head = len(contfrac) - N_per\n",
    "\n",
    "period = cycle(a_list[head:])\n",
    "\n",
    "sequence = a_list[:head] + [next(period) for i in range(N-head)]\n",
    "\n",
    "num, den = approx(sequence)\n",
    "print(f'{num}/{den} = {num/den} = {n**0.5}')\n"
   ]
  },
  {
   "cell_type": "code",
   "execution_count": null,
   "metadata": {},
   "outputs": [],
   "source": []
  }
 ],
 "metadata": {
  "language_info": {
   "name": "python",
   "pygments_lexer": "ipython3"
  }
 },
 "nbformat": 4,
 "nbformat_minor": 2
}
