{
 "cells": [
  {
   "cell_type": "code",
   "execution_count": null,
   "metadata": {},
   "outputs": [],
   "source": [
    "'''\n",
    "Project Euler Problem 104: Pandigital Fibonacci Ends\n",
    "'''"
   ]
  },
  {
   "cell_type": "code",
   "execution_count": null,
   "metadata": {},
   "outputs": [],
   "source": [
    "from math import log10"
   ]
  },
  {
   "cell_type": "code",
   "execution_count": null,
   "metadata": {},
   "outputs": [],
   "source": [
    "def fib():\n",
    "    a, b = 1, 1\n",
    "    while True:\n",
    "        yield a\n",
    "        a, b = b, a + b"
   ]
  },
  {
   "cell_type": "code",
   "execution_count": null,
   "metadata": {},
   "outputs": [],
   "source": [
    "def tail(n, k):\n",
    "    if n > (d := 10**k):\n",
    "        return n % d\n",
    "    else:\n",
    "        return(n)\n",
    "\n",
    "def head(n, k):\n",
    "    p = int(log10(n))+1\n",
    "    if p > k:\n",
    "        return n // 10**(p-k)\n",
    "    else:\n",
    "        return n"
   ]
  },
  {
   "cell_type": "code",
   "execution_count": null,
   "metadata": {},
   "outputs": [],
   "source": [
    "fgen = fib()\n",
    "panset = set('123456789')\n",
    "k = len(panset)\n",
    "n = 1\n",
    "\n",
    "while True:\n",
    "    f = next(fgen)\n",
    "    if set(str(tail(f, k))) == panset:\n",
    "        # print(f'F_{n} is tail pandigital')\n",
    "        if set(str(head(f, k))) == panset:\n",
    "            print(f'F_{n} is both tail and head pandigital')\n",
    "            print(head(f, k), tail(f, k))\n",
    "            print(f'{int(log10(f))+1} digits')\n",
    "            break\n",
    "\n",
    "    n += 1"
   ]
  },
  {
   "cell_type": "code",
   "execution_count": null,
   "metadata": {},
   "outputs": [],
   "source": []
  }
 ],
 "metadata": {
  "language_info": {
   "name": "python",
   "pygments_lexer": "ipython3"
  }
 },
 "nbformat": 4,
 "nbformat_minor": 4
}
