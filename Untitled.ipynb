{
 "cells": [
  {
   "cell_type": "code",
   "execution_count": 1,
   "id": "21c1b51c-f4b5-42a0-a67d-a9c413d2ecdf",
   "metadata": {},
   "outputs": [
    {
     "data": {
      "text/plain": [
       "'\\nProject Euler Problem 101: Optimum Polynomial\\n'"
      ]
     },
     "execution_count": 1,
     "metadata": {},
     "output_type": "execute_result"
    }
   ],
   "source": [
    "'''\n",
    "Project Euler Problem 101: Optimum Polynomial\n",
    "'''"
   ]
  },
  {
   "cell_type": "code",
   "execution_count": 112,
   "id": "57e63b3c-9eb3-411c-b420-e17a1b37a390",
   "metadata": {},
   "outputs": [],
   "source": [
    "import numpy as np\n",
    "from numpy.linalg import inv"
   ]
  },
  {
   "cell_type": "code",
   "execution_count": 143,
   "id": "9cd8575e-34ac-43ec-9a20-fc691734f2b0",
   "metadata": {},
   "outputs": [],
   "source": [
    "def poly10(n):\n",
    "    d = 10\n",
    "    return sum([(-n)**i for i in range(d+1)])"
   ]
  },
  {
   "cell_type": "code",
   "execution_count": 149,
   "id": "fa2ad6f6-07ac-424b-858f-760a64be38a7",
   "metadata": {},
   "outputs": [],
   "source": [
    "def poly3(n):\n",
    "    return n**3"
   ]
  },
  {
   "cell_type": "code",
   "execution_count": 144,
   "id": "7b3c5853-b833-4632-ae5c-dde281b4f852",
   "metadata": {},
   "outputs": [],
   "source": [
    "def seq(f, n):\n",
    "    return [f(i) for i in range(1, n)]"
   ]
  },
  {
   "cell_type": "code",
   "execution_count": 145,
   "id": "fcf7de9a-2506-4ace-a486-2037d2acabd4",
   "metadata": {},
   "outputs": [],
   "source": [
    "def get_coeff(f, k):\n",
    "\n",
    "    B = np.array([f(i) for i in range(1, k+1)])\n",
    "\n",
    "    A = np.zeros((k, k))\n",
    "    for i in range(k):\n",
    "        for j in range(k):\n",
    "            A[i, j] = (i+1)**j\n",
    "\n",
    "    return np.round((inv(A) @ B))"
   ]
  },
  {
   "cell_type": "code",
   "execution_count": 146,
   "id": "c5197a87-0f61-4509-8ebf-5073a6e2d24c",
   "metadata": {},
   "outputs": [],
   "source": [
    "def get_FIT(f, n, k):\n",
    "\n",
    "    ref = seq(f, n)\n",
    "\n",
    "    coeff = get_coeff(f, k)\n",
    "\n",
    "    for i in range(k+1, n):\n",
    "\n",
    "        fit = 0\n",
    "        \n",
    "        for p, c in enumerate(coeff):\n",
    "            fit += c * i**p \n",
    "        \n",
    "        if fit != ref[i-1]:\n",
    "            return fit\n",
    "    \n",
    "    return 0"
   ]
  },
  {
   "cell_type": "code",
   "execution_count": 153,
   "id": "1c0a73a3-4bd4-4739-97a6-ef0c6c8d13ec",
   "metadata": {},
   "outputs": [
    {
     "name": "stdout",
     "output_type": "stream",
     "text": [
      "1.0\n",
      "1365.0\n",
      "130813.0\n",
      "3092453.0\n",
      "32740951.0\n",
      "205015603.0\n",
      "898165577.0\n",
      "3093310441.0\n",
      "0\n",
      "The sum of FITs for the BOPs is 4232457204.0\n"
     ]
    }
   ],
   "source": [
    "d = 10\n",
    "sumFIT = 0\n",
    "\n",
    "for i in range(1, d):\n",
    "    print(get_FIT(poly10, 10, i))\n",
    "    sumFIT += get_FIT(poly10, 10, i)\n",
    "\n",
    "print(f'The sum of FITs for the BOPs is {sumFIT}')"
   ]
  },
  {
   "cell_type": "code",
   "execution_count": 124,
   "id": "66cf5c22-e7e0-42e2-9449-26f67b21f937",
   "metadata": {},
   "outputs": [
    {
     "data": {
      "text/plain": [
       "[1,\n",
       " 683,\n",
       " 44287,\n",
       " 838861,\n",
       " 8138021,\n",
       " 51828151,\n",
       " 247165843,\n",
       " 954437177,\n",
       " 3138105961,\n",
       " 9090909091]"
      ]
     },
     "execution_count": 124,
     "metadata": {},
     "output_type": "execute_result"
    }
   ],
   "source": []
  },
  {
   "cell_type": "code",
   "execution_count": null,
   "id": "27992385-b368-4023-ae8c-8f5e220cb7b1",
   "metadata": {},
   "outputs": [],
   "source": []
  }
 ],
 "metadata": {
  "kernelspec": {
   "display_name": "Python 3 (ipykernel)",
   "language": "python",
   "name": "python3"
  },
  "language_info": {
   "codemirror_mode": {
    "name": "ipython",
    "version": 3
   },
   "file_extension": ".py",
   "mimetype": "text/x-python",
   "name": "python",
   "nbconvert_exporter": "python",
   "pygments_lexer": "ipython3",
   "version": "3.13.3"
  }
 },
 "nbformat": 4,
 "nbformat_minor": 5
}
