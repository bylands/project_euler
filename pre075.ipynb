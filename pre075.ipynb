{
 "cells": [
  {
   "cell_type": "code",
   "execution_count": null,
   "metadata": {},
   "outputs": [],
   "source": [
    "'''\n",
    "Project Euler Problem 075: Singular Integer Right Triangles\n",
    "'''"
   ]
  },
  {
   "cell_type": "code",
   "execution_count": null,
   "metadata": {},
   "outputs": [],
   "source": [
    "from math import gcd\n",
    "from math import isqrt"
   ]
  },
  {
   "cell_type": "code",
   "execution_count": null,
   "metadata": {},
   "outputs": [],
   "source": [
    "def triple(m, n):\n",
    "    a, b = m*m, n*n\n",
    "    return (a-b, 2*m*n, a+b)"
   ]
  },
  {
   "cell_type": "code",
   "execution_count": null,
   "metadata": {},
   "outputs": [],
   "source": [
    "lmax = 1500000\n",
    "\n",
    "triples = {c: [] for c in range(1, lmax)}\n",
    "\n",
    "for m in range(2, isqrt(lmax)):\n",
    "    for n in (i for i in range(1, m) if gcd(m, i) == 1 and (m+i)%2 == 1):\n",
    "        l = l0 = 2*m*(m+n)\n",
    "        f = 1\n",
    "        while l < lmax:\n",
    "            p, q = f*m*m, f*n*n\n",
    "            a, b, c = p-q, f*2*m*n, p+q\n",
    "            triples[l].append((a, b, c))\n",
    "            l += l0\n",
    "            f += 1\n",
    "            \n",
    "solutions = [t for t in triples if len(triples[t])==1]\n",
    "print(f'There are {len(solutions)} lengths < {lmax} with exactly one integer sided right triangle')"
   ]
  },
  {
   "cell_type": "code",
   "execution_count": null,
   "metadata": {},
   "outputs": [],
   "source": [
    "multiples = {t: triples[t] for t in triples if len(triples[t])>1}\n",
    "\n",
    "duplicates = {}\n",
    "for k, v in multiples.items():\n",
    "    templist = []\n",
    "    for t in v:\n",
    "        check = sorted(t)\n",
    "        if check in templist:\n",
    "            if k in duplicates:\n",
    "                duplicates[k].append(check)\n",
    "            else:\n",
    "                duplicates[k] = [check]\n",
    "        templist.append(check)\n",
    "\n",
    "if not duplicates:\n",
    "    print('No duplicate triples found!')\n",
    "else:\n",
    "    print(duplicates)"
   ]
  },
  {
   "cell_type": "code",
   "execution_count": null,
   "metadata": {},
   "outputs": [],
   "source": []
  }
 ],
 "metadata": {
  "language_info": {
   "name": "python",
   "pygments_lexer": "ipython3"
  }
 },
 "nbformat": 4,
 "nbformat_minor": 2
}
