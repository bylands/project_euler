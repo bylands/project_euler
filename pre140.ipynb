{
 "cells": [
  {
   "cell_type": "code",
   "execution_count": null,
   "metadata": {},
   "outputs": [],
   "source": [
    "'''\n",
    "Project Euler Problem 140: Modified Fibonacci Golden Nuggets\n",
    "'''"
   ]
  },
  {
   "cell_type": "code",
   "execution_count": null,
   "metadata": {},
   "outputs": [],
   "source": [
    "from math import isqrt"
   ]
  },
  {
   "cell_type": "code",
   "execution_count": null,
   "metadata": {},
   "outputs": [],
   "source": [
    "def is_square(n):\n",
    "    if isqrt(n)**2 == n:\n",
    "        return True\n",
    "    return False"
   ]
  },
  {
   "cell_type": "code",
   "execution_count": null,
   "metadata": {},
   "outputs": [],
   "source": [
    "upper = 10_000_000\n",
    "for m in range(2, upper):\n",
    "    if is_square(asq:=(5*m*m + 44)):\n",
    "        a = isqrt(asq)\n",
    "        if (a-7) % 5 == 0:\n",
    "            print(m, a, (a-7)//5)"
   ]
  },
  {
   "cell_type": "code",
   "execution_count": null,
   "metadata": {},
   "outputs": [],
   "source": [
    "upper = 10_000_000\n",
    "\n",
    "for a in range(12, upper, 5):\n",
    "    if (b:=(a*a-44)) % 5 == 0:\n",
    "        if is_square((msq:=b//5)):\n",
    "            print(isqrt(msq), a, (a-7)//5)"
   ]
  },
  {
   "cell_type": "code",
   "execution_count": null,
   "metadata": {},
   "outputs": [],
   "source": [
    "target = 30\n",
    "\n",
    "m = [7, 14, 50, 97]\n",
    "a = [2, 5, 21, 42]\n",
    "\n",
    "for i in range(4, target):\n",
    "    m_new = 7*m[i-2]-m[i-4]\n",
    "    m.append(m_new)\n",
    "    a.append((isqrt(5*m_new**2 + 44)-7)//5)\n",
    "\n",
    "print(f'The sum of the first {target} golden nuggets is {sum(a)}')"
   ]
  },
  {
   "cell_type": "code",
   "execution_count": null,
   "metadata": {},
   "outputs": [],
   "source": []
  }
 ],
 "metadata": {
  "language_info": {
   "name": "python",
   "pygments_lexer": "ipython3"
  }
 },
 "nbformat": 4,
 "nbformat_minor": 4
}
