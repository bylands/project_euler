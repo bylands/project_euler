{
 "cells": [
  {
   "cell_type": "code",
   "execution_count": 1,
   "metadata": {},
   "outputs": [
    {
     "data": {
      "text/plain": [
       "'\\nProject Euler Problem 140: Modified Fibonacci Golden Nuggets\\n'"
      ]
     },
     "execution_count": 1,
     "metadata": {},
     "output_type": "execute_result"
    }
   ],
   "source": [
    "'''\n",
    "Project Euler Problem 140: Modified Fibonacci Golden Nuggets\n",
    "'''"
   ]
  },
  {
   "cell_type": "code",
   "execution_count": 8,
   "metadata": {},
   "outputs": [],
   "source": [
    "from math import isqrt"
   ]
  },
  {
   "cell_type": "code",
   "execution_count": 9,
   "metadata": {},
   "outputs": [],
   "source": [
    "def is_square(n):\n",
    "    if isqrt(n)**2 == n:\n",
    "        return True\n",
    "    return False"
   ]
  },
  {
   "cell_type": "code",
   "execution_count": 42,
   "metadata": {},
   "outputs": [
    {
     "name": "stdout",
     "output_type": "stream",
     "text": [
      "7 17 2\n",
      "14 32 5\n",
      "50 112 21\n",
      "97 217 42\n",
      "343 767 152\n",
      "665 1487 296\n",
      "2351 5257 1050\n",
      "4558 10192 2037\n",
      "16114 36032 7205\n",
      "31241 69857 13970\n",
      "110447 246967 49392\n",
      "214129 478807 95760\n",
      "757015 1692737 338546\n",
      "1467662 3281792 656357\n",
      "5188658 11602192 2320437\n"
     ]
    }
   ],
   "source": [
    "upper = 10_000_000\n",
    "for m in range(2, upper):\n",
    "    if is_square(asq:=(5*m*m + 44)):\n",
    "        a = isqrt(asq)\n",
    "        if (a-7) % 5 == 0:\n",
    "            print(m, a, (a-7)//5)"
   ]
  },
  {
   "cell_type": "code",
   "execution_count": 43,
   "metadata": {},
   "outputs": [
    {
     "name": "stdout",
     "output_type": "stream",
     "text": [
      "7 17 2\n",
      "14 32 5\n",
      "50 112 21\n",
      "97 217 42\n",
      "343 767 152\n",
      "665 1487 296\n",
      "2351 5257 1050\n",
      "4558 10192 2037\n",
      "16114 36032 7205\n",
      "31241 69857 13970\n",
      "110447 246967 49392\n",
      "214129 478807 95760\n",
      "757015 1692737 338546\n",
      "1467662 3281792 656357\n"
     ]
    }
   ],
   "source": [
    "upper = 10_000_000\n",
    "\n",
    "for a in range(12, upper, 5):\n",
    "    if (b:=(a*a-44)) % 5 == 0:\n",
    "        if is_square((msq:=b//5)):\n",
    "            print(isqrt(msq), a, (a-7)//5)"
   ]
  },
  {
   "cell_type": "code",
   "execution_count": 44,
   "metadata": {},
   "outputs": [
    {
     "name": "stdout",
     "output_type": "stream",
     "text": [
      "The sum of the first 30 golden nuggets is 5673835352990\n"
     ]
    }
   ],
   "source": [
    "target = 30\n",
    "\n",
    "m = [7, 14, 50, 97]\n",
    "a = [2, 5, 21, 42]\n",
    "\n",
    "for i in range(4, target):\n",
    "    m_new = 7*m[i-2]-m[i-4]\n",
    "    m.append(m_new)\n",
    "    a.append((isqrt(5*m_new**2 + 44)-7)//5)\n",
    "\n",
    "print(f'The sum of the first {target} golden nuggets is {sum(a)}')"
   ]
  },
  {
   "cell_type": "code",
   "execution_count": null,
   "metadata": {},
   "outputs": [],
   "source": []
  }
 ],
 "metadata": {
  "kernelspec": {
   "display_name": "Python 3 (ipykernel)",
   "language": "python",
   "name": "python3"
  },
  "language_info": {
   "codemirror_mode": {
    "name": "ipython",
    "version": 3
   },
   "file_extension": ".py",
   "mimetype": "text/x-python",
   "name": "python",
   "nbconvert_exporter": "python",
   "pygments_lexer": "ipython3",
   "version": "3.13.3"
  }
 },
 "nbformat": 4,
 "nbformat_minor": 4
}
