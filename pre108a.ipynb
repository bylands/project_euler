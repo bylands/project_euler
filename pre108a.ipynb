{
 "cells": [
  {
   "cell_type": "code",
   "execution_count": null,
   "id": "443cf3e9-c6de-42b5-bb18-13e29077af10",
   "metadata": {},
   "outputs": [],
   "source": [
    "'''\n",
    "Project Euler Problem 108: Diophantine Reciprocals I\n",
    "'''"
   ]
  },
  {
   "cell_type": "code",
   "execution_count": null,
   "id": "ed55da0a-d9af-4b19-a659-2bda01bd2396",
   "metadata": {},
   "outputs": [],
   "source": [
    "def diph_rec(n):\n",
    "    valid = []\n",
    "    for i in range(n+1, 2*n+1):\n",
    "        if (n * i) % (i - n) == 0:\n",
    "            valid.append((i, (n * i) // (i - n)))\n",
    "    return valid"
   ]
  },
  {
   "cell_type": "code",
   "execution_count": null,
   "id": "7ca5ed4d-b39c-4dcb-9b61-81fa9e3bf655",
   "metadata": {},
   "outputs": [],
   "source": [
    "def n_diph_rec(n):\n",
    "    count = 0\n",
    "    for i in range(n+1, 2*n+1):\n",
    "        if (n * i) % (i - n) == 0:\n",
    "            count += 1\n",
    "    return count"
   ]
  },
  {
   "cell_type": "code",
   "execution_count": null,
   "id": "ae86c8c6-d920-4fa2-8bb7-e64ad406ebe5",
   "metadata": {},
   "outputs": [],
   "source": [
    "threshold = 1000\n",
    "n = 1\n",
    "\n",
    "while True:\n",
    "    if n_diph_rec(n) > threshold:\n",
    "        print(n)\n",
    "        break\n",
    "    n += 1"
   ]
  },
  {
   "cell_type": "code",
   "execution_count": null,
   "id": "67048128-bb37-4853-b0aa-499bf28f7896",
   "metadata": {},
   "outputs": [],
   "source": []
  }
 ],
 "metadata": {
  "language_info": {
   "name": "python",
   "pygments_lexer": "ipython3"
  }
 },
 "nbformat": 4,
 "nbformat_minor": 5
}
