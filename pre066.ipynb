{
 "cells": [
  {
   "cell_type": "code",
   "execution_count": null,
   "metadata": {},
   "outputs": [],
   "source": [
    "'''\n",
    "Project Euler Problem 066: Diophantine Equation\n",
    "'''"
   ]
  },
  {
   "cell_type": "code",
   "execution_count": null,
   "metadata": {},
   "outputs": [],
   "source": [
    "from itertools import cycle\n",
    "from math import isqrt"
   ]
  },
  {
   "cell_type": "code",
   "execution_count": null,
   "metadata": {},
   "outputs": [],
   "source": [
    "def is_square(n):\n",
    "    if isqrt(n)**2 == n:\n",
    "        return True\n",
    "    else:\n",
    "        return False\n",
    "\n",
    "\n",
    "def get_next_term(n, r, d):\n",
    "    nfl = isqrt(n)\n",
    "    denom = (n - r*r)//d\n",
    "    a = int((n**0.5+r)/denom)\n",
    "    rest = denom*a - r\n",
    "    return (a, rest, denom)\n",
    "\n",
    "\n",
    "def approx(sequence, index=0):\n",
    "    if index < len(sequence)-1:\n",
    "        den, num = approx(sequence, index+1)\n",
    "        return (sequence[index]*den+num, den)\n",
    "    else:\n",
    "        return (sequence[index], 1)\n",
    "\n",
    "\n",
    "def approx_loop(sequence):\n",
    "    num, den = 0, 1\n",
    "    for i in sequence[::-1]:\n",
    "        den, num = i*den+num, den\n",
    "    return den, num\n",
    "\n",
    "\n",
    "def diophantine(n):\n",
    "    a = isqrt(n)\n",
    "    r = a\n",
    "    d = 1\n",
    "    contfrac = [(a, r, d)]\n",
    "    while (terms := get_next_term(n, r, d)) not in contfrac:\n",
    "        contfrac += [terms]\n",
    "        a, r, d = terms\n",
    "\n",
    "    a_list = [a[0] for a in contfrac]\n",
    "    N_per = len(contfrac) - contfrac.index(terms)\n",
    "    head = len(contfrac) - N_per\n",
    "\n",
    "    if N_per % 2 == 0:\n",
    "        N = N_per\n",
    "    else:\n",
    "        N = 2 * N_per\n",
    "\n",
    "    period = cycle(a_list[head:])\n",
    "    sequence = a_list[:head] + [next(period) for i in range(N-head)]\n",
    "    num, den = approx(sequence)\n",
    "    return num, den\n",
    "\n"
   ]
  },
  {
   "cell_type": "code",
   "execution_count": null,
   "metadata": {},
   "outputs": [],
   "source": [
    "Nmax = 100000\n",
    "nonsquares = [i for i in range(2, Nmax+1) if not is_square(i)]\n",
    "\n",
    "xmax = 0\n",
    "Dmax = 2\n",
    "minima = {}\n",
    "\n",
    "for D in nonsquares:\n",
    "    x, y = diophantine(D)\n",
    "    minima[D] = (x, y)\n",
    "    if x > xmax:\n",
    "        xmax = x\n",
    "        Dmax = D\n",
    "\n",
    "print(f'The largest value for x is {xmax} for D = {Dmax}.')\n",
    "print(f'{minima[Dmax][0]}^2-{Dmax} x {minima[Dmax][1]}^2 = 1')"
   ]
  },
  {
   "cell_type": "code",
   "execution_count": null,
   "metadata": {},
   "outputs": [],
   "source": []
  }
 ],
 "metadata": {
  "language_info": {
   "name": "python",
   "pygments_lexer": "ipython3"
  }
 },
 "nbformat": 4,
 "nbformat_minor": 2
}
