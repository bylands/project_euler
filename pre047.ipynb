{
 "cells": [
  {
   "cell_type": "code",
   "execution_count": null,
   "metadata": {},
   "outputs": [],
   "source": [
    "'''\n",
    "Project Euler Problem 047: Distinct Primes Factors\n",
    "'''"
   ]
  },
  {
   "cell_type": "code",
   "execution_count": null,
   "metadata": {},
   "outputs": [],
   "source": [
    "import sympy as sp"
   ]
  },
  {
   "cell_type": "code",
   "execution_count": null,
   "metadata": {},
   "outputs": [],
   "source": [
    "sp.primefactors(644)"
   ]
  },
  {
   "cell_type": "code",
   "execution_count": null,
   "metadata": {},
   "outputs": [],
   "source": [
    "nfactors = 4\n",
    "\n",
    "i = 100\n",
    "\n",
    "while True:\n",
    "    if (len(sp.primefactors(i)) == nfactors \n",
    "        and len(sp.primefactors(i+1)) == nfactors \n",
    "        and len(sp.primefactors(i+2)) == nfactors\n",
    "        and len(sp.primefactors(i+3)) == nfactors\n",
    "        ):\n",
    "        break\n",
    "    i += 1\n",
    "\n",
    "print(f'The first four consecutive integers with four distinct prime factors start with {i}.')"
   ]
  },
  {
   "cell_type": "code",
   "execution_count": null,
   "metadata": {},
   "outputs": [],
   "source": []
  }
 ],
 "metadata": {
  "language_info": {
   "name": "python",
   "pygments_lexer": "ipython3"
  }
 },
 "nbformat": 4,
 "nbformat_minor": 2
}
