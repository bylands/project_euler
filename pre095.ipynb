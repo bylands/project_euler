{
 "cells": [
  {
   "cell_type": "code",
   "execution_count": null,
   "metadata": {},
   "outputs": [],
   "source": [
    "'''\n",
    "Project Euler Problem 095: Amicable Chains\n",
    "'''"
   ]
  },
  {
   "cell_type": "code",
   "execution_count": null,
   "metadata": {},
   "outputs": [],
   "source": [
    "from math import isqrt, sqrt\n",
    "from sympy import isprime"
   ]
  },
  {
   "cell_type": "code",
   "execution_count": null,
   "metadata": {},
   "outputs": [],
   "source": [
    "def get_factors(n: int) -> list:\n",
    "    factors = []\n",
    "    for i in range(1, n//2):\n",
    "        if n % i == 0:\n",
    "            factors.append(i)\n",
    "    return factors\n",
    "\n",
    "\n",
    "false_list = []\n",
    "debug = False\n",
    "\n",
    "def get_chain(n: int, upper=1_000_000) -> tuple:\n",
    "    global false_list\n",
    "    chain = [n]\n",
    "    while (s:=sum(get_factors(n))) < upper:\n",
    "        # print(s)\n",
    "        if s in false_list:\n",
    "            if debug:\n",
    "                print('s in false list')\n",
    "            return (False, chain)\n",
    "        if s == chain[0]:\n",
    "            return (True, chain)\n",
    "        if s in chain:\n",
    "            if debug:\n",
    "                print('s in chain')\n",
    "            return (False, chain)\n",
    "        if isprime(s) or s <= 1:\n",
    "            if debug:\n",
    "                print('prime or less than 1')\n",
    "            false_list += chain\n",
    "            return(False, chain)\n",
    "        chain.append(s)\n",
    "        n = s\n",
    "    if debug:\n",
    "        print('reached upper limit')\n",
    "    return (False, chain)"
   ]
  },
  {
   "cell_type": "code",
   "execution_count": null,
   "metadata": {},
   "outputs": [],
   "source": [
    "l = 0\n",
    "limit = 100_000\n",
    "\n",
    "for n in range(1, limit):\n",
    "    chain = get_chain(n)\n",
    "    if chain[0]:\n",
    "        print(n, chain)\n",
    "        l = max(l, len(chain[1]))\n",
    "\n",
    "print()\n",
    "print(l)"
   ]
  },
  {
   "cell_type": "code",
   "execution_count": null,
   "metadata": {},
   "outputs": [],
   "source": [
    "get_chain(1_000_000)"
   ]
  },
  {
   "cell_type": "code",
   "execution_count": null,
   "metadata": {},
   "outputs": [],
   "source": [
    "[2, 1, 3, 4, 1].index(1)"
   ]
  },
  {
   "cell_type": "code",
   "execution_count": null,
   "metadata": {},
   "outputs": [],
   "source": []
  }
 ],
 "metadata": {
  "language_info": {
   "name": "python",
   "pygments_lexer": "ipython3"
  }
 },
 "nbformat": 4,
 "nbformat_minor": 2
}
