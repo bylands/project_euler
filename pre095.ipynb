{
 "cells": [
  {
   "cell_type": "code",
   "execution_count": null,
   "metadata": {},
   "outputs": [],
   "source": [
    "'''\n",
    "Project Euler Problem 095: Amicable Chains\n",
    "'''"
   ]
  },
  {
   "cell_type": "code",
   "execution_count": null,
   "metadata": {},
   "outputs": [],
   "source": [
    "def divisor_sums(nmax: int) -> list:\n",
    "    divsums = [0] * (nmax+1)\n",
    "    for i in range(1, nmax+1):\n",
    "        for j in range(2*i, nmax+1, i):\n",
    "            divsums[j]+=i\n",
    "    return divsums\n",
    "\n",
    "\n",
    "def get_cycles(nodes: list, limit: int) -> dict:\n",
    "    n_nodes = len(nodes)\n",
    "    cycles = {}\n",
    "    visited = [False] * n_nodes\n",
    "\n",
    "    for i in range(2, n_nodes):\n",
    "        # print()\n",
    "        # print(i, end=' ')\n",
    "        cycle = [i]\n",
    "        visited[i] = True\n",
    "        n = nodes[i]\n",
    "        while True:\n",
    "            # print(n, end=' ')\n",
    "            if n <= 1 or n > limit:\n",
    "                visited[i] = True\n",
    "                break\n",
    "            if n in cycle:\n",
    "                # print('in cycle')\n",
    "                cycle = cycle[cycle.index(n):]\n",
    "                # print(cycle)\n",
    "                for j in range(len(cycle)):\n",
    "                    cycles[cycle[j]] = cycle[j:]+cycle[:j]\n",
    "                break\n",
    "            if visited[n]:\n",
    "                visited[i] = True\n",
    "                break\n",
    "            cycle = cycle + [n]\n",
    "            visited[n] = True\n",
    "            n = nodes[n]\n",
    "    return cycles\n"
   ]
  },
  {
   "cell_type": "code",
   "execution_count": null,
   "metadata": {},
   "outputs": [],
   "source": [
    "nmax = 1_000_000\n",
    "ds = divisor_sums(nmax)\n",
    "ordered = sorted([cy for cy in get_cycles(ds, nmax).values()], \n",
    "                      key=lambda x: len(x), reverse=True)\n",
    "longest = ordered[0]\n",
    "solution = min(longest)\n",
    "\n",
    "print(f'The smallest member of the longest amicable chain with no element exceeding {nmax} is {solution}.')\n",
    "print(f'The sequence has {len(longest)} elements.')\n",
    "print(longest)"
   ]
  },
  {
   "cell_type": "code",
   "execution_count": null,
   "metadata": {},
   "outputs": [],
   "source": []
  }
 ],
 "metadata": {
  "language_info": {
   "name": "python",
   "pygments_lexer": "ipython3"
  }
 },
 "nbformat": 4,
 "nbformat_minor": 2
}
