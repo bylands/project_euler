{
 "cells": [
  {
   "cell_type": "code",
   "execution_count": null,
   "metadata": {},
   "outputs": [],
   "source": [
    "'''\n",
    "Project Euler Problem 093: Arithmetic Expressions\n",
    "'''"
   ]
  },
  {
   "cell_type": "code",
   "execution_count": null,
   "metadata": {},
   "outputs": [],
   "source": [
    "from operator import add, sub, mul, truediv\n",
    "from itertools import permutations, combinations_with_replacement, combinations"
   ]
  },
  {
   "cell_type": "code",
   "execution_count": null,
   "metadata": {},
   "outputs": [],
   "source": [
    "def divinv(a, b):\n",
    "    return b/a\n",
    "\n",
    "def subinv(a, b):\n",
    "    return b - a\n",
    "\n",
    "\n",
    "def get_max(results: int) -> int:\n",
    "    for i, r in enumerate(results):\n",
    "        if i != r-1:\n",
    "            return results[i-1] if i > 0 else 0\n",
    "        \n",
    "\n",
    "def get_result1(digs: list, ops: list) -> list:\n",
    "    try:\n",
    "        return float(ops[2](ops[1](ops[0](digs[0], digs[1]), digs[2]), digs[3]))\n",
    "    except ZeroDivisionError:\n",
    "        return float(0)\n",
    "    \n",
    "def get_result2(digs: list, ops: list) -> list:\n",
    "    try:\n",
    "        return float(ops[2](ops[1](digs[0], digs[1]), ops[0](digs[2], digs[3])))\n",
    "    except ZeroDivisionError:\n",
    "        return float(0)\n",
    "    \n",
    "\n",
    "def get_results(digits: list) -> list:\n",
    "    results = set()\n",
    "    operators = [add, sub, subinv, mul, truediv, divinv]\n",
    "\n",
    "    for comb in combinations_with_replacement(operators, 3):\n",
    "        for perm in permutations(comb):\n",
    "            for d in permutations(digits, 4):\n",
    "                results.add(get_result1(d, perm))\n",
    "                results.add(get_result2(d, perm))\n",
    "    \n",
    "    return sorted([int(r) for r in results if r > 0 and r.is_integer()])\n"
   ]
  },
  {
   "cell_type": "code",
   "execution_count": null,
   "metadata": {},
   "outputs": [],
   "source": [
    "solution = '1234'\n",
    "best = 0\n",
    "\n",
    "best_dict = {}\n",
    "\n",
    "\n",
    "for digits in combinations(range(1, 10), 4):\n",
    "# for digits in [[2, 3, 8, 9]]:\n",
    "    results = get_results(digits)\n",
    "    # best_dict[digits] = get_max(results)\n",
    "\n",
    "    if get_max(results) > best:\n",
    "        solution = f'{digits[0]}{digits[1]}{digits[2]}{digits[3]}'\n",
    "        best = get_max(results)\n",
    "        # print(best, solution)\n",
    "\n",
    "print(solution)"
   ]
  },
  {
   "cell_type": "code",
   "execution_count": null,
   "metadata": {},
   "outputs": [],
   "source": [
    "def add(a: tuple, b: tuple) -> (int, int):\n",
    "    na, da = a\n",
    "    nb, db = b\n",
    "    return (na*db+nb*da, da*db)\n",
    "\n",
    "\n",
    "def sub(a: tuple, b: tuple) -> (int, int):\n",
    "    na, da = a\n",
    "    nb, db = b\n",
    "    return (na*db-nb*da, da*db)\n",
    "\n",
    "\n",
    "def invsub(a: tuple, b: tuple) -> (int, int):\n",
    "    na, da = a\n",
    "    nb, db = b\n",
    "    return (nb*da-na*db, da*db)\n",
    "\n",
    "\n",
    "def mul(a: tuple, b: tuple) -> (int, int):\n",
    "    na, da = a\n",
    "    nb, db = b\n",
    "    return (na*nb, da*db)\n",
    "\n",
    "\n",
    "def div(a: tuple, b: tuple) -> (int, int):\n",
    "    na, da = a\n",
    "    nb, db = b\n",
    "    if nb == 0:\n",
    "        raise ZeroDivisionError\n",
    "    return (na*db, da*nb)\n",
    "\n",
    "\n",
    "def invdiv(a: tuple, b: tuple) -> (int, int):\n",
    "    na, da = a\n",
    "    nb, db = b\n",
    "    if na == 0:\n",
    "        raise ZeroDivisionError\n",
    "    return (nb*da, db*na)\n",
    "\n",
    "\n",
    "def map_name(input):\n",
    "        return input.__name__\n",
    "\n",
    "\n",
    "def get_result(digs: tuple, ops: tuple) -> int:\n",
    "    op0, op1, op2 = ops\n",
    "    d0, d1, d2, d3 = digs\n",
    "\n",
    "    try:\n",
    "        num, den = op2(op1(op0((d0, 1), (d1, 1)), (d2, 1)), (d3, 1))\n",
    "        return num // den if num % den == 0 else 0\n",
    "    except ZeroDivisionError:\n",
    "        return 0\n",
    "\n",
    "\n",
    "def get_results(digits: list) -> list:\n",
    "    results = {}\n",
    "    operators = [add, sub, invsub, mul, div, invdiv]\n",
    "\n",
    "    for comb in combinations_with_replacement(operators, 3):\n",
    "        for perm in permutations(comb):\n",
    "            for d in permutations(digits, 4):\n",
    "                if (r:=get_result(d, perm)) > 0 and r not in results:\n",
    "                    results[r] = (d, perm)\n",
    "    \n",
    "    return results\n"
   ]
  },
  {
   "cell_type": "code",
   "execution_count": null,
   "metadata": {},
   "outputs": [],
   "source": [
    "solution = '1234'\n",
    "best = 0\n",
    "\n",
    "best_dict = {}\n",
    "\n",
    "\n",
    "for digits in combinations(range(1, 10), 4):\n",
    "# for digits in [[2, 3, 8, 9]]:\n",
    "    results_dict = get_results(digits)\n",
    "    results = sorted(list(set([r for r in results_dict])))\n",
    "    # best_dict[digits] = get_max(results)\n",
    "\n",
    "    if (new_best := get_max(results)) > best:\n",
    "        solution = f'{digits[0]}{digits[1]}{digits[2]}{digits[3]}'\n",
    "        best = new_best\n",
    "        best_dict = results_dict\n",
    "        # print(best, solution)\n",
    "\n",
    "print(solution)"
   ]
  },
  {
   "cell_type": "code",
   "execution_count": null,
   "metadata": {},
   "outputs": [],
   "source": [
    "for i in range(1, 10):\n",
    "    digits, functions = best_dict[i]\n",
    "    print(i, digits, list(map(map_name, list(functions))))"
   ]
  },
  {
   "cell_type": "code",
   "execution_count": null,
   "metadata": {},
   "outputs": [],
   "source": []
  },
  {
   "cell_type": "code",
   "execution_count": null,
   "metadata": {},
   "outputs": [],
   "source": [
    "type(perm)"
   ]
  },
  {
   "cell_type": "code",
   "execution_count": null,
   "metadata": {},
   "outputs": [],
   "source": [
    "for p in perm:\n",
    "    print(p.__name__)"
   ]
  },
  {
   "cell_type": "code",
   "execution_count": null,
   "metadata": {},
   "outputs": [],
   "source": []
  }
 ],
 "metadata": {
  "language_info": {
   "name": "python",
   "pygments_lexer": "ipython3"
  }
 },
 "nbformat": 4,
 "nbformat_minor": 2
}
