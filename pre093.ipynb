{
 "cells": [
  {
   "cell_type": "code",
   "execution_count": null,
   "metadata": {},
   "outputs": [],
   "source": [
    "'''\n",
    "Project Euler Problem 093: Arithmetic Expressions\n",
    "'''"
   ]
  },
  {
   "cell_type": "code",
   "execution_count": null,
   "metadata": {},
   "outputs": [],
   "source": [
    "from operator import add, sub, mul, truediv\n",
    "from itertools import permutations, combinations_with_replacement"
   ]
  },
  {
   "cell_type": "code",
   "execution_count": null,
   "metadata": {},
   "outputs": [],
   "source": [
    "def divinv(a, b):\n",
    "    return b/a\n",
    "\n",
    "def subinv(a, b):\n",
    "    return b - a\n",
    "\n",
    "\n",
    "def get_max(results: int) -> int:\n",
    "    for i, r in enumerate(results):\n",
    "        if i != r-1:\n",
    "            return results[i-1] if i > 0 else 0\n",
    "        \n",
    "\n",
    "def get_result(digs: list, ops: list) -> list:\n",
    "    try:\n",
    "        return float(ops[2](ops[1](ops[0](digs[0], digs[1]), digs[2]), digs[3]))\n",
    "    except ZeroDivisionError:\n",
    "        return float(0)"
   ]
  },
  {
   "cell_type": "code",
   "execution_count": null,
   "metadata": {},
   "outputs": [],
   "source": [
    "operators = [add, sub, subinv, mul, truediv, divinv]\n",
    "\n",
    "solution = '1234'\n",
    "best = 0\n",
    "\n",
    "best_dict = {}\n",
    "\n",
    "\n",
    "for digits in combinations(range(1, 10), 4):\n",
    "# for digits in [[2, 3, 8, 9]]:\n",
    "    results = set()\n",
    "\n",
    "    for comb in combinations_with_replacement(operators, 3):\n",
    "        for perm in permutations(comb):\n",
    "            for d in permutations(digits, 4):\n",
    "                results.add(get_result(d, perm))\n",
    "    \n",
    "    results = sorted([int(r) for r in results if r > 0 and r.is_integer()])\n",
    "\n",
    "    # best_dict[digits] = get_max(results)\n",
    "\n",
    "    if get_max(results) > best:\n",
    "        solution = f'{digits[0]}{digits[1]}{digits[2]}{digits[3]}'\n",
    "        best = get_max(results)\n",
    "        # print(best, solution)\n",
    "\n",
    "print(solution)"
   ]
  },
  {
   "cell_type": "code",
   "execution_count": null,
   "metadata": {},
   "outputs": [],
   "source": []
  }
 ],
 "metadata": {
  "language_info": {
   "name": "python",
   "pygments_lexer": "ipython3"
  }
 },
 "nbformat": 4,
 "nbformat_minor": 2
}
