{
 "cells": [
  {
   "cell_type": "code",
   "execution_count": null,
   "id": "21c1b51c-f4b5-42a0-a67d-a9c413d2ecdf",
   "metadata": {},
   "outputs": [],
   "source": [
    "'''\n",
    "Project Euler Problem 101: Optimum Polynomial\n",
    "'''"
   ]
  },
  {
   "cell_type": "code",
   "execution_count": null,
   "id": "57e63b3c-9eb3-411c-b420-e17a1b37a390",
   "metadata": {},
   "outputs": [],
   "source": [
    "import numpy as np\n",
    "from numpy.linalg import inv"
   ]
  },
  {
   "cell_type": "code",
   "execution_count": null,
   "id": "9cd8575e-34ac-43ec-9a20-fc691734f2b0",
   "metadata": {},
   "outputs": [],
   "source": [
    "def poly10(n):\n",
    "    d = 10\n",
    "    return sum([(-n)**i for i in range(d+1)])"
   ]
  },
  {
   "cell_type": "code",
   "execution_count": null,
   "id": "fa2ad6f6-07ac-424b-858f-760a64be38a7",
   "metadata": {},
   "outputs": [],
   "source": [
    "def poly3(n):\n",
    "    return n**3"
   ]
  },
  {
   "cell_type": "code",
   "execution_count": null,
   "id": "7b3c5853-b833-4632-ae5c-dde281b4f852",
   "metadata": {},
   "outputs": [],
   "source": [
    "def seq(f, n):\n",
    "    return [f(i) for i in range(1, n+1)]"
   ]
  },
  {
   "cell_type": "code",
   "execution_count": null,
   "id": "fcf7de9a-2506-4ace-a486-2037d2acabd4",
   "metadata": {},
   "outputs": [],
   "source": [
    "def get_coeff(f, k):\n",
    "\n",
    "    B = np.array([f(i) for i in range(1, k+1)])\n",
    "\n",
    "    A = np.zeros((k, k))\n",
    "    for i in range(k):\n",
    "        for j in range(k):\n",
    "            A[i, j] = (i+1)**j\n",
    "\n",
    "    return np.round((inv(A) @ B))"
   ]
  },
  {
   "cell_type": "code",
   "execution_count": null,
   "id": "c5197a87-0f61-4509-8ebf-5073a6e2d24c",
   "metadata": {},
   "outputs": [],
   "source": [
    "def get_FIT(f, n, k):\n",
    "\n",
    "    ref = seq(f, n)\n",
    "\n",
    "    coeff = get_coeff(f, k)\n",
    "\n",
    "    for i in range(k, n+1):\n",
    "\n",
    "        fit = 0\n",
    "        \n",
    "        for p, c in enumerate(coeff):\n",
    "            fit += c * i**p \n",
    "        \n",
    "        if fit != ref[i-1]:\n",
    "            return fit\n",
    "    \n",
    "    return 0"
   ]
  },
  {
   "cell_type": "code",
   "execution_count": null,
   "id": "1c0a73a3-4bd4-4739-97a6-ef0c6c8d13ec",
   "metadata": {},
   "outputs": [],
   "source": [
    "d = 10\n",
    "sumFIT = 0\n",
    "f = poly10\n",
    "\n",
    "for i in range(d):\n",
    "    df = get_FIT(f, d+1, i+1)\n",
    "    # print(df)\n",
    "    sumFIT += df\n",
    "\n",
    "print(f'The sum of FITs for the BOPs is {sumFIT:.0f}.')"
   ]
  }
 ],
 "metadata": {
  "language_info": {
   "name": "python",
   "pygments_lexer": "ipython3"
  }
 },
 "nbformat": 4,
 "nbformat_minor": 5
}
