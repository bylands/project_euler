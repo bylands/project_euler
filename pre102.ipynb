{
 "cells": [
  {
   "cell_type": "code",
   "execution_count": null,
   "metadata": {},
   "outputs": [],
   "source": [
    "'''\n",
    "Project Euler Problem 102: Triangle Containment\n",
    "'''"
   ]
  },
  {
   "cell_type": "code",
   "execution_count": null,
   "metadata": {},
   "outputs": [],
   "source": [
    "import csv\n",
    "from math import abs\n",
    "\n",
    "with open('euler_ressources/0102_triangles.txt') as csvfile:\n",
    "    points_list = [[(int(line[0]), int(line[1])), \n",
    "                    (int(line[2]), int(line[3])), \n",
    "                    (int(line[4]), int(line[5]))] for line in csv.reader(csvfile)]"
   ]
  },
  {
   "cell_type": "code",
   "execution_count": null,
   "metadata": {},
   "outputs": [],
   "source": [
    "def is_in_triangle(A: tuple, B: tuple, C:tuple, P: tuple) -> bool:\n",
    "\n",
    "    return area(A, B, P) + area(P, A, C) + area(P, B, C) == area(A, B, C)\n",
    "\n",
    "\n",
    "def area(A: tuple, B: tuple, C: tuple) -> float:\n",
    "    Ax, Ay = A\n",
    "    Bx, By = B\n",
    "    Cx, Cy = C\n",
    "\n",
    "    return abs((Ax*(By-Cy) + Bx*(Cy-Ay) + Cx*(Ay-By))/2)"
   ]
  },
  {
   "cell_type": "code",
   "execution_count": null,
   "metadata": {},
   "outputs": [],
   "source": [
    "total = 0\n",
    "\n",
    "for points in points_list:\n",
    "    a, b, c = points\n",
    "    if is_in_triangle(a, b, c, (0, 0)):\n",
    "        total += 1\n",
    "\n",
    "print(f'There are {total} triangles for which the interior contains the origin.')"
   ]
  },
  {
   "cell_type": "code",
   "execution_count": null,
   "metadata": {},
   "outputs": [],
   "source": []
  }
 ],
 "metadata": {
  "language_info": {
   "name": "python",
   "pygments_lexer": "ipython3"
  }
 },
 "nbformat": 4,
 "nbformat_minor": 2
}
