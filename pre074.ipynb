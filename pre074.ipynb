{
 "cells": [
  {
   "cell_type": "code",
   "execution_count": null,
   "metadata": {},
   "outputs": [],
   "source": [
    "'''\n",
    "Project Euler Problem 074: Digit Factorial Chain\n",
    "'''"
   ]
  },
  {
   "cell_type": "code",
   "execution_count": null,
   "metadata": {},
   "outputs": [],
   "source": [
    "from math import factorial, log10"
   ]
  },
  {
   "cell_type": "code",
   "execution_count": null,
   "metadata": {},
   "outputs": [],
   "source": [
    "def facsum(n):\n",
    "    nstr = str(n)\n",
    "    return sum([factorial(int(i)) for i in nstr])\n",
    "\n",
    "\n",
    "def chain(n):\n",
    "    ch = [n]\n",
    "    while (f:=facsum(ch[-1])) not in ch:\n",
    "        ch.append(f)\n",
    "    # print(ch)\n",
    "    return len(ch)\n",
    "    "
   ]
  },
  {
   "cell_type": "code",
   "execution_count": null,
   "metadata": {},
   "outputs": [],
   "source": [
    "Nmax = 1000000\n",
    "lenmax = 60\n",
    "\n",
    "count = 0\n",
    "\n",
    "for i in range(Nmax):\n",
    "    if chain(i) == lenmax:\n",
    "        count += 1\n",
    "\n",
    "print(f'There are {count} chains with exactly {lenmax} non-repeating terms.')"
   ]
  },
  {
   "cell_type": "code",
   "execution_count": null,
   "metadata": {},
   "outputs": [],
   "source": []
  }
 ],
 "metadata": {
  "language_info": {
   "name": "python",
   "pygments_lexer": "ipython3"
  }
 },
 "nbformat": 4,
 "nbformat_minor": 2
}
