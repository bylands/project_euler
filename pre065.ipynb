{
 "cells": [
  {
   "cell_type": "code",
   "execution_count": null,
   "metadata": {},
   "outputs": [],
   "source": [
    "'''\n",
    "Project Euler Problem 065: Convergents of e\n",
    "'''"
   ]
  },
  {
   "cell_type": "code",
   "execution_count": null,
   "metadata": {},
   "outputs": [],
   "source": [
    "from math import isqrt, e"
   ]
  },
  {
   "cell_type": "code",
   "execution_count": null,
   "metadata": {},
   "outputs": [],
   "source": [
    "def approx(sequence, index=0):\n",
    "    if index < len(sequence)-1:\n",
    "        den, num = approx(sequence, index+1)\n",
    "        return (sequence[index]*den+num, den)\n",
    "    else:\n",
    "        return (sequence[index], 1)\n",
    "\n",
    "\n",
    "def approx_loop(sequence):\n",
    "    num, den = 0, 1\n",
    "    for i in sequence[::-1]:\n",
    "        den, num = i*den+num, den\n",
    "    return den, num\n",
    "\n",
    "def efunc():\n",
    "    i = 0\n",
    "    while True:\n",
    "        if i % 3 == 1:\n",
    "            yield ((i // 3) + 1) * 2\n",
    "        else:\n",
    "            yield 1\n",
    "        i += 1"
   ]
  },
  {
   "cell_type": "code",
   "execution_count": null,
   "metadata": {},
   "outputs": [],
   "source": [
    "N = 100\n",
    "egen = efunc()\n",
    "\n",
    "sequence = [2] + [next(egen) for i in range(1, N)]\n",
    "\n",
    "num, den = approx(sequence)\n",
    "solution = sum(map(int, str(num)))\n",
    "\n",
    "print(f'The sum of digits in the numerator of the {N}th convergent'\n",
    "     +f'of the continued fraction for e is {solution}')"
   ]
  },
  {
   "cell_type": "code",
   "execution_count": null,
   "metadata": {},
   "outputs": [],
   "source": []
  }
 ],
 "metadata": {
  "language_info": {
   "name": "python",
   "pygments_lexer": "ipython3"
  }
 },
 "nbformat": 4,
 "nbformat_minor": 2
}
