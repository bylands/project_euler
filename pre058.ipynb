{
 "cells": [
  {
   "cell_type": "code",
   "execution_count": null,
   "metadata": {},
   "outputs": [],
   "source": [
    "'''\n",
    "Project Euler Problem 058: Spiral Primes\n",
    "'''"
   ]
  },
  {
   "cell_type": "code",
   "execution_count": null,
   "metadata": {},
   "outputs": [],
   "source": [
    "import sympy as sp"
   ]
  },
  {
   "cell_type": "code",
   "execution_count": null,
   "metadata": {},
   "outputs": [],
   "source": [
    "def layer(N):\n",
    "    side = 2*N-1\n",
    "    primes = []\n",
    "    directions = [(0, 1), (-1, 0), (0, -1), (1, 0)]\n",
    "    edges = [(0, 0), (0, side-1), (side-1, 0), (side-1, side-1)]\n",
    "    centre = side // 2\n",
    "\n",
    "    posx, posy = side-1, 1\n",
    "\n",
    "    i = (side-2)**2 + 1\n",
    "\n",
    "    for d in directions:\n",
    "        dx, dy = d\n",
    "        # print(dx*(posx-centre))\n",
    "        while dx*(posx-centre) < side // 2 and dy*(posy-centre) < side // 2:\n",
    "            i += 1\n",
    "            posx += dx\n",
    "            posy += dy\n",
    "            if (posx, posy) in edges:\n",
    "                if sp.isprime(i):\n",
    "                    primes.append(i)\n",
    "    return primes\n",
    "\n",
    "    "
   ]
  },
  {
   "cell_type": "code",
   "execution_count": null,
   "metadata": {},
   "outputs": [],
   "source": [
    "primes = []\n",
    "\n",
    "N = 2\n",
    "\n",
    "while True:\n",
    "    primes += layer_fast(2*N-1)\n",
    "    ratio = len(primes)/(4*N-3)\n",
    "    print(N, ratio)\n",
    "    if ratio < 0.1:\n",
    "        print('result:', N)\n",
    "        break\n",
    "    N += 1\n"
   ]
  },
  {
   "cell_type": "code",
   "execution_count": null,
   "metadata": {},
   "outputs": [],
   "source": [
    "def layer_fast(side):\n",
    "    return [i for i in range(side**2, side**2-4*(side-1), -(side-1)) if sp.isprime(i)]"
   ]
  },
  {
   "cell_type": "code",
   "execution_count": null,
   "metadata": {},
   "outputs": [],
   "source": [
    "layer_fast(7)"
   ]
  },
  {
   "cell_type": "code",
   "execution_count": null,
   "metadata": {},
   "outputs": [],
   "source": []
  }
 ],
 "metadata": {
  "language_info": {
   "name": "python",
   "pygments_lexer": "ipython3"
  }
 },
 "nbformat": 4,
 "nbformat_minor": 2
}
