{
 "cells": [
  {
   "cell_type": "code",
   "execution_count": null,
   "metadata": {},
   "outputs": [],
   "source": [
    "'''\n",
    "Project Euler Problem 028: Number Spiral Diagonals\n",
    "'''"
   ]
  },
  {
   "cell_type": "code",
   "execution_count": null,
   "metadata": {},
   "outputs": [],
   "source": [
    "N = 10001\n",
    "\n",
    "square = [[[] for _ in range(N)] for _ in range(N)]\n",
    "centre = N // 2\n",
    "step = 1\n",
    "directions = [(0, 1), (1, 0), (0, -1), (-1, 0)]\n",
    "\n",
    "posx, posy = centre, centre\n",
    "square[posx][posy] = 1\n",
    "\n",
    "i = 1\n",
    "\n",
    "while not (posx == N-1 and posy == 0):\n",
    "    for d in directions:\n",
    "        dy, dx = d\n",
    "        while (dx*(posx-centre) < step and dy*(posy-centre) < step):\n",
    "            if posx == N-1 and posy == 0:\n",
    "                break\n",
    "            posx += dx\n",
    "            posy += dy\n",
    "            square[posy][posx] = i+1\n",
    "            i += 1\n",
    "    step += 1\n",
    "\n",
    "diag1 = 0\n",
    "diag2 = 0\n",
    "\n",
    "for i in range(N):\n",
    "    diag1 += square[i][i]\n",
    "    diag2 += square[N-i-1][i]\n",
    "\n",
    "print(diag1+diag2-1)\n"
   ]
  },
  {
   "cell_type": "code",
   "execution_count": null,
   "metadata": {},
   "outputs": [],
   "source": []
  }
 ],
 "metadata": {
  "language_info": {
   "name": "python",
   "pygments_lexer": "ipython3"
  }
 },
 "nbformat": 4,
 "nbformat_minor": 2
}
