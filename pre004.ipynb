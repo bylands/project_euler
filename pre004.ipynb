{
 "cells": [
  {
   "cell_type": "code",
   "execution_count": null,
   "metadata": {},
   "outputs": [],
   "source": [
    "'''\n",
    "Project Euler Problem 004: Largest Palindrom Product\n",
    "'''"
   ]
  },
  {
   "cell_type": "code",
   "execution_count": null,
   "metadata": {},
   "outputs": [],
   "source": [
    "palindromes = []\n",
    "\n",
    "for i in range(999, 99, -1):\n",
    "    for j in range(i, 99, -1):\n",
    "        test = i * j\n",
    "        if str(test) == str(test)[::-1]:\n",
    "            print(f'{test} = {i} x {j}')\n",
    "            palindromes.append(test)\n",
    "\n",
    "print(f'largest palindrome product: {max(palindromes)}')\n",
    "print(f'number of palindrome products: {len(palindromes)}')"
   ]
  },
  {
   "cell_type": "code",
   "execution_count": null,
   "metadata": {},
   "outputs": [],
   "source": []
  }
 ],
 "metadata": {
  "language_info": {
   "name": "python",
   "pygments_lexer": "ipython3"
  }
 },
 "nbformat": 4,
 "nbformat_minor": 2
}
