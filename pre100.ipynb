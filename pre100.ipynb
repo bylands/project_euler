{
 "cells": [
  {
   "cell_type": "code",
   "execution_count": null,
   "metadata": {},
   "outputs": [],
   "source": [
    "'''\n",
    "Project Euler Problem 100: Arranged Probability\n",
    "'''"
   ]
  },
  {
   "cell_type": "code",
   "execution_count": null,
   "metadata": {},
   "outputs": [],
   "source": [
    "from math import isqrt"
   ]
  },
  {
   "cell_type": "code",
   "execution_count": null,
   "metadata": {},
   "outputs": [],
   "source": [
    "x, y = 1, 1\n",
    "\n",
    "t = 1\n",
    "\n",
    "while t < 1e12:\n",
    "    x, y = 3*x + 4*y, 2*x + 3*y\n",
    "    t = (x+1)//2\n",
    "\n",
    "b = (isqrt(1+2*t*(t-1)) + 1)//2\n",
    "\n",
    "print(f'There must be {b} blue and {t-b} red discs')"
   ]
  },
  {
   "cell_type": "code",
   "execution_count": null,
   "metadata": {},
   "outputs": [],
   "source": []
  }
 ],
 "metadata": {
  "language_info": {
   "name": "python",
   "pygments_lexer": "ipython3"
  }
 },
 "nbformat": 4,
 "nbformat_minor": 4
}
