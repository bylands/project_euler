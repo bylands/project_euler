{
 "cells": [
  {
   "cell_type": "code",
   "execution_count": null,
   "metadata": {},
   "outputs": [],
   "source": [
    "'''\n",
    "Project Euler Problem 094: Almost Equilateral Triangles\n",
    "'''"
   ]
  },
  {
   "cell_type": "code",
   "execution_count": null,
   "metadata": {},
   "outputs": [],
   "source": [
    "from math import isqrt, sqrt"
   ]
  },
  {
   "cell_type": "code",
   "execution_count": null,
   "metadata": {},
   "outputs": [],
   "source": [
    "def is_square(n: int) -> bool:\n",
    "    if isqrt(n)**2 == n:\n",
    "        return True\n",
    "    else:\n",
    "        return False\n",
    "    \n",
    "\n",
    "def is_right_1(n: int) -> bool:\n",
    "    test = (3*n + 1)*(n - 1)\n",
    "    if not (test % 4) and is_square(test):\n",
    "        return True\n",
    "    \n",
    "    return False\n",
    "\n",
    "\n",
    "def is_right_2(n: int) -> bool:\n",
    "    test = (3*n - 1)*(n + 1)\n",
    "    if not (test % 4) and is_square(test):\n",
    "        return True\n",
    "    \n",
    "    return False\n",
    "\n",
    "\n",
    "def area(a: int, b: int, c: int) -> int:\n",
    "    s = (a+b+c)//2\n",
    "    A = isqrt(s * (s-a) * (s-b) * (s-c))\n",
    "    return A\n",
    "\n",
    "\n",
    "def areaf(a: int, b: int, c: int) -> float:\n",
    "    s = (a+b+c)/2\n",
    "    A = sqrt(s * (s-a) * (s-b) * (s-c))\n",
    "    return A\n",
    "\n",
    "\n",
    "def perimeter(n: int) -> int:\n",
    "    return 3*n + 1"
   ]
  },
  {
   "cell_type": "code",
   "execution_count": null,
   "metadata": {},
   "outputs": [],
   "source": [
    "rights = []\n",
    "\n",
    "for n in range(3, 333_333_334, 2):\n",
    "    if is_right_1(n):\n",
    "        rights.append(n)\n",
    "    if is_right_2(n):\n",
    "        rights.append(n)\n",
    "\n",
    "print(rights)\n",
    "\n",
    "solution = sum([3*n+1 for n in rights])"
   ]
  },
  {
   "cell_type": "code",
   "execution_count": null,
   "metadata": {},
   "outputs": [],
   "source": [
    "solution"
   ]
  },
  {
   "cell_type": "code",
   "execution_count": null,
   "metadata": {},
   "outputs": [],
   "source": [
    "area(17, 17, 16)"
   ]
  },
  {
   "cell_type": "code",
   "execution_count": null,
   "metadata": {},
   "outputs": [],
   "source": [
    "for n in rights:\n",
    "    print(n, perimeter(n))"
   ]
  },
  {
   "cell_type": "code",
   "execution_count": null,
   "metadata": {},
   "outputs": [],
   "source": [
    "area(17)"
   ]
  },
  {
   "cell_type": "code",
   "execution_count": null,
   "metadata": {},
   "outputs": [],
   "source": [
    "for n in range(1, 20):\n",
    "    print(n, areaf(n, n, n-1))"
   ]
  },
  {
   "cell_type": "code",
   "execution_count": null,
   "metadata": {},
   "outputs": [],
   "source": [
    "for n in range(1, 20, 2):\n",
    "    print(n, (3*n+1)*(n-1))"
   ]
  },
  {
   "cell_type": "code",
   "execution_count": null,
   "metadata": {},
   "outputs": [],
   "source": []
  }
 ],
 "metadata": {
  "language_info": {
   "name": "python",
   "pygments_lexer": "ipython3"
  }
 },
 "nbformat": 4,
 "nbformat_minor": 2
}
