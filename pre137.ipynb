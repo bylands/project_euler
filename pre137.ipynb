{
 "cells": [
  {
   "cell_type": "code",
   "execution_count": null,
   "id": "a0a2d10e-7780-493d-bde5-4e3a5b008545",
   "metadata": {},
   "outputs": [],
   "source": [
    "from math import isqrt"
   ]
  },
  {
   "cell_type": "code",
   "execution_count": null,
   "id": "d8d3f1cd-3e94-4b06-bcd6-a9b649efd118",
   "metadata": {},
   "outputs": [],
   "source": [
    "def is_square(n):\n",
    "    sqn = int(n**0.5)\n",
    "    for i in range(sqn, sqn+3):\n",
    "        if i**2 == n:\n",
    "            return i\n",
    "    return False"
   ]
  },
  {
   "cell_type": "code",
   "execution_count": null,
   "id": "b3248fa8-e712-4dcd-94d5-724997d86ed6",
   "metadata": {},
   "outputs": [],
   "source": [
    "counter = 0\n",
    "n = 0\n",
    "limit = 8\n",
    "\n",
    "while counter < limit:\n",
    "    n += 1\n",
    "    test = 5*n*n + 2*n + 1\n",
    "    if i:=is_square(test):\n",
    "        num = (-(n+1) + isqrt(test))\n",
    "        den = 2*n\n",
    "\n",
    "        print(n, num, den)\n",
    "        counter += 1"
   ]
  },
  {
   "cell_type": "code",
   "execution_count": null,
   "id": "eef96142-5b3e-4a50-b86c-5af69b2c14e4",
   "metadata": {},
   "outputs": [],
   "source": [
    "def get_nugget(limit):\n",
    "    a, b, c = 1, 4, 2\n",
    "    n0, num0, den0 = 0, 0, 0\n",
    "    n, num, den = 2, 2, 4\n",
    "\n",
    "    for i in range(limit-1):\n",
    "        n1 = 7 * n - (n0 - a)\n",
    "        num1 = 7 * num - (num0 - b)\n",
    "        den1 = 7 * den - (den0 - c)\n",
    "\n",
    "        n0, num0, den0 = n, num, den\n",
    "        n, num, den = n1, num1, den1\n",
    "\n",
    "    return n, num, den"
   ]
  },
  {
   "cell_type": "code",
   "execution_count": null,
   "id": "f4b118eb-d8d7-447a-9631-ceb74ecf9cbc",
   "metadata": {},
   "outputs": [],
   "source": [
    "limit = 15\n",
    "\n",
    "print(f'The {limit}th Fibonacci nuggets is {get_nugget(limit)[0]}')\n",
    "    "
   ]
  },
  {
   "cell_type": "code",
   "execution_count": null,
   "id": "25365c82-bf7a-4d23-827e-e5dead298709",
   "metadata": {},
   "outputs": [],
   "source": []
  }
 ],
 "metadata": {
  "language_info": {
   "name": "python",
   "pygments_lexer": "ipython3"
  }
 },
 "nbformat": 4,
 "nbformat_minor": 5
}
