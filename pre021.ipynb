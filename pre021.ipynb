{
 "cells": [
  {
   "cell_type": "code",
   "execution_count": null,
   "metadata": {},
   "outputs": [],
   "source": [
    "'''\n",
    "Project Euler Problem 021: Amicable Numbers\n",
    "'''"
   ]
  },
  {
   "cell_type": "code",
   "execution_count": null,
   "metadata": {},
   "outputs": [],
   "source": [
    "import sympy as sp"
   ]
  },
  {
   "cell_type": "code",
   "execution_count": null,
   "metadata": {},
   "outputs": [],
   "source": [
    "def d(n):\n",
    "    return sum(sp.divisors(n)[:-1])"
   ]
  },
  {
   "cell_type": "code",
   "execution_count": null,
   "metadata": {},
   "outputs": [],
   "source": [
    "N = 50000\n",
    "\n",
    "dlist = {i: d(i) for i in range(2, N)}\n",
    "\n",
    "candidates = [key for key in dlist if key in dlist.values()]\n",
    "\n",
    "amicables = [c for c in candidates if c == d(d(c)) and c != d(c)]\n",
    "\n",
    "solution = sum(amicables)\n",
    "\n",
    "print(f'There are {len(amicables)} amicable numbers under {N}')\n",
    "print(f'Their sum is {solution}')"
   ]
  },
  {
   "cell_type": "code",
   "execution_count": null,
   "metadata": {},
   "outputs": [],
   "source": []
  }
 ],
 "metadata": {
  "language_info": {
   "name": "python",
   "pygments_lexer": "ipython3"
  }
 },
 "nbformat": 4,
 "nbformat_minor": 2
}
