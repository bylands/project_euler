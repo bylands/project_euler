{
 "cells": [
  {
   "cell_type": "code",
   "execution_count": null,
   "id": "535099d3-2d72-478b-82d4-8fdaffbce053",
   "metadata": {},
   "outputs": [],
   "source": [
    "import numpy as np"
   ]
  },
  {
   "cell_type": "code",
   "execution_count": null,
   "id": "d8d3f1cd-3e94-4b06-bcd6-a9b649efd118",
   "metadata": {},
   "outputs": [],
   "source": [
    "n = 15\n",
    "\n",
    "m = np.arange(n)\n",
    "path = {i+1: [] for i in range(n)}\n",
    "path2 = {1:{}}\n",
    "path2[2] = {1:{}}\n",
    "\n",
    "path[2] = [(1, 1, 1)]\n",
    "\n",
    "for i in range(3, n+1):\n",
    "    for j in range(1, i//2+1):\n",
    "        k = i - j\n",
    "        if j == k:\n",
    "            trial = m[j-1] + 1\n",
    "        else:\n",
    "            trial = m[j-1] + m[k-1] + 1\n",
    "            \n",
    "        path[i].append((int(trial), j, k))    \n",
    "        \n",
    "        if trial < m[i-1]:\n",
    "            m[i-1] = trial\n",
    "\n",
    "    path[i] = [n for n in path[i] if n[0] == m[i-1]]"
   ]
  },
  {
   "cell_type": "code",
   "execution_count": null,
   "id": "b3248fa8-e712-4dcd-94d5-724997d86ed6",
   "metadata": {},
   "outputs": [],
   "source": [
    "m"
   ]
  },
  {
   "cell_type": "code",
   "execution_count": null,
   "id": "0cd36f75-4783-4b53-b64f-4fefbf953b64",
   "metadata": {},
   "outputs": [],
   "source": [
    "path2"
   ]
  },
  {
   "cell_type": "code",
   "execution_count": null,
   "id": "9385a0a2-182b-41eb-b415-6f71e825a4be",
   "metadata": {},
   "outputs": [],
   "source": []
  }
 ],
 "metadata": {
  "language_info": {
   "name": "python",
   "pygments_lexer": "ipython3"
  }
 },
 "nbformat": 4,
 "nbformat_minor": 5
}
