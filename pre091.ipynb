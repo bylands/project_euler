{
 "cells": [
  {
   "cell_type": "code",
   "execution_count": null,
   "metadata": {},
   "outputs": [],
   "source": [
    "'''\n",
    "Project Euler Problem 091: Right Triangles with Integer Coordinates\n",
    "'''"
   ]
  },
  {
   "cell_type": "code",
   "execution_count": null,
   "metadata": {},
   "outputs": [],
   "source": [
    "def is_right(x1, y1, x2, y2):\n",
    "    square_lengths = sorted([x1**2+y1**2, x2**2+y2**2, (x2-x1)**2+(y2-y1)**2])\n",
    "    if 0 in square_lengths:\n",
    "        return False\n",
    "    return square_lengths[0] + square_lengths[1] == square_lengths[2]"
   ]
  },
  {
   "cell_type": "code",
   "execution_count": null,
   "metadata": {},
   "outputs": [],
   "source": [
    "sides = 50\n",
    "upper = sides + 1\n",
    "\n",
    "total = 0\n",
    "\n",
    "for x1 in range(upper):\n",
    "    for y1 in range(1, upper):\n",
    "        for x2 in range(max(1, x1), upper):\n",
    "            for y2 in range(y1+1):\n",
    "                total += is_right(x1, y1, x2, y2)\n",
    "\n",
    "print(f'There are {total} right triangles with integer coordinates in a {sides}x{sides} grid.')\n",
    "\n",
    "\n"
   ]
  },
  {
   "cell_type": "code",
   "execution_count": null,
   "metadata": {},
   "outputs": [],
   "source": []
  }
 ],
 "metadata": {
  "language_info": {
   "name": "python",
   "pygments_lexer": "ipython3"
  }
 },
 "nbformat": 4,
 "nbformat_minor": 2
}
